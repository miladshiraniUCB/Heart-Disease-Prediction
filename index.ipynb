{
 "cells": [
  {
   "cell_type": "markdown",
   "metadata": {},
   "source": [
    "# Introduction\n",
    "\n",
    "In this project by using the available data from [kaggle.com](https://www.kaggle.com/code/andls555/heart-disease-prediction/data) we try to create a model to predict if a person will have heart disease in future or not. "
   ]
  },
  {
   "cell_type": "code",
   "execution_count": 37,
   "metadata": {
    "_cell_guid": "b1076dfc-b9ad-4769-8c92-a6c4dae69d19",
    "_uuid": "8f2839f25d086af736a60e9eeb907d3b93b6e0e5",
    "execution": {
     "iopub.execute_input": "2022-04-01T05:29:42.639045Z",
     "iopub.status.busy": "2022-04-01T05:29:42.638678Z",
     "iopub.status.idle": "2022-04-01T05:29:42.673313Z",
     "shell.execute_reply": "2022-04-01T05:29:42.672473Z",
     "shell.execute_reply.started": "2022-04-01T05:29:42.638959Z"
    }
   },
   "outputs": [],
   "source": [
    "# # This Python 3 environment comes with many helpful analytics libraries installed\n",
    "# # It is defined by the kaggle/python Docker image: https://github.com/kaggle/docker-python\n",
    "# # For example, here's several helpful packages to load\n",
    "\n",
    "# import numpy as np # linear algebra\n",
    "# import pandas as pd # data processing, CSV file I/O (e.g. pd.read_csv)\n",
    "\n",
    "# # Input data files are available in the read-only \"../input/\" directory\n",
    "# # For example, running this (by clicking run or pressing Shift+Enter) will list all files under the input directory\n",
    "\n",
    "# import os\n",
    "# for dirname, _, filenames in os.walk('/kaggle/input'):\n",
    "#     for filename in filenames:\n",
    "#         print(os.path.join(dirname, filename))\n",
    "\n",
    "# # You can write up to 20GB to the current directory (/kaggle/working/) that gets preserved as output when you create a version using \"Save & Run All\" \n",
    "# # You can also write temporary files to /kaggle/temp/, but they won't be saved outside of the current session"
   ]
  },
  {
   "cell_type": "markdown",
   "metadata": {},
   "source": [
    "# Importing Data and Libraries we use "
   ]
  },
  {
   "cell_type": "code",
   "execution_count": 65,
   "metadata": {
    "execution": {
     "iopub.execute_input": "2022-04-01T05:32:51.626414Z",
     "iopub.status.busy": "2022-04-01T05:32:51.626113Z",
     "iopub.status.idle": "2022-04-01T05:32:51.632084Z",
     "shell.execute_reply": "2022-04-01T05:32:51.631552Z",
     "shell.execute_reply.started": "2022-04-01T05:32:51.626381Z"
    }
   },
   "outputs": [],
   "source": [
    "import numpy as np\n",
    "import pandas as pd\n",
    "from sklearn.metrics import accuracy_score, roc_curve, auc, plot_roc_curve\n",
    "from sklearn.model_selection import GridSearchCV, train_test_split\n",
    "from sklearn.preprocessing import OneHotEncoder, StandardScaler\n",
    "from sklearn.model_selection import train_test_split\n",
    "from sklearn.ensemble import RandomForestClassifier\n",
    "\n",
    "\n",
    "\n",
    "\n",
    "from imblearn.over_sampling import SMOTE, ADASYN\n",
    "\n",
    "\n",
    "# from xgboost import XGBClassifier\n",
    "import xgboost as xgb\n",
    "\n",
    "import matplotlib.pyplot as plt\n",
    "import seaborn as sns\n",
    "\n",
    "import warnings\n",
    "warnings.filterwarnings('ignore')\n"
   ]
  },
  {
   "cell_type": "code",
   "execution_count": 39,
   "metadata": {
    "execution": {
     "iopub.execute_input": "2022-04-01T05:32:53.496694Z",
     "iopub.status.busy": "2022-04-01T05:32:53.496050Z",
     "iopub.status.idle": "2022-04-01T05:32:54.189301Z",
     "shell.execute_reply": "2022-04-01T05:32:54.188610Z",
     "shell.execute_reply.started": "2022-04-01T05:32:53.496661Z"
    }
   },
   "outputs": [
    {
     "data": {
      "text/html": [
       "<div>\n",
       "<style scoped>\n",
       "    .dataframe tbody tr th:only-of-type {\n",
       "        vertical-align: middle;\n",
       "    }\n",
       "\n",
       "    .dataframe tbody tr th {\n",
       "        vertical-align: top;\n",
       "    }\n",
       "\n",
       "    .dataframe thead th {\n",
       "        text-align: right;\n",
       "    }\n",
       "</style>\n",
       "<table border=\"1\" class=\"dataframe\">\n",
       "  <thead>\n",
       "    <tr style=\"text-align: right;\">\n",
       "      <th></th>\n",
       "      <th>HeartDisease</th>\n",
       "      <th>BMI</th>\n",
       "      <th>Smoking</th>\n",
       "      <th>AlcoholDrinking</th>\n",
       "      <th>Stroke</th>\n",
       "      <th>PhysicalHealth</th>\n",
       "      <th>MentalHealth</th>\n",
       "      <th>DiffWalking</th>\n",
       "      <th>Sex</th>\n",
       "      <th>AgeCategory</th>\n",
       "      <th>Race</th>\n",
       "      <th>Diabetic</th>\n",
       "      <th>PhysicalActivity</th>\n",
       "      <th>GenHealth</th>\n",
       "      <th>SleepTime</th>\n",
       "      <th>Asthma</th>\n",
       "      <th>KidneyDisease</th>\n",
       "      <th>SkinCancer</th>\n",
       "    </tr>\n",
       "  </thead>\n",
       "  <tbody>\n",
       "    <tr>\n",
       "      <th>0</th>\n",
       "      <td>No</td>\n",
       "      <td>16.60</td>\n",
       "      <td>Yes</td>\n",
       "      <td>No</td>\n",
       "      <td>No</td>\n",
       "      <td>3.0</td>\n",
       "      <td>30.0</td>\n",
       "      <td>No</td>\n",
       "      <td>Female</td>\n",
       "      <td>55-59</td>\n",
       "      <td>White</td>\n",
       "      <td>Yes</td>\n",
       "      <td>Yes</td>\n",
       "      <td>Very good</td>\n",
       "      <td>5.0</td>\n",
       "      <td>Yes</td>\n",
       "      <td>No</td>\n",
       "      <td>Yes</td>\n",
       "    </tr>\n",
       "    <tr>\n",
       "      <th>1</th>\n",
       "      <td>No</td>\n",
       "      <td>20.34</td>\n",
       "      <td>No</td>\n",
       "      <td>No</td>\n",
       "      <td>Yes</td>\n",
       "      <td>0.0</td>\n",
       "      <td>0.0</td>\n",
       "      <td>No</td>\n",
       "      <td>Female</td>\n",
       "      <td>80 or older</td>\n",
       "      <td>White</td>\n",
       "      <td>No</td>\n",
       "      <td>Yes</td>\n",
       "      <td>Very good</td>\n",
       "      <td>7.0</td>\n",
       "      <td>No</td>\n",
       "      <td>No</td>\n",
       "      <td>No</td>\n",
       "    </tr>\n",
       "    <tr>\n",
       "      <th>2</th>\n",
       "      <td>No</td>\n",
       "      <td>26.58</td>\n",
       "      <td>Yes</td>\n",
       "      <td>No</td>\n",
       "      <td>No</td>\n",
       "      <td>20.0</td>\n",
       "      <td>30.0</td>\n",
       "      <td>No</td>\n",
       "      <td>Male</td>\n",
       "      <td>65-69</td>\n",
       "      <td>White</td>\n",
       "      <td>Yes</td>\n",
       "      <td>Yes</td>\n",
       "      <td>Fair</td>\n",
       "      <td>8.0</td>\n",
       "      <td>Yes</td>\n",
       "      <td>No</td>\n",
       "      <td>No</td>\n",
       "    </tr>\n",
       "    <tr>\n",
       "      <th>3</th>\n",
       "      <td>No</td>\n",
       "      <td>24.21</td>\n",
       "      <td>No</td>\n",
       "      <td>No</td>\n",
       "      <td>No</td>\n",
       "      <td>0.0</td>\n",
       "      <td>0.0</td>\n",
       "      <td>No</td>\n",
       "      <td>Female</td>\n",
       "      <td>75-79</td>\n",
       "      <td>White</td>\n",
       "      <td>No</td>\n",
       "      <td>No</td>\n",
       "      <td>Good</td>\n",
       "      <td>6.0</td>\n",
       "      <td>No</td>\n",
       "      <td>No</td>\n",
       "      <td>Yes</td>\n",
       "    </tr>\n",
       "    <tr>\n",
       "      <th>4</th>\n",
       "      <td>No</td>\n",
       "      <td>23.71</td>\n",
       "      <td>No</td>\n",
       "      <td>No</td>\n",
       "      <td>No</td>\n",
       "      <td>28.0</td>\n",
       "      <td>0.0</td>\n",
       "      <td>Yes</td>\n",
       "      <td>Female</td>\n",
       "      <td>40-44</td>\n",
       "      <td>White</td>\n",
       "      <td>No</td>\n",
       "      <td>Yes</td>\n",
       "      <td>Very good</td>\n",
       "      <td>8.0</td>\n",
       "      <td>No</td>\n",
       "      <td>No</td>\n",
       "      <td>No</td>\n",
       "    </tr>\n",
       "  </tbody>\n",
       "</table>\n",
       "</div>"
      ],
      "text/plain": [
       "  HeartDisease    BMI Smoking AlcoholDrinking Stroke  PhysicalHealth  \\\n",
       "0           No  16.60     Yes              No     No             3.0   \n",
       "1           No  20.34      No              No    Yes             0.0   \n",
       "2           No  26.58     Yes              No     No            20.0   \n",
       "3           No  24.21      No              No     No             0.0   \n",
       "4           No  23.71      No              No     No            28.0   \n",
       "\n",
       "   MentalHealth DiffWalking     Sex  AgeCategory   Race Diabetic  \\\n",
       "0          30.0          No  Female        55-59  White      Yes   \n",
       "1           0.0          No  Female  80 or older  White       No   \n",
       "2          30.0          No    Male        65-69  White      Yes   \n",
       "3           0.0          No  Female        75-79  White       No   \n",
       "4           0.0         Yes  Female        40-44  White       No   \n",
       "\n",
       "  PhysicalActivity  GenHealth  SleepTime Asthma KidneyDisease SkinCancer  \n",
       "0              Yes  Very good        5.0    Yes            No        Yes  \n",
       "1              Yes  Very good        7.0     No            No         No  \n",
       "2              Yes       Fair        8.0    Yes            No         No  \n",
       "3               No       Good        6.0     No            No        Yes  \n",
       "4              Yes  Very good        8.0     No            No         No  "
      ]
     },
     "execution_count": 39,
     "metadata": {},
     "output_type": "execute_result"
    }
   ],
   "source": [
    "df = pd.read_csv(\"heart_2020_cleaned.csv\")\n",
    "df.head()\n"
   ]
  },
  {
   "cell_type": "code",
   "execution_count": 40,
   "metadata": {
    "execution": {
     "iopub.execute_input": "2022-04-01T05:32:55.285207Z",
     "iopub.status.busy": "2022-04-01T05:32:55.284942Z",
     "iopub.status.idle": "2022-04-01T05:32:55.769669Z",
     "shell.execute_reply": "2022-04-01T05:32:55.768806Z",
     "shell.execute_reply.started": "2022-04-01T05:32:55.285179Z"
    }
   },
   "outputs": [
    {
     "name": "stdout",
     "output_type": "stream",
     "text": [
      "<class 'pandas.core.frame.DataFrame'>\n",
      "RangeIndex: 319795 entries, 0 to 319794\n",
      "Data columns (total 18 columns):\n",
      " #   Column            Non-Null Count   Dtype  \n",
      "---  ------            --------------   -----  \n",
      " 0   HeartDisease      319795 non-null  object \n",
      " 1   BMI               319795 non-null  float64\n",
      " 2   Smoking           319795 non-null  object \n",
      " 3   AlcoholDrinking   319795 non-null  object \n",
      " 4   Stroke            319795 non-null  object \n",
      " 5   PhysicalHealth    319795 non-null  float64\n",
      " 6   MentalHealth      319795 non-null  float64\n",
      " 7   DiffWalking       319795 non-null  object \n",
      " 8   Sex               319795 non-null  object \n",
      " 9   AgeCategory       319795 non-null  object \n",
      " 10  Race              319795 non-null  object \n",
      " 11  Diabetic          319795 non-null  object \n",
      " 12  PhysicalActivity  319795 non-null  object \n",
      " 13  GenHealth         319795 non-null  object \n",
      " 14  SleepTime         319795 non-null  float64\n",
      " 15  Asthma            319795 non-null  object \n",
      " 16  KidneyDisease     319795 non-null  object \n",
      " 17  SkinCancer        319795 non-null  object \n",
      "dtypes: float64(4), object(14)\n",
      "memory usage: 43.9+ MB\n"
     ]
    }
   ],
   "source": [
    "df.info()"
   ]
  },
  {
   "cell_type": "code",
   "execution_count": 41,
   "metadata": {
    "execution": {
     "iopub.execute_input": "2022-04-01T05:32:56.409780Z",
     "iopub.status.busy": "2022-04-01T05:32:56.409157Z",
     "iopub.status.idle": "2022-04-01T05:32:56.889192Z",
     "shell.execute_reply": "2022-04-01T05:32:56.888171Z",
     "shell.execute_reply.started": "2022-04-01T05:32:56.409737Z"
    }
   },
   "outputs": [
    {
     "data": {
      "text/plain": [
       "HeartDisease        0\n",
       "BMI                 0\n",
       "Smoking             0\n",
       "AlcoholDrinking     0\n",
       "Stroke              0\n",
       "PhysicalHealth      0\n",
       "MentalHealth        0\n",
       "DiffWalking         0\n",
       "Sex                 0\n",
       "AgeCategory         0\n",
       "Race                0\n",
       "Diabetic            0\n",
       "PhysicalActivity    0\n",
       "GenHealth           0\n",
       "SleepTime           0\n",
       "Asthma              0\n",
       "KidneyDisease       0\n",
       "SkinCancer          0\n",
       "dtype: int64"
      ]
     },
     "execution_count": 41,
     "metadata": {},
     "output_type": "execute_result"
    }
   ],
   "source": [
    "df.isna().sum()"
   ]
  },
  {
   "cell_type": "code",
   "execution_count": 42,
   "metadata": {
    "execution": {
     "iopub.execute_input": "2022-04-01T05:32:58.234348Z",
     "iopub.status.busy": "2022-04-01T05:32:58.234035Z",
     "iopub.status.idle": "2022-04-01T05:32:59.031011Z",
     "shell.execute_reply": "2022-04-01T05:32:59.030188Z",
     "shell.execute_reply.started": "2022-04-01T05:32:58.234316Z"
    }
   },
   "outputs": [
    {
     "data": {
      "image/png": "[encoded data removed]",
      "text/plain": [
       "<Figure size 504x504 with 1 Axes>"
      ]
     },
     "metadata": {
      "needs_background": "light"
     },
     "output_type": "display_data"
    }
   ],
   "source": [
    "plt.figure(figsize=(7,7))\n",
    "sns.countplot(data=df,x=\"HeartDisease\",hue=\"Asthma\");"
   ]
  },
  {
   "cell_type": "code",
   "execution_count": 43,
   "metadata": {
    "execution": {
     "iopub.execute_input": "2022-04-01T05:32:59.640189Z",
     "iopub.status.busy": "2022-04-01T05:32:59.639577Z",
     "iopub.status.idle": "2022-04-01T05:33:00.438538Z",
     "shell.execute_reply": "2022-04-01T05:33:00.437700Z",
     "shell.execute_reply.started": "2022-04-01T05:32:59.640137Z"
    }
   },
   "outputs": [
    {
     "data": {
      "image/png": "[encoded data removed]",
      "text/plain": [
       "<Figure size 504x504 with 1 Axes>"
      ]
     },
     "metadata": {
      "needs_background": "light"
     },
     "output_type": "display_data"
    }
   ],
   "source": [
    "plt.figure(figsize=(7,7))\n",
    "sns.countplot(data=df,x=\"HeartDisease\",hue=\"KidneyDisease\");"
   ]
  },
  {
   "cell_type": "code",
   "execution_count": 44,
   "metadata": {
    "execution": {
     "iopub.execute_input": "2022-04-01T05:33:00.879319Z",
     "iopub.status.busy": "2022-04-01T05:33:00.878704Z",
     "iopub.status.idle": "2022-04-01T05:33:01.666230Z",
     "shell.execute_reply": "2022-04-01T05:33:01.665423Z",
     "shell.execute_reply.started": "2022-04-01T05:33:00.879281Z"
    }
   },
   "outputs": [
    {
     "data": {
      "image/png": "[encoded data removed]",
      "text/plain": [
       "<Figure size 504x504 with 1 Axes>"
      ]
     },
     "metadata": {
      "needs_background": "light"
     },
     "output_type": "display_data"
    }
   ],
   "source": [
    "plt.figure(figsize=(7,7))\n",
    "sns.countplot(data=df,x=\"HeartDisease\",hue=\"Stroke\");"
   ]
  },
  {
   "cell_type": "code",
   "execution_count": 45,
   "metadata": {
    "execution": {
     "iopub.execute_input": "2022-04-01T05:33:03.458599Z",
     "iopub.status.busy": "2022-04-01T05:33:03.457802Z",
     "iopub.status.idle": "2022-04-01T05:33:04.252030Z",
     "shell.execute_reply": "2022-04-01T05:33:04.251224Z",
     "shell.execute_reply.started": "2022-04-01T05:33:03.458543Z"
    }
   },
   "outputs": [
    {
     "data": {
      "image/png": "[encoded data removed]",
      "text/plain": [
       "<Figure size 504x504 with 1 Axes>"
      ]
     },
     "metadata": {
      "needs_background": "light"
     },
     "output_type": "display_data"
    }
   ],
   "source": [
    "plt.figure(figsize=(7,7))\n",
    "sns.countplot(data=df,x=\"HeartDisease\",hue=\"SkinCancer\");"
   ]
  },
  {
   "cell_type": "code",
   "execution_count": 46,
   "metadata": {
    "execution": {
     "iopub.execute_input": "2022-04-01T05:33:12.876862Z",
     "iopub.status.busy": "2022-04-01T05:33:12.876571Z",
     "iopub.status.idle": "2022-04-01T05:33:13.672047Z",
     "shell.execute_reply": "2022-04-01T05:33:13.671271Z",
     "shell.execute_reply.started": "2022-04-01T05:33:12.876831Z"
    }
   },
   "outputs": [
    {
     "data": {
      "image/png": "[encoded data removed]",
      "text/plain": [
       "<Figure size 504x504 with 1 Axes>"
      ]
     },
     "metadata": {
      "needs_background": "light"
     },
     "output_type": "display_data"
    }
   ],
   "source": [
    "plt.figure(figsize=(7,7))\n",
    "sns.countplot(data=df,x=\"HeartDisease\",hue=\"DiffWalking\");"
   ]
  },
  {
   "cell_type": "code",
   "execution_count": 47,
   "metadata": {
    "execution": {
     "iopub.execute_input": "2022-04-01T05:30:35.319063Z",
     "iopub.status.busy": "2022-04-01T05:30:35.318775Z",
     "iopub.status.idle": "2022-04-01T05:30:35.322746Z",
     "shell.execute_reply": "2022-04-01T05:30:35.321925Z",
     "shell.execute_reply.started": "2022-04-01T05:30:35.319031Z"
    }
   },
   "outputs": [],
   "source": [
    "# plt.figure(figsize=(7,7))\n",
    "# sns.countplot(data=df,x=\"HeartDisease\",hue=\"MentalHealth\")"
   ]
  },
  {
   "cell_type": "code",
   "execution_count": 48,
   "metadata": {},
   "outputs": [
    {
     "data": {
      "image/png": "[encoded data removed]",
      "text/plain": [
       "<Figure size 504x504 with 1 Axes>"
      ]
     },
     "metadata": {
      "needs_background": "light"
     },
     "output_type": "display_data"
    }
   ],
   "source": [
    "plt.figure(figsize=(7,7))\n",
    "sns.histplot(df[\"BMI\"])\n",
    "plt.show()"
   ]
  },
  {
   "cell_type": "markdown",
   "metadata": {},
   "source": [
    "# Data Preparation "
   ]
  },
  {
   "cell_type": "code",
   "execution_count": 49,
   "metadata": {
    "execution": {
     "iopub.execute_input": "2022-04-01T05:33:23.392837Z",
     "iopub.status.busy": "2022-04-01T05:33:23.392555Z",
     "iopub.status.idle": "2022-04-01T05:33:23.822606Z",
     "shell.execute_reply": "2022-04-01T05:33:23.821657Z",
     "shell.execute_reply.started": "2022-04-01T05:33:23.392807Z"
    }
   },
   "outputs": [
    {
     "data": {
      "text/html": [
       "<div>\n",
       "<style scoped>\n",
       "    .dataframe tbody tr th:only-of-type {\n",
       "        vertical-align: middle;\n",
       "    }\n",
       "\n",
       "    .dataframe tbody tr th {\n",
       "        vertical-align: top;\n",
       "    }\n",
       "\n",
       "    .dataframe thead th {\n",
       "        text-align: right;\n",
       "    }\n",
       "</style>\n",
       "<table border=\"1\" class=\"dataframe\">\n",
       "  <thead>\n",
       "    <tr style=\"text-align: right;\">\n",
       "      <th></th>\n",
       "      <th>HeartDisease</th>\n",
       "      <th>BMI</th>\n",
       "      <th>Smoking</th>\n",
       "      <th>AlcoholDrinking</th>\n",
       "      <th>Stroke</th>\n",
       "      <th>PhysicalHealth</th>\n",
       "      <th>MentalHealth</th>\n",
       "      <th>DiffWalking</th>\n",
       "      <th>Sex</th>\n",
       "      <th>AgeCategory</th>\n",
       "      <th>Race</th>\n",
       "      <th>Diabetic</th>\n",
       "      <th>PhysicalActivity</th>\n",
       "      <th>GenHealth</th>\n",
       "      <th>SleepTime</th>\n",
       "      <th>Asthma</th>\n",
       "      <th>KidneyDisease</th>\n",
       "      <th>SkinCancer</th>\n",
       "    </tr>\n",
       "  </thead>\n",
       "  <tbody>\n",
       "    <tr>\n",
       "      <th>0</th>\n",
       "      <td>0</td>\n",
       "      <td>16.60</td>\n",
       "      <td>1</td>\n",
       "      <td>0</td>\n",
       "      <td>0</td>\n",
       "      <td>3.0</td>\n",
       "      <td>30.0</td>\n",
       "      <td>No</td>\n",
       "      <td>1</td>\n",
       "      <td>55-59</td>\n",
       "      <td>White</td>\n",
       "      <td>Yes</td>\n",
       "      <td>1</td>\n",
       "      <td>Very good</td>\n",
       "      <td>5.0</td>\n",
       "      <td>Yes</td>\n",
       "      <td>No</td>\n",
       "      <td>Yes</td>\n",
       "    </tr>\n",
       "    <tr>\n",
       "      <th>1</th>\n",
       "      <td>0</td>\n",
       "      <td>20.34</td>\n",
       "      <td>0</td>\n",
       "      <td>0</td>\n",
       "      <td>1</td>\n",
       "      <td>0.0</td>\n",
       "      <td>0.0</td>\n",
       "      <td>No</td>\n",
       "      <td>1</td>\n",
       "      <td>80 or older</td>\n",
       "      <td>White</td>\n",
       "      <td>No</td>\n",
       "      <td>1</td>\n",
       "      <td>Very good</td>\n",
       "      <td>7.0</td>\n",
       "      <td>No</td>\n",
       "      <td>No</td>\n",
       "      <td>No</td>\n",
       "    </tr>\n",
       "    <tr>\n",
       "      <th>2</th>\n",
       "      <td>0</td>\n",
       "      <td>26.58</td>\n",
       "      <td>1</td>\n",
       "      <td>0</td>\n",
       "      <td>0</td>\n",
       "      <td>20.0</td>\n",
       "      <td>30.0</td>\n",
       "      <td>No</td>\n",
       "      <td>0</td>\n",
       "      <td>65-69</td>\n",
       "      <td>White</td>\n",
       "      <td>Yes</td>\n",
       "      <td>1</td>\n",
       "      <td>Fair</td>\n",
       "      <td>8.0</td>\n",
       "      <td>Yes</td>\n",
       "      <td>No</td>\n",
       "      <td>No</td>\n",
       "    </tr>\n",
       "    <tr>\n",
       "      <th>3</th>\n",
       "      <td>0</td>\n",
       "      <td>24.21</td>\n",
       "      <td>0</td>\n",
       "      <td>0</td>\n",
       "      <td>0</td>\n",
       "      <td>0.0</td>\n",
       "      <td>0.0</td>\n",
       "      <td>No</td>\n",
       "      <td>1</td>\n",
       "      <td>75-79</td>\n",
       "      <td>White</td>\n",
       "      <td>No</td>\n",
       "      <td>0</td>\n",
       "      <td>Good</td>\n",
       "      <td>6.0</td>\n",
       "      <td>No</td>\n",
       "      <td>No</td>\n",
       "      <td>Yes</td>\n",
       "    </tr>\n",
       "    <tr>\n",
       "      <th>4</th>\n",
       "      <td>0</td>\n",
       "      <td>23.71</td>\n",
       "      <td>0</td>\n",
       "      <td>0</td>\n",
       "      <td>0</td>\n",
       "      <td>28.0</td>\n",
       "      <td>0.0</td>\n",
       "      <td>Yes</td>\n",
       "      <td>1</td>\n",
       "      <td>40-44</td>\n",
       "      <td>White</td>\n",
       "      <td>No</td>\n",
       "      <td>1</td>\n",
       "      <td>Very good</td>\n",
       "      <td>8.0</td>\n",
       "      <td>No</td>\n",
       "      <td>No</td>\n",
       "      <td>No</td>\n",
       "    </tr>\n",
       "  </tbody>\n",
       "</table>\n",
       "</div>"
      ],
      "text/plain": [
       "   HeartDisease    BMI  Smoking  AlcoholDrinking  Stroke  PhysicalHealth  \\\n",
       "0             0  16.60        1                0       0             3.0   \n",
       "1             0  20.34        0                0       1             0.0   \n",
       "2             0  26.58        1                0       0            20.0   \n",
       "3             0  24.21        0                0       0             0.0   \n",
       "4             0  23.71        0                0       0            28.0   \n",
       "\n",
       "   MentalHealth DiffWalking  Sex  AgeCategory   Race Diabetic  \\\n",
       "0          30.0          No    1        55-59  White      Yes   \n",
       "1           0.0          No    1  80 or older  White       No   \n",
       "2          30.0          No    0        65-69  White      Yes   \n",
       "3           0.0          No    1        75-79  White       No   \n",
       "4           0.0         Yes    1        40-44  White       No   \n",
       "\n",
       "   PhysicalActivity  GenHealth  SleepTime Asthma KidneyDisease SkinCancer  \n",
       "0                 1  Very good        5.0    Yes            No        Yes  \n",
       "1                 1  Very good        7.0     No            No         No  \n",
       "2                 1       Fair        8.0    Yes            No         No  \n",
       "3                 0       Good        6.0     No            No        Yes  \n",
       "4                 1  Very good        8.0     No            No         No  "
      ]
     },
     "execution_count": 49,
     "metadata": {},
     "output_type": "execute_result"
    }
   ],
   "source": [
    "df_2 = df.copy()\n",
    "\n",
    "\n",
    "Yes_No_dict = {\"No\":0, \"Yes\":1, \"Female\":1, \"Male\":0} \n",
    "\n",
    "Yes_No_List = [\"Stroke\", \"HeartDisease\", \"Smoking\", \n",
    "               \"AlcoholDrinking\",\"PhysicalActivity\", \"Sex\"]\n",
    "\n",
    "for col in Yes_No_List:\n",
    "    df_2[col] = df_2[col].map(Yes_No_dict)\n",
    "\n",
    "df_2.head()"
   ]
  },
  {
   "cell_type": "code",
   "execution_count": 50,
   "metadata": {
    "execution": {
     "iopub.execute_input": "2022-04-01T05:33:25.402096Z",
     "iopub.status.busy": "2022-04-01T05:33:25.401687Z",
     "iopub.status.idle": "2022-04-01T05:33:25.410683Z",
     "shell.execute_reply": "2022-04-01T05:33:25.409949Z",
     "shell.execute_reply.started": "2022-04-01T05:33:25.402066Z"
    }
   },
   "outputs": [
    {
     "data": {
      "text/plain": [
       "0    0.914405\n",
       "1    0.085595\n",
       "Name: HeartDisease, dtype: float64"
      ]
     },
     "execution_count": 50,
     "metadata": {},
     "output_type": "execute_result"
    }
   ],
   "source": [
    "df_2[\"HeartDisease\"].value_counts(normalize = True)"
   ]
  },
  {
   "cell_type": "code",
   "execution_count": 132,
   "metadata": {
    "execution": {
     "iopub.execute_input": "2022-04-01T05:39:23.181231Z",
     "iopub.status.busy": "2022-04-01T05:39:23.180954Z",
     "iopub.status.idle": "2022-04-01T05:39:23.776431Z",
     "shell.execute_reply": "2022-04-01T05:39:23.775578Z",
     "shell.execute_reply.started": "2022-04-01T05:39:23.181203Z"
    }
   },
   "outputs": [],
   "source": [
    "List_1_0 = [\"Stroke\", \"Smoking\", \"AlcoholDrinking\",\"PhysicalActivity\", \"Sex\"]\n",
    "\n",
    "df_List_1_0 = df_2[List_1_0]\n",
    "\n",
    "#### Encoding By using OneHotEncoder\n",
    "\n",
    "cat = [\"Diabetic\", \"GenHealth\" , \"Race\"]\n",
    "\n",
    "df_cat = df_2[cat]\n",
    "\n",
    "ohe = OneHotEncoder(categories='auto', sparse=False)\n",
    "#                     , drop=\"first\")\n",
    "\n",
    "df_cat_encoded = pd.DataFrame(np.squeeze(ohe.fit_transform(df_cat)), \n",
    "                              columns = ohe.get_feature_names())\n",
    "\n",
    "##### Scaling By using StandardScaler\n",
    "\n",
    "scaler = StandardScaler()\n",
    "\n",
    "BMI = df_2[[\"BMI\", \"SleepTime\"]]\n",
    "\n",
    "\n",
    "scaled_BMI = scaler.fit_transform(BMI)\n",
    "\n",
    "df_scaled_BMI = pd.DataFrame(np.squeeze(scaler.fit_transform(BMI)), \n",
    "                             columns = BMI.columns)\n",
    "\n",
    "#### Concatating New DataFrames\n",
    "\n",
    "X = pd.concat([df_cat_encoded, df_scaled_BMI, df_List_1_0], axis = 1)\n"
   ]
  },
  {
   "cell_type": "markdown",
   "metadata": {
    "variables": {
     "df_2[\"HeartDisease\"].value_counts(normalize = True)": "0    0.914405\n1    0.085595\nName: HeartDisease, dtype: float64"
    }
   },
   "source": [
    "We see that `df_2[\"HeartDisease\"].value_counts(normalize = True)` results in\n",
    "\n",
    "`\n",
    "{{df_2[\"HeartDisease\"].value_counts(normalize = True)}}`\n",
    "\n",
    "which can be used to conclude that we have imbalances in our data so, we either can use `SMOTE` or we can set `stratify=y` in `train_test_split`. We noticed that setting set `stratify=y`, results in a better accuracy."
   ]
  },
  {
   "cell_type": "code",
   "execution_count": 144,
   "metadata": {
    "execution": {
     "iopub.execute_input": "2022-04-01T05:39:31.807735Z",
     "iopub.status.busy": "2022-04-01T05:39:31.807408Z",
     "iopub.status.idle": "2022-04-01T05:39:32.055748Z",
     "shell.execute_reply": "2022-04-01T05:39:32.054995Z",
     "shell.execute_reply.started": "2022-04-01T05:39:31.807687Z"
    }
   },
   "outputs": [
    {
     "name": "stdout",
     "output_type": "stream",
     "text": [
      "y_train: {1: 50.0, 0: 50.0}\n",
      "y_test: {0: 91.25689895089042, 1: 8.743101049109587}\n"
     ]
    }
   ],
   "source": [
    "\n",
    "y = df_2[\"HeartDisease\"]\n",
    "X_train, X_test, y_train, y_test = train_test_split(X, y, \n",
    "                                                    random_state = 42, \n",
    "                                                    test_size = 0.2) \n",
    "#                                                     , stratify=y)\n",
    "\n",
    "print(\"y_train:\", dict(y_train_resampled.value_counts(normalize = True)*100))\n",
    "print(\"y_test:\", dict(y_test.value_counts(normalize = True)*100))\n",
    "\n",
    "smote = SMOTE()\n",
    "X_train, y_train = smote.fit_resample(X_train, y_train)\n",
    "\n",
    "X_train_resampled = X_train.copy()\n",
    "y_train_resampled = y_train.copy()"
   ]
  },
  {
   "cell_type": "markdown",
   "metadata": {},
   "source": [
    "# XGBoost"
   ]
  },
  {
   "cell_type": "code",
   "execution_count": 161,
   "metadata": {
    "execution": {
     "iopub.execute_input": "2022-04-01T05:45:13.655701Z",
     "iopub.status.busy": "2022-04-01T05:45:13.655162Z",
     "iopub.status.idle": "2022-04-01T05:45:20.541690Z",
     "shell.execute_reply": "2022-04-01T05:45:20.540832Z",
     "shell.execute_reply.started": "2022-04-01T05:45:13.655647Z"
    }
   },
   "outputs": [
    {
     "name": "stdout",
     "output_type": "stream",
     "text": [
      "Training Accuracy: 76.24%\n",
      "Validation accuracy: 75.22%\n"
     ]
    },
    {
     "data": {
      "image/png": "[encoded data removed]",
      "text/plain": [
       "<Figure size 1080x504 with 2 Axes>"
      ]
     },
     "metadata": {
      "needs_background": "light"
     },
     "output_type": "display_data"
    }
   ],
   "source": [
    "# {'alpha': 10,\n",
    "#  'eval_metric': 'auc',\n",
    "#  'max_depth': 10,\n",
    "#  'n_estimators': 15,\n",
    "#  'objective': 'binary:logistic',\n",
    "#  'seed': 42}\n",
    "\n",
    "clf = xgb.XGBClassifier(max_depth = 10, n_estimators=15, seed=42, alpha = 10,  \n",
    "                         objective = 'binary:logistic', # eta = ,\n",
    "                        eval_metric = \"auc\")\n",
    "\n",
    "clf.fit(X_train_resampled, y_train_resampled)\n",
    "\n",
    "training_preds = clf.predict(X_train_resampled)\n",
    "test_preds     = clf.predict(X_test)\n",
    "\n",
    "\n",
    "training_accuracy =  accuracy_score(y_train_resampled, training_preds)\n",
    "test_accuracy     =  accuracy_score(y_test, test_preds)\n",
    "\n",
    "print('Training Accuracy: {:.4}%'.format(training_accuracy * 100))\n",
    "print('Validation accuracy: {:.4}%'.format(test_accuracy * 100))\n",
    "\n",
    "fig, axes = plt.subplots(1,2,figsize=(15, 7))\n",
    "ax0 = axes[0]\n",
    "sns.countplot(test_preds, ax = ax0, label = \"test prediction\");\n",
    "ax0.legend();\n",
    "# addding second subplot\n",
    "ax1 = axes[1]\n",
    "sns.countplot(y_test, ax = ax1, label = \"acutual\");\n",
    "\n",
    "ax1.legend();"
   ]
  },
  {
   "cell_type": "code",
   "execution_count": 148,
   "metadata": {},
   "outputs": [
    {
     "data": {
      "image/png": "[encoded data removed]",
      "text/plain": [
       "<Figure size 1080x504 with 1 Axes>"
      ]
     },
     "metadata": {
      "needs_background": "light"
     },
     "output_type": "display_data"
    }
   ],
   "source": [
    "fig, ax = plt.subplots(1,1,figsize=(15, 7))\n",
    "xgb.plot_importance(clf, ax = ax);"
   ]
  },
  {
   "cell_type": "code",
   "execution_count": 149,
   "metadata": {},
   "outputs": [],
   "source": [
    "#### \n",
    "# No \"Stroke\", and \"SleepTime\" not categorical and is in BMI\n",
    "# max_depth = 10, n_estimators=10, seed=42, alpha = 20, eta = 0.3, \n",
    "# objective = 'binary:logistic', eval_metric = \"error\"```\n",
    "\n",
    "# gives \n",
    "\n",
    "# Training Accuracy: 91.51%\n",
    "# Validation accuracy: 91.51%\n",
    "#---------------------------------------------------------------------------------------------\n",
    "### However, with stroke and and \"SleepTime\" not categorical and is in BMI\n",
    "# max_depth = 10, n_estimators=10, seed=42, alpha = 20, eta = 0.3,\n",
    "#                         objective = 'binary:logistic', eval_metric = \"error\"\n",
    "\n",
    "# We got\n",
    "\n",
    "# Training Accuracy: 91.61%\n",
    "# Validation accuracy: 91.58%\n",
    "\n",
    "#---------------------------------------------------------------------------------------------\n",
    "### However, with stroke and and \"SleepTime\" as categorical and not in BMI\n",
    "# max_depth = 10, n_estimators=10, seed=42, alpha = 20, eta = 0.3,\n",
    "#                         objective = 'binary:logistic', eval_metric = \"error\"\n",
    "\n",
    "# We got\n",
    "\n",
    "# Training Accuracy: 91.62%\n",
    "# Validation accuracy: 91.59%\n",
    "\n",
    "#---------------------------------------------------------------------------------------------\n",
    "\n",
    "### With Diabetic as a Categorical with ranges from 0-3 in the loop, and \n",
    "### \"SleepTime\" in BMI, with  drop=\"first\" and eval_metric = \"error\" \n",
    "### and max_depth = 20, n_estimators=20, seed=42, alpha = 25,  eta = 0.3, \n",
    "### objective = 'binary:logistic', \n",
    "### eval_metric = \"error\"\n",
    "\n",
    "### we got\n",
    "\n",
    "### Training Accuracy: 91.62%\n",
    "### Validation accuracy: 91.6%\n",
    "\n",
    "#---------------------------------------------------------------------------------------------\n",
    "\n"
   ]
  },
  {
   "cell_type": "markdown",
   "metadata": {},
   "source": [
    "## GridSearch For XGBoost \n",
    "\n",
    "By using GridSearch we find the following. It takes times to find it so, make sure that you are not running this section.\n",
    "\n",
    "```python\n",
    "\n",
    "best_parameters = {'alpha': 30,\n",
    " 'eta': 0.3,\n",
    " 'eval_metric': 'auc',\n",
    " 'max_depth': 10,\n",
    " 'n_estimators': 25,\n",
    " 'objective': 'binary:logistic',\n",
    " 'seed': 42}\n",
    "\n",
    "```\n",
    "\n",
    "the accuracy results that we find are:\n",
    "\n",
    "```python\n",
    "Training Accuracy: 91.61%\n",
    "Validation accuracy: 91.6%\n",
    "```"
   ]
  },
  {
   "cell_type": "code",
   "execution_count": 151,
   "metadata": {
    "execution": {
     "iopub.execute_input": "2022-04-01T06:07:53.427183Z",
     "iopub.status.busy": "2022-04-01T06:07:53.426482Z",
     "iopub.status.idle": "2022-04-01T06:07:53.433175Z",
     "shell.execute_reply": "2022-04-01T06:07:53.432523Z",
     "shell.execute_reply.started": "2022-04-01T06:07:53.427134Z"
    }
   },
   "outputs": [],
   "source": [
    "clf_param_grid = {\n",
    "    \"max_depth\": [5, 10],\n",
    "    \"n_estimators\": [10, 15],\n",
    "    \"seed\": [42],\n",
    "    \"alpha\": [10, 20, 25, 30],\n",
    "#     \"eta\": [0.3],\n",
    "    \"objective\" : ['binary:logistic'], \n",
    "    \"eval_metric\" : [\"auc\", \"error\"]\n",
    "}"
   ]
  },
  {
   "cell_type": "code",
   "execution_count": 152,
   "metadata": {
    "execution": {
     "iopub.execute_input": "2022-04-01T06:08:04.491190Z",
     "iopub.status.busy": "2022-04-01T06:08:04.490908Z",
     "iopub.status.idle": "2022-04-01T06:15:56.665863Z",
     "shell.execute_reply": "2022-04-01T06:15:56.665026Z",
     "shell.execute_reply.started": "2022-04-01T06:08:04.491160Z"
    }
   },
   "outputs": [
    {
     "data": {
      "text/plain": [
       "GridSearchCV(estimator=XGBClassifier(base_score=None, booster=None,\n",
       "                                     colsample_bylevel=None,\n",
       "                                     colsample_bynode=None,\n",
       "                                     colsample_bytree=None, gamma=None,\n",
       "                                     gpu_id=None, importance_type='gain',\n",
       "                                     interaction_constraints=None,\n",
       "                                     learning_rate=None, max_delta_step=None,\n",
       "                                     max_depth=None, min_child_weight=None,\n",
       "                                     missing=nan, monotone_constraints=None,\n",
       "                                     n_estimators=100, n_jobs=None,\n",
       "                                     num_parallel_tree=None, random_state=None,\n",
       "                                     reg_alpha=None, reg_lambda=None,\n",
       "                                     scale_pos_weight=None, subsample=None,\n",
       "                                     tree_method=None, validate_parameters=None,\n",
       "                                     verbosity=None),\n",
       "             param_grid={'alpha': [10, 20, 25, 30],\n",
       "                         'eval_metric': ['auc', 'error'], 'max_depth': [5, 10],\n",
       "                         'n_estimators': [10, 15],\n",
       "                         'objective': ['binary:logistic'], 'seed': [42]})"
      ]
     },
     "execution_count": 152,
     "metadata": {},
     "output_type": "execute_result"
    }
   ],
   "source": [
    "clf_grid = xgb.XGBClassifier()\n",
    "\n",
    "clf_grid_search = GridSearchCV(clf_grid, clf_param_grid, cv = None)\n",
    "\n",
    "\n",
    "# Fit to the data\n",
    "clf_grid_search.fit(X_train_resampled, y_train_resampled)"
   ]
  },
  {
   "cell_type": "code",
   "execution_count": 153,
   "metadata": {
    "execution": {
     "iopub.execute_input": "2022-04-01T06:16:25.340596Z",
     "iopub.status.busy": "2022-04-01T06:16:25.339596Z",
     "iopub.status.idle": "2022-04-01T06:16:25.560789Z",
     "shell.execute_reply": "2022-04-01T06:16:25.559959Z",
     "shell.execute_reply.started": "2022-04-01T06:16:25.340540Z"
    }
   },
   "outputs": [
    {
     "name": "stdout",
     "output_type": "stream",
     "text": [
      "Training Accuracy: 76.24%\n",
      "Validation accuracy: 75.22%\n"
     ]
    }
   ],
   "source": [
    "grid_training_preds = clf_grid_search.predict(X_train_resampled)\n",
    "grid_test_preds     = clf_grid_search.predict(X_test)\n",
    "\n",
    "\n",
    "grid_training_accuracy =  accuracy_score(y_train_resampled, grid_training_preds)\n",
    "grid_test_accuracy     =  accuracy_score(y_test, grid_test_preds)\n",
    "\n",
    "print('Training Accuracy: {:.4}%'.format(grid_training_accuracy * 100))\n",
    "print('Validation accuracy: {:.4}%'.format(grid_test_accuracy * 100))"
   ]
  },
  {
   "cell_type": "code",
   "execution_count": 154,
   "metadata": {
    "execution": {
     "iopub.execute_input": "2022-04-01T06:16:27.749590Z",
     "iopub.status.busy": "2022-04-01T06:16:27.749267Z",
     "iopub.status.idle": "2022-04-01T06:16:27.755823Z",
     "shell.execute_reply": "2022-04-01T06:16:27.754939Z",
     "shell.execute_reply.started": "2022-04-01T06:16:27.749556Z"
    }
   },
   "outputs": [
    {
     "data": {
      "text/plain": [
       "{'alpha': 10,\n",
       " 'eval_metric': 'auc',\n",
       " 'max_depth': 10,\n",
       " 'n_estimators': 15,\n",
       " 'objective': 'binary:logistic',\n",
       " 'seed': 42}"
      ]
     },
     "execution_count": 154,
     "metadata": {},
     "output_type": "execute_result"
    }
   ],
   "source": [
    "clf_grid_search.best_params_"
   ]
  },
  {
   "cell_type": "markdown",
   "metadata": {},
   "source": [
    "## XGBoost Final\n",
    "\n",
    "By using the results we obtained from gird search, we are going to tune our model and we consider it as the final model."
   ]
  },
  {
   "cell_type": "code",
   "execution_count": 155,
   "metadata": {},
   "outputs": [
    {
     "data": {
      "text/plain": [
       "XGBClassifier(alpha=30, base_score=0.5, booster='gbtree', colsample_bylevel=1,\n",
       "              colsample_bynode=1, colsample_bytree=1, eta=0.3,\n",
       "              eval_metric='auc', gamma=0, gpu_id=-1, importance_type='gain',\n",
       "              interaction_constraints='', learning_rate=0.300000012,\n",
       "              max_delta_step=0, max_depth=10, min_child_weight=1, missing=nan,\n",
       "              monotone_constraints='()', n_estimators=25, n_jobs=0,\n",
       "              num_parallel_tree=1, random_state=42, reg_alpha=30, reg_lambda=1,\n",
       "              scale_pos_weight=1, seed=42, subsample=1, tree_method='exact',\n",
       "              validate_parameters=1, verbosity=None)"
      ]
     },
     "execution_count": 155,
     "metadata": {},
     "output_type": "execute_result"
    }
   ],
   "source": [
    "### Params if we use SMOTE\n",
    "\n",
    "# smote_params = {'alpha': 10,\n",
    "#                 'eval_metric': 'auc',\n",
    "#                 'max_depth': 10,\n",
    "#                 'n_estimators': 15,\n",
    "#                 'objective': 'binary:logistic',\n",
    "#                 'seed': 42}\n",
    "\n",
    "\n",
    "### Params if we do not use SMOTE\n",
    "params={'alpha': 30,\n",
    " 'eta': 0.3,\n",
    " 'eval_metric': 'auc',\n",
    " 'max_depth': 10,\n",
    " 'n_estimators': 25,       \n",
    " 'objective': 'binary:logistic',\n",
    " 'seed': 42}\n",
    "\n",
    "xgb_final = xgb.XGBClassifier(alpha        = 30,\n",
    "                              eta          = 0.3,\n",
    "                              eval_metric  = 'auc',\n",
    "                              max_depth    = 10,\n",
    "                              n_estimators = 25,       \n",
    "                              objective    = 'binary:logistic',\n",
    "                              seed         = 42)\n",
    "\n",
    "xgb_final.fit(X_train_resampled, y_train_resampled)"
   ]
  },
  {
   "cell_type": "code",
   "execution_count": 156,
   "metadata": {},
   "outputs": [
    {
     "data": {
      "image/png": "[encoded data removed]",
      "text/plain": [
       "<Figure size 1080x504 with 1 Axes>"
      ]
     },
     "metadata": {
      "needs_background": "light"
     },
     "output_type": "display_data"
    }
   ],
   "source": [
    "fig, ax = plt.subplots(1,1,figsize=(15, 7))\n",
    "xgb.plot_importance(xgb_final, ax = ax);"
   ]
  },
  {
   "cell_type": "code",
   "execution_count": 158,
   "metadata": {},
   "outputs": [
    {
     "name": "stdout",
     "output_type": "stream",
     "text": [
      "Training Accuracy: 76.84%\n",
      "Validation accuracy: 76.17%\n",
      "\n",
      "Training AUC: 0.7684\n",
      "Validation AUC: 0.7032\n"
     ]
    }
   ],
   "source": [
    "training_preds = xgb_final.predict(X_train_resampled)\n",
    "test_preds     = xgb_final.predict(X_test)\n",
    "\n",
    "## Accuracy\n",
    "training_accuracy =  accuracy_score(y_train_resampled, training_preds)\n",
    "test_accuracy     =  accuracy_score(y_test, test_preds)\n",
    "\n",
    "### ROC and AUC\n",
    "# ROC\n",
    "train_fpr, train_tpr, train_thresh = roc_curve(y_train_resampled, training_preds)\n",
    "test_fpr , test_tpr , test_thresh = roc_curve(y_test, test_preds)\n",
    "# AUC\n",
    "train_auc = auc(train_fpr, train_tpr)\n",
    "test_auc = auc(test_fpr, test_tpr)\n",
    "\n",
    "print('Training Accuracy: {:.4}%'.format(training_accuracy * 100))\n",
    "print('Validation accuracy: {:.4}%'.format(test_accuracy * 100))\n",
    "print()\n",
    "print('Training AUC: {:.4}'.format(train_auc))\n",
    "print('Validation AUC: {:.4}'.format(test_auc))"
   ]
  },
  {
   "cell_type": "markdown",
   "metadata": {},
   "source": [
    "# Random Forest"
   ]
  },
  {
   "cell_type": "code",
   "execution_count": 64,
   "metadata": {
    "execution": {
     "iopub.execute_input": "2022-04-01T06:17:00.361565Z",
     "iopub.status.busy": "2022-04-01T06:17:00.361113Z",
     "iopub.status.idle": "2022-04-01T06:17:42.200460Z",
     "shell.execute_reply": "2022-04-01T06:17:42.199458Z",
     "shell.execute_reply.started": "2022-04-01T06:17:00.361521Z"
    }
   },
   "outputs": [],
   "source": [
    "from sklearn.ensemble import RandomForestClassifier\n",
    "rf = RandomForestClassifier(criterion=\"entropy\", bootstrap = True)\n",
    "\n",
    "rf.fit(X_train_resampled, y_train_resampled)\n",
    "\n",
    "training_preds = rf.predict(X_train_resampled)\n",
    "test_preds     = rf.predict(X_test)\n",
    "\n",
    "\n",
    "training_accuracy = accuracy_score(y_train_resampled, training_preds)\n",
    "test_accuracy     = accuracy_score(y_test, test_preds)\n",
    "\n",
    "print('Training Accuracy: {:.4}%'.format(training_accuracy * 100))\n",
    "print('Validation accuracy: {:.4}%'.format(test_accuracy * 100))"
   ]
  },
  {
   "cell_type": "code",
   "execution_count": null,
   "metadata": {
    "execution": {
     "iopub.execute_input": "2022-03-29T09:49:49.413144Z",
     "iopub.status.busy": "2022-03-29T09:49:49.41241Z",
     "iopub.status.idle": "2022-03-29T09:49:49.418024Z",
     "shell.execute_reply": "2022-03-29T09:49:49.417274Z",
     "shell.execute_reply.started": "2022-03-29T09:49:49.413105Z"
    }
   },
   "outputs": [],
   "source": [
    "# param_grid ={\"max_depth\": [5, 10, 15, 20],\n",
    "#             \"min_samples_leaf\": [5, 10, 15],\n",
    "#             \"min_samples_split\": [2, 3, 6]}"
   ]
  },
  {
   "cell_type": "code",
   "execution_count": null,
   "metadata": {
    "execution": {
     "iopub.execute_input": "2022-03-29T09:50:18.0019Z",
     "iopub.status.busy": "2022-03-29T09:50:18.001613Z",
     "iopub.status.idle": "2022-03-29T10:27:39.040221Z",
     "shell.execute_reply": "2022-03-29T10:27:39.038759Z",
     "shell.execute_reply.started": "2022-03-29T09:50:18.00187Z"
    }
   },
   "outputs": [],
   "source": [
    "\n",
    "# grid_clf = GridSearchCV(rf, param_grid, scoring='accuracy', cv=None,\n",
    "#                                                              n_jobs=1)\n",
    "# grid_clf.fit(X_train_resampled, y_train_resampled)\n",
    "\n",
    "# best_parameters = grid_clf.best_params_\n",
    "\n",
    "# print('Grid Search found the following optimal parameters: ')\n",
    "# for param_name in sorted(best_parameters.keys()):\n",
    "#     print('%s: %r' % (param_name, best_parameters[param_name]))\n",
    "\n",
    "# training_preds = grid_clf.predict(X_train_resampled)\n",
    "# test_preds     = grid_clf.predict(X_test)\n",
    "# training_accuracy = accuracy_score(y_train_resampled, training_preds)\n",
    "# test_accuracy = accuracy_score(y_test, test_preds)\n",
    "\n",
    "# print('')\n",
    "# print('Training Accuracy: {:.4}%'.format(training_accuracy * 100))\n",
    "# print('Validation accuracy: {:.4}%'.format(test_accuracy * 100))"
   ]
  },
  {
   "cell_type": "code",
   "execution_count": null,
   "metadata": {},
   "outputs": [],
   "source": []
  }
 ],
 "metadata": {
  "kernelspec": {
   "display_name": "Python 3",
   "language": "python",
   "name": "python3"
  },
  "language_info": {
   "codemirror_mode": {
    "name": "ipython",
    "version": 3
   },
   "file_extension": ".py",
   "mimetype": "text/x-python",
   "name": "python",
   "nbconvert_exporter": "python",
   "pygments_lexer": "ipython3",
   "version": "3.8.5"
  },
  "latex_envs": {
   "LaTeX_envs_menu_present": true,
   "autoclose": false,
   "autocomplete": true,
   "bibliofile": "biblio.bib",
   "cite_by": "apalike",
   "current_citInitial": 1,
   "eqLabelWithNumbers": true,
   "eqNumInitial": 1,
   "hotkeys": {
    "equation": "Ctrl-E",
    "itemize": "Ctrl-I"
   },
   "labels_anchors": false,
   "latex_user_defs": false,
   "report_style_numbering": false,
   "user_envs_cfg": false
  },
  "toc": {
   "base_numbering": 1,
   "nav_menu": {},
   "number_sections": true,
   "sideBar": true,
   "skip_h1_title": false,
   "title_cell": "Table of Contents",
   "title_sidebar": "Contents",
   "toc_cell": false,
   "toc_position": {},
   "toc_section_display": true,
   "toc_window_display": false
  },
  "varInspector": {
   "cols": {
    "lenName": 16,
    "lenType": 16,
    "lenVar": 40
   },
   "kernels_config": {
    "python": {
     "delete_cmd_postfix": "",
     "delete_cmd_prefix": "del ",
     "library": "var_list.py",
     "varRefreshCmd": "print(var_dic_list())"
    },
    "r": {
     "delete_cmd_postfix": ") ",
     "delete_cmd_prefix": "rm(",
     "library": "var_list.r",
     "varRefreshCmd": "cat(var_dic_list()) "
    }
   },
   "types_to_exclude": [
    "module",
    "function",
    "builtin_function_or_method",
    "instance",
    "_Feature"
   ],
   "window_display": false
  }
 },
 "nbformat": 4,
 "nbformat_minor": 4
}
