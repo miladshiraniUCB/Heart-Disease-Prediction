{
 "cells": [
  {
   "cell_type": "markdown",
   "metadata": {},
   "source": [
    "# Introduction\n",
    "\n",
    "In this project by using the available data from [kaggle.com](https://www.kaggle.com/code/andls555/heart-disease-prediction/data) we try to create a model to predict if a person will have heart de"
   ]
  },
  {
   "cell_type": "code",
   "execution_count": 1,
   "metadata": {
    "_cell_guid": "b1076dfc-b9ad-4769-8c92-a6c4dae69d19",
    "_uuid": "8f2839f25d086af736a60e9eeb907d3b93b6e0e5",
    "execution": {
     "iopub.execute_input": "2022-04-01T05:29:42.639045Z",
     "iopub.status.busy": "2022-04-01T05:29:42.638678Z",
     "iopub.status.idle": "2022-04-01T05:29:42.673313Z",
     "shell.execute_reply": "2022-04-01T05:29:42.672473Z",
     "shell.execute_reply.started": "2022-04-01T05:29:42.638959Z"
    }
   },
   "outputs": [],
   "source": [
    "# # This Python 3 environment comes with many helpful analytics libraries installed\n",
    "# # It is defined by the kaggle/python Docker image: https://github.com/kaggle/docker-python\n",
    "# # For example, here's several helpful packages to load\n",
    "\n",
    "# import numpy as np # linear algebra\n",
    "# import pandas as pd # data processing, CSV file I/O (e.g. pd.read_csv)\n",
    "\n",
    "# # Input data files are available in the read-only \"../input/\" directory\n",
    "# # For example, running this (by clicking run or pressing Shift+Enter) will list all files under the input directory\n",
    "\n",
    "# import os\n",
    "# for dirname, _, filenames in os.walk('/kaggle/input'):\n",
    "#     for filename in filenames:\n",
    "#         print(os.path.join(dirname, filename))\n",
    "\n",
    "# # You can write up to 20GB to the current directory (/kaggle/working/) that gets preserved as output when you create a version using \"Save & Run All\" \n",
    "# # You can also write temporary files to /kaggle/temp/, but they won't be saved outside of the current session"
   ]
  },
  {
   "cell_type": "code",
   "execution_count": 4,
   "metadata": {
    "execution": {
     "iopub.execute_input": "2022-04-01T05:32:51.626414Z",
     "iopub.status.busy": "2022-04-01T05:32:51.626113Z",
     "iopub.status.idle": "2022-04-01T05:32:51.632084Z",
     "shell.execute_reply": "2022-04-01T05:32:51.631552Z",
     "shell.execute_reply.started": "2022-04-01T05:32:51.626381Z"
    }
   },
   "outputs": [],
   "source": [
    "import numpy as np\n",
    "import pandas as pd\n",
    "from sklearn.metrics import accuracy_score\n",
    "from sklearn.model_selection import GridSearchCV, train_test_split\n",
    "from sklearn.preprocessing import OneHotEncoder, StandardScaler\n",
    "from sklearn.model_selection import train_test_split\n",
    "from sklearn.ensemble import RandomForestClassifier\n",
    "\n",
    "\n",
    "from imblearn.over_sampling import SMOTE, ADASYN\n",
    "\n",
    "\n",
    "# from xgboost import XGBClassifier\n",
    "import xgboost as xgb\n",
    "\n",
    "import matplotlib.pyplot as plt\n",
    "import seaborn as sns\n",
    "\n",
    "import warnings\n",
    "warnings.filterwarnings('ignore')\n"
   ]
  },
  {
   "cell_type": "code",
   "execution_count": 5,
   "metadata": {
    "execution": {
     "iopub.execute_input": "2022-04-01T05:32:53.496694Z",
     "iopub.status.busy": "2022-04-01T05:32:53.496050Z",
     "iopub.status.idle": "2022-04-01T05:32:54.189301Z",
     "shell.execute_reply": "2022-04-01T05:32:54.188610Z",
     "shell.execute_reply.started": "2022-04-01T05:32:53.496661Z"
    }
   },
   "outputs": [
    {
     "data": {
      "text/html": [
       "<div>\n",
       "<style scoped>\n",
       "    .dataframe tbody tr th:only-of-type {\n",
       "        vertical-align: middle;\n",
       "    }\n",
       "\n",
       "    .dataframe tbody tr th {\n",
       "        vertical-align: top;\n",
       "    }\n",
       "\n",
       "    .dataframe thead th {\n",
       "        text-align: right;\n",
       "    }\n",
       "</style>\n",
       "<table border=\"1\" class=\"dataframe\">\n",
       "  <thead>\n",
       "    <tr style=\"text-align: right;\">\n",
       "      <th></th>\n",
       "      <th>HeartDisease</th>\n",
       "      <th>BMI</th>\n",
       "      <th>Smoking</th>\n",
       "      <th>AlcoholDrinking</th>\n",
       "      <th>Stroke</th>\n",
       "      <th>PhysicalHealth</th>\n",
       "      <th>MentalHealth</th>\n",
       "      <th>DiffWalking</th>\n",
       "      <th>Sex</th>\n",
       "      <th>AgeCategory</th>\n",
       "      <th>Race</th>\n",
       "      <th>Diabetic</th>\n",
       "      <th>PhysicalActivity</th>\n",
       "      <th>GenHealth</th>\n",
       "      <th>SleepTime</th>\n",
       "      <th>Asthma</th>\n",
       "      <th>KidneyDisease</th>\n",
       "      <th>SkinCancer</th>\n",
       "    </tr>\n",
       "  </thead>\n",
       "  <tbody>\n",
       "    <tr>\n",
       "      <th>0</th>\n",
       "      <td>No</td>\n",
       "      <td>16.60</td>\n",
       "      <td>Yes</td>\n",
       "      <td>No</td>\n",
       "      <td>No</td>\n",
       "      <td>3.0</td>\n",
       "      <td>30.0</td>\n",
       "      <td>No</td>\n",
       "      <td>Female</td>\n",
       "      <td>55-59</td>\n",
       "      <td>White</td>\n",
       "      <td>Yes</td>\n",
       "      <td>Yes</td>\n",
       "      <td>Very good</td>\n",
       "      <td>5.0</td>\n",
       "      <td>Yes</td>\n",
       "      <td>No</td>\n",
       "      <td>Yes</td>\n",
       "    </tr>\n",
       "    <tr>\n",
       "      <th>1</th>\n",
       "      <td>No</td>\n",
       "      <td>20.34</td>\n",
       "      <td>No</td>\n",
       "      <td>No</td>\n",
       "      <td>Yes</td>\n",
       "      <td>0.0</td>\n",
       "      <td>0.0</td>\n",
       "      <td>No</td>\n",
       "      <td>Female</td>\n",
       "      <td>80 or older</td>\n",
       "      <td>White</td>\n",
       "      <td>No</td>\n",
       "      <td>Yes</td>\n",
       "      <td>Very good</td>\n",
       "      <td>7.0</td>\n",
       "      <td>No</td>\n",
       "      <td>No</td>\n",
       "      <td>No</td>\n",
       "    </tr>\n",
       "    <tr>\n",
       "      <th>2</th>\n",
       "      <td>No</td>\n",
       "      <td>26.58</td>\n",
       "      <td>Yes</td>\n",
       "      <td>No</td>\n",
       "      <td>No</td>\n",
       "      <td>20.0</td>\n",
       "      <td>30.0</td>\n",
       "      <td>No</td>\n",
       "      <td>Male</td>\n",
       "      <td>65-69</td>\n",
       "      <td>White</td>\n",
       "      <td>Yes</td>\n",
       "      <td>Yes</td>\n",
       "      <td>Fair</td>\n",
       "      <td>8.0</td>\n",
       "      <td>Yes</td>\n",
       "      <td>No</td>\n",
       "      <td>No</td>\n",
       "    </tr>\n",
       "    <tr>\n",
       "      <th>3</th>\n",
       "      <td>No</td>\n",
       "      <td>24.21</td>\n",
       "      <td>No</td>\n",
       "      <td>No</td>\n",
       "      <td>No</td>\n",
       "      <td>0.0</td>\n",
       "      <td>0.0</td>\n",
       "      <td>No</td>\n",
       "      <td>Female</td>\n",
       "      <td>75-79</td>\n",
       "      <td>White</td>\n",
       "      <td>No</td>\n",
       "      <td>No</td>\n",
       "      <td>Good</td>\n",
       "      <td>6.0</td>\n",
       "      <td>No</td>\n",
       "      <td>No</td>\n",
       "      <td>Yes</td>\n",
       "    </tr>\n",
       "    <tr>\n",
       "      <th>4</th>\n",
       "      <td>No</td>\n",
       "      <td>23.71</td>\n",
       "      <td>No</td>\n",
       "      <td>No</td>\n",
       "      <td>No</td>\n",
       "      <td>28.0</td>\n",
       "      <td>0.0</td>\n",
       "      <td>Yes</td>\n",
       "      <td>Female</td>\n",
       "      <td>40-44</td>\n",
       "      <td>White</td>\n",
       "      <td>No</td>\n",
       "      <td>Yes</td>\n",
       "      <td>Very good</td>\n",
       "      <td>8.0</td>\n",
       "      <td>No</td>\n",
       "      <td>No</td>\n",
       "      <td>No</td>\n",
       "    </tr>\n",
       "  </tbody>\n",
       "</table>\n",
       "</div>"
      ],
      "text/plain": [
       "  HeartDisease    BMI Smoking AlcoholDrinking Stroke  PhysicalHealth  \\\n",
       "0           No  16.60     Yes              No     No             3.0   \n",
       "1           No  20.34      No              No    Yes             0.0   \n",
       "2           No  26.58     Yes              No     No            20.0   \n",
       "3           No  24.21      No              No     No             0.0   \n",
       "4           No  23.71      No              No     No            28.0   \n",
       "\n",
       "   MentalHealth DiffWalking     Sex  AgeCategory   Race Diabetic  \\\n",
       "0          30.0          No  Female        55-59  White      Yes   \n",
       "1           0.0          No  Female  80 or older  White       No   \n",
       "2          30.0          No    Male        65-69  White      Yes   \n",
       "3           0.0          No  Female        75-79  White       No   \n",
       "4           0.0         Yes  Female        40-44  White       No   \n",
       "\n",
       "  PhysicalActivity  GenHealth  SleepTime Asthma KidneyDisease SkinCancer  \n",
       "0              Yes  Very good        5.0    Yes            No        Yes  \n",
       "1              Yes  Very good        7.0     No            No         No  \n",
       "2              Yes       Fair        8.0    Yes            No         No  \n",
       "3               No       Good        6.0     No            No        Yes  \n",
       "4              Yes  Very good        8.0     No            No         No  "
      ]
     },
     "execution_count": 5,
     "metadata": {},
     "output_type": "execute_result"
    }
   ],
   "source": [
    "df = pd.read_csv(\"heart_2020_cleaned.csv\")\n",
    "df.head()\n"
   ]
  },
  {
   "cell_type": "code",
   "execution_count": null,
   "metadata": {
    "execution": {
     "iopub.execute_input": "2022-04-01T05:32:55.285207Z",
     "iopub.status.busy": "2022-04-01T05:32:55.284942Z",
     "iopub.status.idle": "2022-04-01T05:32:55.769669Z",
     "shell.execute_reply": "2022-04-01T05:32:55.768806Z",
     "shell.execute_reply.started": "2022-04-01T05:32:55.285179Z"
    }
   },
   "outputs": [],
   "source": [
    "df.info()"
   ]
  },
  {
   "cell_type": "code",
   "execution_count": 21,
   "metadata": {
    "execution": {
     "iopub.execute_input": "2022-04-01T05:32:56.409780Z",
     "iopub.status.busy": "2022-04-01T05:32:56.409157Z",
     "iopub.status.idle": "2022-04-01T05:32:56.889192Z",
     "shell.execute_reply": "2022-04-01T05:32:56.888171Z",
     "shell.execute_reply.started": "2022-04-01T05:32:56.409737Z"
    }
   },
   "outputs": [],
   "source": [
    "df.isna().sum()"
   ]
  },
  {
   "cell_type": "code",
   "execution_count": 22,
   "metadata": {
    "execution": {
     "iopub.execute_input": "2022-04-01T05:32:58.234348Z",
     "iopub.status.busy": "2022-04-01T05:32:58.234035Z",
     "iopub.status.idle": "2022-04-01T05:32:59.031011Z",
     "shell.execute_reply": "2022-04-01T05:32:59.030188Z",
     "shell.execute_reply.started": "2022-04-01T05:32:58.234316Z"
    }
   },
   "outputs": [],
   "source": [
    "plt.figure(figsize=(7,7))\n",
    "sns.countplot(data=df,x=\"HeartDisease\",hue=\"Asthma\");"
   ]
  },
  {
   "cell_type": "code",
   "execution_count": 23,
   "metadata": {
    "execution": {
     "iopub.execute_input": "2022-04-01T05:32:59.640189Z",
     "iopub.status.busy": "2022-04-01T05:32:59.639577Z",
     "iopub.status.idle": "2022-04-01T05:33:00.438538Z",
     "shell.execute_reply": "2022-04-01T05:33:00.437700Z",
     "shell.execute_reply.started": "2022-04-01T05:32:59.640137Z"
    }
   },
   "outputs": [],
   "source": [
    "plt.figure(figsize=(7,7))\n",
    "sns.countplot(data=df,x=\"HeartDisease\",hue=\"KidneyDisease\");"
   ]
  },
  {
   "cell_type": "code",
   "execution_count": 24,
   "metadata": {
    "execution": {
     "iopub.execute_input": "2022-04-01T05:33:00.879319Z",
     "iopub.status.busy": "2022-04-01T05:33:00.878704Z",
     "iopub.status.idle": "2022-04-01T05:33:01.666230Z",
     "shell.execute_reply": "2022-04-01T05:33:01.665423Z",
     "shell.execute_reply.started": "2022-04-01T05:33:00.879281Z"
    }
   },
   "outputs": [],
   "source": [
    "plt.figure(figsize=(7,7))\n",
    "sns.countplot(data=df,x=\"HeartDisease\",hue=\"Stroke\");"
   ]
  },
  {
   "cell_type": "code",
   "execution_count": 25,
   "metadata": {
    "execution": {
     "iopub.execute_input": "2022-04-01T05:33:03.458599Z",
     "iopub.status.busy": "2022-04-01T05:33:03.457802Z",
     "iopub.status.idle": "2022-04-01T05:33:04.252030Z",
     "shell.execute_reply": "2022-04-01T05:33:04.251224Z",
     "shell.execute_reply.started": "2022-04-01T05:33:03.458543Z"
    }
   },
   "outputs": [],
   "source": [
    "plt.figure(figsize=(7,7))\n",
    "sns.countplot(data=df,x=\"HeartDisease\",hue=\"SkinCancer\");"
   ]
  },
  {
   "cell_type": "code",
   "execution_count": 27,
   "metadata": {
    "execution": {
     "iopub.execute_input": "2022-04-01T05:33:12.876862Z",
     "iopub.status.busy": "2022-04-01T05:33:12.876571Z",
     "iopub.status.idle": "2022-04-01T05:33:13.672047Z",
     "shell.execute_reply": "2022-04-01T05:33:13.671271Z",
     "shell.execute_reply.started": "2022-04-01T05:33:12.876831Z"
    }
   },
   "outputs": [],
   "source": [
    "plt.figure(figsize=(7,7))\n",
    "sns.countplot(data=df,x=\"HeartDisease\",hue=\"DiffWalking\");"
   ]
  },
  {
   "cell_type": "code",
   "execution_count": 12,
   "metadata": {
    "execution": {
     "iopub.execute_input": "2022-04-01T05:30:35.319063Z",
     "iopub.status.busy": "2022-04-01T05:30:35.318775Z",
     "iopub.status.idle": "2022-04-01T05:30:35.322746Z",
     "shell.execute_reply": "2022-04-01T05:30:35.321925Z",
     "shell.execute_reply.started": "2022-04-01T05:30:35.319031Z"
    }
   },
   "outputs": [],
   "source": [
    "# plt.figure(figsize=(7,7))\n",
    "# sns.countplot(data=df,x=\"HeartDisease\",hue=\"MentalHealth\")"
   ]
  },
  {
   "cell_type": "code",
   "execution_count": 28,
   "metadata": {
    "execution": {
     "iopub.execute_input": "2022-04-01T05:33:23.392837Z",
     "iopub.status.busy": "2022-04-01T05:33:23.392555Z",
     "iopub.status.idle": "2022-04-01T05:33:23.822606Z",
     "shell.execute_reply": "2022-04-01T05:33:23.821657Z",
     "shell.execute_reply.started": "2022-04-01T05:33:23.392807Z"
    }
   },
   "outputs": [],
   "source": [
    "df_2 = df.copy()\n",
    "dict(df_2[\"Diabetic\"].value_counts())\n",
    "\n",
    "Yes_No_dict = {\"No\":0, \"Yes\":1, \"Female\":1, \"Male\":0} \n",
    "#                ,\"No, borderline diabetes\": 2, \n",
    "#                \"Yes (during pregnancy)\": 3}\n",
    "\n",
    "Yes_No_List = [\"Stroke\", \"HeartDisease\", \"Smoking\", \"AlcoholDrinking\",\"PhysicalActivity\", \"Sex\"]#, \"Diabetic\"]\n",
    "\n",
    "for col in Yes_No_List:\n",
    "    df_2[col] = df_2[col].map(Yes_No_dict)\n",
    "\n",
    "df_2.head()"
   ]
  },
  {
   "cell_type": "code",
   "execution_count": 29,
   "metadata": {
    "execution": {
     "iopub.execute_input": "2022-04-01T05:33:25.402096Z",
     "iopub.status.busy": "2022-04-01T05:33:25.401687Z",
     "iopub.status.idle": "2022-04-01T05:33:25.410683Z",
     "shell.execute_reply": "2022-04-01T05:33:25.409949Z",
     "shell.execute_reply.started": "2022-04-01T05:33:25.402066Z"
    }
   },
   "outputs": [],
   "source": [
    "df_2[\"HeartDisease\"].value_counts(normalize = True)"
   ]
  },
  {
   "cell_type": "code",
   "execution_count": 30,
   "metadata": {
    "execution": {
     "iopub.execute_input": "2022-04-01T05:33:26.436171Z",
     "iopub.status.busy": "2022-04-01T05:33:26.435550Z",
     "iopub.status.idle": "2022-04-01T05:33:27.529835Z",
     "shell.execute_reply": "2022-04-01T05:33:27.529019Z",
     "shell.execute_reply.started": "2022-04-01T05:33:26.436110Z"
    }
   },
   "outputs": [],
   "source": [
    "sns.histplot(df_2[\"BMI\"])\n",
    "plt.show()"
   ]
  },
  {
   "cell_type": "code",
   "execution_count": 31,
   "metadata": {
    "execution": {
     "iopub.execute_input": "2022-04-01T05:33:29.088121Z",
     "iopub.status.busy": "2022-04-01T05:33:29.087819Z",
     "iopub.status.idle": "2022-04-01T05:33:29.094566Z",
     "shell.execute_reply": "2022-04-01T05:33:29.093652Z",
     "shell.execute_reply.started": "2022-04-01T05:33:29.088079Z"
    }
   },
   "outputs": [],
   "source": [
    "df_2.columns"
   ]
  },
  {
   "cell_type": "code",
   "execution_count": 36,
   "metadata": {
    "execution": {
     "iopub.execute_input": "2022-04-01T05:39:23.181231Z",
     "iopub.status.busy": "2022-04-01T05:39:23.180954Z",
     "iopub.status.idle": "2022-04-01T05:39:23.776431Z",
     "shell.execute_reply": "2022-04-01T05:39:23.775578Z",
     "shell.execute_reply.started": "2022-04-01T05:39:23.181203Z"
    }
   },
   "outputs": [],
   "source": [
    "\n",
    "\n",
    "List_1_0 = [\"Stroke\", \"Smoking\", \"AlcoholDrinking\",\"PhysicalActivity\", \"Sex\"]#, \"Diabetic\"]\n",
    "\n",
    "# List_1_0 = [\"Smoking\", \"AlcoholDrinking\",\"PhysicalActivity\", \"Sex\"] # No \"Stroke\", \n",
    "\n",
    "df_List_1_0 = df_2[List_1_0]\n",
    "\n",
    "#### Encoding By using OneHotEncoder\n",
    "\n",
    "cat = [\"Diabetic\", \"Race\", \"GenHealth\" ] #, \"SleepTime\"] \n",
    "# cat = [\"Race\", \"GenHealth\"] #, \"SleepTime\", \"Diabetic\" ]\n",
    "df_cat = df_2[cat]\n",
    "\n",
    "\n",
    "\n",
    "ohe = OneHotEncoder(categories='auto', sparse=False, handle_unknown = \"ignore\", drop=\"first\")\n",
    "\n",
    "df_cat_encoded = pd.DataFrame(np.squeeze(ohe.fit_transform(df_cat)), columns = ohe.get_feature_names())\n",
    "\n",
    "##### Scaling By using StandardScaler\n",
    "\n",
    "scaler = StandardScaler()\n",
    "\n",
    "BMI = df_2[[\"BMI\", \"SleepTime\"]]\n",
    "# BMI = df_2[[\"BMI\"]]\n",
    "\n",
    "scaled_BMI = scaler.fit_transform(BMI)\n",
    "\n",
    "df_scaled_BMI = pd.DataFrame(np.squeeze(scaler.fit_transform(BMI)), columns = scaler.feature_names_in_)\n",
    "\n",
    "#### Concatating New DataFrames\n",
    "\n",
    "X = pd.concat([df_cat_encoded, df_scaled_BMI, df_List_1_0], axis = 1)\n",
    "# X = pd.concat([df_cat_encoded, BMI, df_List_1_0], axis = 1)\n",
    "\n",
    "# X = pd.concat([BMI, df_List_1_0], axis = 1)\n",
    "\n",
    "X.head()"
   ]
  },
  {
   "cell_type": "code",
   "execution_count": 37,
   "metadata": {
    "execution": {
     "iopub.execute_input": "2022-04-01T05:39:31.807735Z",
     "iopub.status.busy": "2022-04-01T05:39:31.807408Z",
     "iopub.status.idle": "2022-04-01T05:39:32.055748Z",
     "shell.execute_reply": "2022-04-01T05:39:32.054995Z",
     "shell.execute_reply.started": "2022-04-01T05:39:31.807687Z"
    }
   },
   "outputs": [],
   "source": [
    "\n",
    "y = df_2[\"HeartDisease\"]\n",
    "X_train, X_test, y_train, y_test = train_test_split(X, y, random_state = 42, test_size = 0.2, stratify=y)\n",
    "\n",
    "# smote = SMOTE()\n",
    "# X_train, y_train = smote.fit_resample(X_train, y_train)\n",
    "\n",
    "X_train_resampled = X_train.copy()\n",
    "y_train_resampled = y_train.copy()"
   ]
  },
  {
   "cell_type": "code",
   "execution_count": 38,
   "metadata": {
    "execution": {
     "iopub.execute_input": "2022-04-01T05:39:34.961729Z",
     "iopub.status.busy": "2022-04-01T05:39:34.961413Z",
     "iopub.status.idle": "2022-04-01T05:39:34.971789Z",
     "shell.execute_reply": "2022-04-01T05:39:34.970764Z",
     "shell.execute_reply.started": "2022-04-01T05:39:34.961700Z"
    }
   },
   "outputs": [],
   "source": [
    "print(\"y_train:\", dict(y_train_resampled.value_counts(normalize = True)*100))\n",
    "print(\"y_test:\", dict(y_test.value_counts(normalize = True)*100))"
   ]
  },
  {
   "cell_type": "markdown",
   "metadata": {},
   "source": [
    "**XGBoost**"
   ]
  },
  {
   "cell_type": "code",
   "execution_count": 44,
   "metadata": {
    "execution": {
     "iopub.execute_input": "2022-04-01T05:45:13.655701Z",
     "iopub.status.busy": "2022-04-01T05:45:13.655162Z",
     "iopub.status.idle": "2022-04-01T05:45:20.541690Z",
     "shell.execute_reply": "2022-04-01T05:45:20.540832Z",
     "shell.execute_reply.started": "2022-04-01T05:45:13.655647Z"
    }
   },
   "outputs": [],
   "source": [
    "clf = xgb.XGBClassifier(max_depth = 20, n_estimators=20, seed=42, alpha = 25,  eta = 0.3,\n",
    "                        objective = 'binary:logistic', eval_metric = \"error\")\n",
    "clf.fit(X_train_resampled, y_train_resampled)\n",
    "\n",
    "training_preds = clf.predict(X_train_resampled)\n",
    "test_preds     = clf.predict(X_test)\n",
    "\n",
    "\n",
    "training_accuracy =  accuracy_score(y_train_resampled, training_preds)\n",
    "test_accuracy     =  accuracy_score(y_test, test_preds)\n",
    "\n",
    "print('Training Accuracy: {:.4}%'.format(training_accuracy * 100))\n",
    "print('Validation accuracy: {:.4}%'.format(test_accuracy * 100))\n",
    "\n",
    "# print(sum(test_preds == y_test)/len(y_test))"
   ]
  },
  {
   "cell_type": "code",
   "execution_count": null,
   "metadata": {},
   "outputs": [],
   "source": [
    "fig, ax = plt.subplots(1,1,figsize=(15, 7))\n",
    "xgb.plot_importance(clf, ax = ax);"
   ]
  },
  {
   "cell_type": "code",
   "execution_count": null,
   "metadata": {},
   "outputs": [],
   "source": [
    "#### \n",
    "# No \"Stroke\", and \"SleepTime\" not categorical and is in BMI\n",
    "# max_depth = 10, n_estimators=10, seed=42, alpha = 20, eta = 0.3, objective = 'binary:logistic', \n",
    "# eval_metric = \"error\"```\n",
    "\n",
    "# gives \n",
    "\n",
    "# Training Accuracy: 91.51%\n",
    "# Validation accuracy: 91.51%\n",
    "#---------------------------------------------------------------------------------------------\n",
    "### However, with stroke and and \"SleepTime\" not categorical and is in BMI\n",
    "# max_depth = 10, n_estimators=10, seed=42, alpha = 20, eta = 0.3,\n",
    "#                         objective = 'binary:logistic', eval_metric = \"error\"\n",
    "\n",
    "# We got\n",
    "\n",
    "# Training Accuracy: 91.61%\n",
    "# Validation accuracy: 91.58%\n",
    "\n",
    "#---------------------------------------------------------------------------------------------\n",
    "### However, with stroke and and \"SleepTime\" as categorical and not in BMI\n",
    "# max_depth = 10, n_estimators=10, seed=42, alpha = 20, eta = 0.3,\n",
    "#                         objective = 'binary:logistic', eval_metric = \"error\"\n",
    "\n",
    "# We got\n",
    "\n",
    "# Training Accuracy: 91.62%\n",
    "# Validation accuracy: 91.59%\n",
    "\n",
    "#---------------------------------------------------------------------------------------------\n",
    "\n",
    "### With Diabetic as a Categorical with ranges from 0-3 in the loop, and \"SleepTime\" in BMI, \n",
    "### with  drop=\"first\"\n",
    "### and eval_metric = \"error\" and max_depth = 20, n_estimators=20, seed=42, alpha = 25,  eta = 0.3, \n",
    "### objective = 'binary:logistic', \n",
    "### eval_metric = \"error\"\n",
    "\n",
    "### we got\n",
    "\n",
    "### Training Accuracy: 91.62%\n",
    "### Validation accuracy: 91.6%\n",
    "\n",
    "#---------------------------------------------------------------------------------------------\n",
    "\n"
   ]
  },
  {
   "cell_type": "markdown",
   "metadata": {},
   "source": [
    "**GridSearch For XGBoost**"
   ]
  },
  {
   "cell_type": "code",
   "execution_count": 60,
   "metadata": {
    "execution": {
     "iopub.execute_input": "2022-04-01T06:07:53.427183Z",
     "iopub.status.busy": "2022-04-01T06:07:53.426482Z",
     "iopub.status.idle": "2022-04-01T06:07:53.433175Z",
     "shell.execute_reply": "2022-04-01T06:07:53.432523Z",
     "shell.execute_reply.started": "2022-04-01T06:07:53.427134Z"
    }
   },
   "outputs": [],
   "source": [
    "clf_param_grid = {\n",
    "    \"max_depth\": [10, 20, 25],\n",
    "    \"n_estimators\": [15, 20, 25, 30],\n",
    "    \"seed\": [42],\n",
    "    \"alpha\": [20, 25, 30],\n",
    "    \"eta\": [0.3],\n",
    "    \"objective\" : ['binary:logistic'], \n",
    "    \"eval_metric\" : [\"auc\", \"error\"]\n",
    "}"
   ]
  },
  {
   "cell_type": "code",
   "execution_count": 61,
   "metadata": {
    "execution": {
     "iopub.execute_input": "2022-04-01T06:08:04.491190Z",
     "iopub.status.busy": "2022-04-01T06:08:04.490908Z",
     "iopub.status.idle": "2022-04-01T06:15:56.665863Z",
     "shell.execute_reply": "2022-04-01T06:15:56.665026Z",
     "shell.execute_reply.started": "2022-04-01T06:08:04.491160Z"
    }
   },
   "outputs": [],
   "source": [
    "clf_grid = xgb.XGBClassifier()\n",
    "\n",
    "clf_grid_search = GridSearchCV(clf_grid, clf_param_grid, cv = 2)\n",
    "\n",
    "\n",
    "# Fit to the data\n",
    "clf_grid_search.fit(X_train_resampled, y_train_resampled)"
   ]
  },
  {
   "cell_type": "code",
   "execution_count": 62,
   "metadata": {
    "execution": {
     "iopub.execute_input": "2022-04-01T06:16:25.340596Z",
     "iopub.status.busy": "2022-04-01T06:16:25.339596Z",
     "iopub.status.idle": "2022-04-01T06:16:25.560789Z",
     "shell.execute_reply": "2022-04-01T06:16:25.559959Z",
     "shell.execute_reply.started": "2022-04-01T06:16:25.340540Z"
    }
   },
   "outputs": [],
   "source": [
    "grid_training_preds = clf_grid_search.predict(X_train_resampled)\n",
    "grid_test_preds     = clf_grid_search.predict(X_test)\n",
    "\n",
    "\n",
    "grid_training_accuracy =  accuracy_score(y_train_resampled, grid_training_preds)\n",
    "grid_test_accuracy     =  accuracy_score(y_test, grid_test_preds)\n",
    "\n",
    "print('Training Accuracy: {:.4}%'.format(grid_training_accuracy * 100))\n",
    "print('Validation accuracy: {:.4}%'.format(grid_test_accuracy * 100))"
   ]
  },
  {
   "cell_type": "code",
   "execution_count": 63,
   "metadata": {
    "execution": {
     "iopub.execute_input": "2022-04-01T06:16:27.749590Z",
     "iopub.status.busy": "2022-04-01T06:16:27.749267Z",
     "iopub.status.idle": "2022-04-01T06:16:27.755823Z",
     "shell.execute_reply": "2022-04-01T06:16:27.754939Z",
     "shell.execute_reply.started": "2022-04-01T06:16:27.749556Z"
    }
   },
   "outputs": [],
   "source": [
    "clf_grid_search.best_params_"
   ]
  },
  {
   "cell_type": "markdown",
   "metadata": {},
   "source": [
    "**Random Forest**"
   ]
  },
  {
   "cell_type": "code",
   "execution_count": 64,
   "metadata": {
    "execution": {
     "iopub.execute_input": "2022-04-01T06:17:00.361565Z",
     "iopub.status.busy": "2022-04-01T06:17:00.361113Z",
     "iopub.status.idle": "2022-04-01T06:17:42.200460Z",
     "shell.execute_reply": "2022-04-01T06:17:42.199458Z",
     "shell.execute_reply.started": "2022-04-01T06:17:00.361521Z"
    }
   },
   "outputs": [],
   "source": [
    "from sklearn.ensemble import RandomForestClassifier\n",
    "rf = RandomForestClassifier(criterion=\"entropy\", bootstrap = True)\n",
    "\n",
    "rf.fit(X_train_resampled, y_train_resampled)\n",
    "\n",
    "training_preds = rf.predict(X_train_resampled)\n",
    "test_preds     = rf.predict(X_test)\n",
    "\n",
    "\n",
    "training_accuracy = accuracy_score(y_train_resampled, training_preds)\n",
    "test_accuracy     = accuracy_score(y_test, test_preds)\n",
    "\n",
    "print('Training Accuracy: {:.4}%'.format(training_accuracy * 100))\n",
    "print('Validation accuracy: {:.4}%'.format(test_accuracy * 100))"
   ]
  },
  {
   "cell_type": "code",
   "execution_count": null,
   "metadata": {
    "execution": {
     "iopub.execute_input": "2022-03-29T09:49:49.413144Z",
     "iopub.status.busy": "2022-03-29T09:49:49.41241Z",
     "iopub.status.idle": "2022-03-29T09:49:49.418024Z",
     "shell.execute_reply": "2022-03-29T09:49:49.417274Z",
     "shell.execute_reply.started": "2022-03-29T09:49:49.413105Z"
    }
   },
   "outputs": [],
   "source": [
    "# param_grid ={\"max_depth\": [5, 10, 15, 20],\n",
    "#             \"min_samples_leaf\": [5, 10, 15],\n",
    "#             \"min_samples_split\": [2, 3, 6]}"
   ]
  },
  {
   "cell_type": "code",
   "execution_count": null,
   "metadata": {
    "execution": {
     "iopub.execute_input": "2022-03-29T09:50:18.0019Z",
     "iopub.status.busy": "2022-03-29T09:50:18.001613Z",
     "iopub.status.idle": "2022-03-29T10:27:39.040221Z",
     "shell.execute_reply": "2022-03-29T10:27:39.038759Z",
     "shell.execute_reply.started": "2022-03-29T09:50:18.00187Z"
    }
   },
   "outputs": [],
   "source": [
    "\n",
    "# grid_clf = GridSearchCV(rf, param_grid, scoring='accuracy', cv=None,\n",
    "#                                                              n_jobs=1)\n",
    "# grid_clf.fit(X_train_resampled, y_train_resampled)\n",
    "\n",
    "# best_parameters = grid_clf.best_params_\n",
    "\n",
    "# print('Grid Search found the following optimal parameters: ')\n",
    "# for param_name in sorted(best_parameters.keys()):\n",
    "#     print('%s: %r' % (param_name, best_parameters[param_name]))\n",
    "\n",
    "# training_preds = grid_clf.predict(X_train_resampled)\n",
    "# test_preds     = grid_clf.predict(X_test)\n",
    "# training_accuracy = accuracy_score(y_train_resampled, training_preds)\n",
    "# test_accuracy = accuracy_score(y_test, test_preds)\n",
    "\n",
    "# print('')\n",
    "# print('Training Accuracy: {:.4}%'.format(training_accuracy * 100))\n",
    "# print('Validation accuracy: {:.4}%'.format(test_accuracy * 100))"
   ]
  },
  {
   "cell_type": "code",
   "execution_count": null,
   "metadata": {},
   "outputs": [],
   "source": []
  }
 ],
 "metadata": {
  "kernelspec": {
   "display_name": "Python 3",
   "language": "python",
   "name": "python3"
  },
  "language_info": {
   "codemirror_mode": {
    "name": "ipython",
    "version": 3
   },
   "file_extension": ".py",
   "mimetype": "text/x-python",
   "name": "python",
   "nbconvert_exporter": "python",
   "pygments_lexer": "ipython3",
   "version": "3.8.5"
  },
  "latex_envs": {
   "LaTeX_envs_menu_present": true,
   "autoclose": false,
   "autocomplete": true,
   "bibliofile": "biblio.bib",
   "cite_by": "apalike",
   "current_citInitial": 1,
   "eqLabelWithNumbers": true,
   "eqNumInitial": 1,
   "hotkeys": {
    "equation": "Ctrl-E",
    "itemize": "Ctrl-I"
   },
   "labels_anchors": false,
   "latex_user_defs": false,
   "report_style_numbering": false,
   "user_envs_cfg": false
  },
  "toc": {
   "base_numbering": 1,
   "nav_menu": {},
   "number_sections": true,
   "sideBar": true,
   "skip_h1_title": false,
   "title_cell": "Table of Contents",
   "title_sidebar": "Contents",
   "toc_cell": false,
   "toc_position": {},
   "toc_section_display": true,
   "toc_window_display": false
  },
  "varInspector": {
   "cols": {
    "lenName": 16,
    "lenType": 16,
    "lenVar": 40
   },
   "kernels_config": {
    "python": {
     "delete_cmd_postfix": "",
     "delete_cmd_prefix": "del ",
     "library": "var_list.py",
     "varRefreshCmd": "print(var_dic_list())"
    },
    "r": {
     "delete_cmd_postfix": ") ",
     "delete_cmd_prefix": "rm(",
     "library": "var_list.r",
     "varRefreshCmd": "cat(var_dic_list()) "
    }
   },
   "types_to_exclude": [
    "module",
    "function",
    "builtin_function_or_method",
    "instance",
    "_Feature"
   ],
   "window_display": false
  }
 },
 "nbformat": 4,
 "nbformat_minor": 4
}
