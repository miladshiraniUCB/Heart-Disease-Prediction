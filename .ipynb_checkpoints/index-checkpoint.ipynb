{
 "cells": [
  {
   "cell_type": "code",
   "execution_count": 78,
   "metadata": {},
   "outputs": [
    {
     "name": "stdout",
     "output_type": "stream",
     "text": [
      "Collecting flaml\n",
      "  Downloading FLAML-1.0.0-py3-none-any.whl (157 kB)\n",
      "\u001b[K     |████████████████████████████████| 157 kB 3.5 MB/s eta 0:00:01\n",
      "\u001b[?25hRequirement already satisfied: xgboost<=1.3.3,>=0.90 in /opt/anaconda3/envs/learn-env/lib/python3.8/site-packages (from flaml) (1.2.0)\n",
      "Requirement already satisfied: scipy>=1.4.1 in /opt/anaconda3/envs/learn-env/lib/python3.8/site-packages (from flaml) (1.5.2)\n",
      "Requirement already satisfied: NumPy>=1.16.2 in /opt/anaconda3/envs/learn-env/lib/python3.8/site-packages (from flaml) (1.18.5)\n",
      "Collecting pandas>=1.1.4\n",
      "  Downloading pandas-1.4.1-cp38-cp38-macosx_10_9_x86_64.whl (11.4 MB)\n",
      "\u001b[K     |████████████████████████████████| 11.4 MB 15.9 MB/s eta 0:00:01\n",
      "\u001b[?25hCollecting lightgbm>=2.3.1\n",
      "  Downloading lightgbm-3.3.2-py3-none-macosx_10_14_x86_64.macosx_10_15_x86_64.macosx_11_0_x86_64.whl (1.2 MB)\n",
      "\u001b[K     |████████████████████████████████| 1.2 MB 30.7 MB/s eta 0:00:01\n",
      "\u001b[?25hCollecting scikit-learn>=0.24\n",
      "  Downloading scikit_learn-1.0.2-cp38-cp38-macosx_10_13_x86_64.whl (7.9 MB)\n",
      "\u001b[K     |████████████████████████████████| 7.9 MB 30.4 MB/s eta 0:00:01\n",
      "\u001b[?25hRequirement already satisfied: python-dateutil>=2.8.1 in /opt/anaconda3/envs/learn-env/lib/python3.8/site-packages (from pandas>=1.1.4->flaml) (2.8.1)\n",
      "Requirement already satisfied: pytz>=2020.1 in /opt/anaconda3/envs/learn-env/lib/python3.8/site-packages (from pandas>=1.1.4->flaml) (2020.1)\n",
      "Requirement already satisfied: wheel in /opt/anaconda3/envs/learn-env/lib/python3.8/site-packages (from lightgbm>=2.3.1->flaml) (0.35.1)\n",
      "Requirement already satisfied: joblib>=0.11 in /opt/anaconda3/envs/learn-env/lib/python3.8/site-packages (from scikit-learn>=0.24->flaml) (0.17.0)\n",
      "Requirement already satisfied: threadpoolctl>=2.0.0 in /opt/anaconda3/envs/learn-env/lib/python3.8/site-packages (from scikit-learn>=0.24->flaml) (2.1.0)\n",
      "Requirement already satisfied: six>=1.5 in /opt/anaconda3/envs/learn-env/lib/python3.8/site-packages (from python-dateutil>=2.8.1->pandas>=1.1.4->flaml) (1.15.0)\n",
      "Installing collected packages: pandas, scikit-learn, lightgbm, flaml\n",
      "  Attempting uninstall: pandas\n",
      "    Found existing installation: pandas 1.1.3\n",
      "    Uninstalling pandas-1.1.3:\n",
      "      Successfully uninstalled pandas-1.1.3\n",
      "  Attempting uninstall: scikit-learn\n",
      "    Found existing installation: scikit-learn 0.23.2\n",
      "    Uninstalling scikit-learn-0.23.2:\n",
      "      Successfully uninstalled scikit-learn-0.23.2\n",
      "Successfully installed flaml-1.0.0 lightgbm-3.3.2 pandas-1.4.1 scikit-learn-1.0.2\n"
     ]
    }
   ],
   "source": [
    "! pip install flaml"
   ]
  },
  {
   "cell_type": "code",
   "execution_count": 79,
   "metadata": {},
   "outputs": [
    {
     "name": "stdout",
     "output_type": "stream",
     "text": [
      "Requirement already satisfied: flaml[notebook] in /opt/anaconda3/envs/learn-env/lib/python3.8/site-packages (1.0.0)\n",
      "Requirement already satisfied: xgboost<=1.3.3,>=0.90 in /opt/anaconda3/envs/learn-env/lib/python3.8/site-packages (from flaml[notebook]) (1.2.0)\n",
      "Requirement already satisfied: scipy>=1.4.1 in /opt/anaconda3/envs/learn-env/lib/python3.8/site-packages (from flaml[notebook]) (1.5.2)\n",
      "Requirement already satisfied: pandas>=1.1.4 in /opt/anaconda3/envs/learn-env/lib/python3.8/site-packages (from flaml[notebook]) (1.4.1)\n",
      "Requirement already satisfied: scikit-learn>=0.24 in /opt/anaconda3/envs/learn-env/lib/python3.8/site-packages (from flaml[notebook]) (1.0.2)\n",
      "Requirement already satisfied: lightgbm>=2.3.1 in /opt/anaconda3/envs/learn-env/lib/python3.8/site-packages (from flaml[notebook]) (3.3.2)\n",
      "Requirement already satisfied: NumPy>=1.16.2 in /opt/anaconda3/envs/learn-env/lib/python3.8/site-packages (from flaml[notebook]) (1.18.5)\n",
      "Collecting rgf-python; extra == \"notebook\"\n",
      "  Downloading rgf_python-3.12.0-py3-none-macosx_10_15_x86_64.macosx_11_6_x86_64.macosx_12_0_x86_64.whl (743 kB)\n",
      "\u001b[K     |████████████████████████████████| 743 kB 2.6 MB/s eta 0:00:01\n",
      "\u001b[?25hCollecting openml==0.10.2; extra == \"notebook\"\n",
      "  Downloading openml-0.10.2.tar.gz (158 kB)\n",
      "\u001b[K     |████████████████████████████████| 158 kB 63.5 MB/s eta 0:00:01\n",
      "\u001b[?25hRequirement already satisfied: matplotlib; extra == \"notebook\" in /opt/anaconda3/envs/learn-env/lib/python3.8/site-packages (from flaml[notebook]) (3.3.1)\n",
      "Collecting catboost>=0.26; extra == \"notebook\"\n",
      "  Downloading catboost-1.0.4-cp38-none-macosx_10_6_intel.macosx_10_9_intel.macosx_10_9_x86_64.macosx_10_10_intel.macosx_10_10_x86_64.whl (12.7 MB)\n",
      "\u001b[K     |████████████████████████████████| 12.7 MB 11.3 MB/s eta 0:00:01\n",
      "\u001b[?25hCollecting jupyter; extra == \"notebook\"\n",
      "  Downloading jupyter-1.0.0-py2.py3-none-any.whl (2.7 kB)\n",
      "Requirement already satisfied: pytz>=2020.1 in /opt/anaconda3/envs/learn-env/lib/python3.8/site-packages (from pandas>=1.1.4->flaml[notebook]) (2020.1)\n",
      "Requirement already satisfied: python-dateutil>=2.8.1 in /opt/anaconda3/envs/learn-env/lib/python3.8/site-packages (from pandas>=1.1.4->flaml[notebook]) (2.8.1)\n",
      "Requirement already satisfied: threadpoolctl>=2.0.0 in /opt/anaconda3/envs/learn-env/lib/python3.8/site-packages (from scikit-learn>=0.24->flaml[notebook]) (2.1.0)\n",
      "Requirement already satisfied: joblib>=0.11 in /opt/anaconda3/envs/learn-env/lib/python3.8/site-packages (from scikit-learn>=0.24->flaml[notebook]) (0.17.0)\n",
      "Requirement already satisfied: wheel in /opt/anaconda3/envs/learn-env/lib/python3.8/site-packages (from lightgbm>=2.3.1->flaml[notebook]) (0.35.1)\n",
      "Collecting liac-arff>=2.4.0\n",
      "  Downloading liac-arff-2.5.0.tar.gz (13 kB)\n",
      "Collecting xmltodict\n",
      "  Downloading xmltodict-0.12.0-py2.py3-none-any.whl (9.2 kB)\n",
      "Requirement already satisfied: requests in /opt/anaconda3/envs/learn-env/lib/python3.8/site-packages (from openml==0.10.2; extra == \"notebook\"->flaml[notebook]) (2.24.0)\n",
      "Requirement already satisfied: certifi>=2020.06.20 in /opt/anaconda3/envs/learn-env/lib/python3.8/site-packages (from matplotlib; extra == \"notebook\"->flaml[notebook]) (2021.10.8)\n",
      "Requirement already satisfied: cycler>=0.10 in /opt/anaconda3/envs/learn-env/lib/python3.8/site-packages (from matplotlib; extra == \"notebook\"->flaml[notebook]) (0.10.0)\n",
      "Requirement already satisfied: pillow>=6.2.0 in /opt/anaconda3/envs/learn-env/lib/python3.8/site-packages (from matplotlib; extra == \"notebook\"->flaml[notebook]) (7.2.0)\n",
      "Requirement already satisfied: kiwisolver>=1.0.1 in /opt/anaconda3/envs/learn-env/lib/python3.8/site-packages (from matplotlib; extra == \"notebook\"->flaml[notebook]) (1.2.0)\n",
      "Requirement already satisfied: pyparsing!=2.0.4,!=2.1.2,!=2.1.6,>=2.0.3 in /opt/anaconda3/envs/learn-env/lib/python3.8/site-packages (from matplotlib; extra == \"notebook\"->flaml[notebook]) (2.4.7)\n",
      "Requirement already satisfied: plotly in /opt/anaconda3/envs/learn-env/lib/python3.8/site-packages (from catboost>=0.26; extra == \"notebook\"->flaml[notebook]) (4.11.0)\n",
      "Requirement already satisfied: graphviz in /opt/anaconda3/envs/learn-env/lib/python3.8/site-packages (from catboost>=0.26; extra == \"notebook\"->flaml[notebook]) (0.19.1)\n",
      "Requirement already satisfied: six in /opt/anaconda3/envs/learn-env/lib/python3.8/site-packages (from catboost>=0.26; extra == \"notebook\"->flaml[notebook]) (1.15.0)\n",
      "Requirement already satisfied: ipywidgets in /opt/anaconda3/envs/learn-env/lib/python3.8/site-packages (from jupyter; extra == \"notebook\"->flaml[notebook]) (7.5.1)\n",
      "Collecting qtconsole\n",
      "  Downloading qtconsole-5.3.0-py3-none-any.whl (120 kB)\n",
      "\u001b[K     |████████████████████████████████| 120 kB 40.5 MB/s eta 0:00:01\n",
      "\u001b[?25hRequirement already satisfied: nbconvert in /Users/miladshirani/nbconvert (from jupyter; extra == \"notebook\"->flaml[notebook]) (6.4.0)\n",
      "Requirement already satisfied: notebook in /opt/anaconda3/envs/learn-env/lib/python3.8/site-packages (from jupyter; extra == \"notebook\"->flaml[notebook]) (6.1.4)\n",
      "Collecting jupyter-console\n",
      "  Downloading jupyter_console-6.4.3-py3-none-any.whl (22 kB)\n",
      "Requirement already satisfied: ipykernel in /opt/anaconda3/envs/learn-env/lib/python3.8/site-packages (from jupyter; extra == \"notebook\"->flaml[notebook]) (5.3.4)\n",
      "Requirement already satisfied: chardet<4,>=3.0.2 in /opt/anaconda3/envs/learn-env/lib/python3.8/site-packages (from requests->openml==0.10.2; extra == \"notebook\"->flaml[notebook]) (3.0.4)\n",
      "Requirement already satisfied: idna<3,>=2.5 in /opt/anaconda3/envs/learn-env/lib/python3.8/site-packages (from requests->openml==0.10.2; extra == \"notebook\"->flaml[notebook]) (2.10)\n",
      "Requirement already satisfied: urllib3!=1.25.0,!=1.25.1,<1.26,>=1.21.1 in /opt/anaconda3/envs/learn-env/lib/python3.8/site-packages (from requests->openml==0.10.2; extra == \"notebook\"->flaml[notebook]) (1.25.10)\n",
      "Requirement already satisfied: retrying>=1.3.3 in /opt/anaconda3/envs/learn-env/lib/python3.8/site-packages (from plotly->catboost>=0.26; extra == \"notebook\"->flaml[notebook]) (1.3.3)\n",
      "Requirement already satisfied: nbformat>=4.2.0 in /opt/anaconda3/envs/learn-env/lib/python3.8/site-packages (from ipywidgets->jupyter; extra == \"notebook\"->flaml[notebook]) (5.0.7)\n",
      "Requirement already satisfied: traitlets>=4.3.1 in /opt/anaconda3/envs/learn-env/lib/python3.8/site-packages (from ipywidgets->jupyter; extra == \"notebook\"->flaml[notebook]) (5.0.4)\n",
      "Requirement already satisfied: ipython>=4.0.0; python_version >= \"3.3\" in /opt/anaconda3/envs/learn-env/lib/python3.8/site-packages (from ipywidgets->jupyter; extra == \"notebook\"->flaml[notebook]) (7.18.1)\n",
      "Requirement already satisfied: widgetsnbextension~=3.5.0 in /opt/anaconda3/envs/learn-env/lib/python3.8/site-packages (from ipywidgets->jupyter; extra == \"notebook\"->flaml[notebook]) (3.5.1)\n",
      "Collecting qtpy>=2.0.1\n",
      "  Downloading QtPy-2.0.1-py3-none-any.whl (65 kB)\n",
      "\u001b[K     |████████████████████████████████| 65 kB 6.4 MB/s eta 0:00:011\n",
      "\u001b[?25hRequirement already satisfied: jupyter-client>=4.1 in /opt/anaconda3/envs/learn-env/lib/python3.8/site-packages (from qtconsole->jupyter; extra == \"notebook\"->flaml[notebook]) (6.1.7)\n",
      "Requirement already satisfied: ipython-genutils in /opt/anaconda3/envs/learn-env/lib/python3.8/site-packages (from qtconsole->jupyter; extra == \"notebook\"->flaml[notebook]) (0.2.0)\n",
      "Requirement already satisfied: pygments in /opt/anaconda3/envs/learn-env/lib/python3.8/site-packages (from qtconsole->jupyter; extra == \"notebook\"->flaml[notebook]) (2.7.1)\n",
      "Requirement already satisfied: jupyter-core in /opt/anaconda3/envs/learn-env/lib/python3.8/site-packages (from qtconsole->jupyter; extra == \"notebook\"->flaml[notebook]) (4.6.3)\n",
      "Requirement already satisfied: pyzmq>=17.1 in /opt/anaconda3/envs/learn-env/lib/python3.8/site-packages (from qtconsole->jupyter; extra == \"notebook\"->flaml[notebook]) (19.0.2)\n",
      "Requirement already satisfied: mistune<2,>=0.8.1 in /opt/anaconda3/envs/learn-env/lib/python3.8/site-packages (from nbconvert->jupyter; extra == \"notebook\"->flaml[notebook]) (0.8.4)\n",
      "Requirement already satisfied: jinja2>=2.4 in /opt/anaconda3/envs/learn-env/lib/python3.8/site-packages (from nbconvert->jupyter; extra == \"notebook\"->flaml[notebook]) (2.11.2)\n",
      "Requirement already satisfied: jupyterlab_pygments in /opt/anaconda3/envs/learn-env/lib/python3.8/site-packages (from nbconvert->jupyter; extra == \"notebook\"->flaml[notebook]) (0.1.2)\n",
      "Requirement already satisfied: entrypoints>=0.2.2 in /opt/anaconda3/envs/learn-env/lib/python3.8/site-packages (from nbconvert->jupyter; extra == \"notebook\"->flaml[notebook]) (0.3)\n",
      "Requirement already satisfied: bleach in /opt/anaconda3/envs/learn-env/lib/python3.8/site-packages (from nbconvert->jupyter; extra == \"notebook\"->flaml[notebook]) (3.2.1)\n",
      "Requirement already satisfied: pandocfilters>=1.4.1 in /opt/anaconda3/envs/learn-env/lib/python3.8/site-packages (from nbconvert->jupyter; extra == \"notebook\"->flaml[notebook]) (1.4.2)\n",
      "Requirement already satisfied: testpath in /opt/anaconda3/envs/learn-env/lib/python3.8/site-packages (from nbconvert->jupyter; extra == \"notebook\"->flaml[notebook]) (0.4.4)\n",
      "Requirement already satisfied: defusedxml in /opt/anaconda3/envs/learn-env/lib/python3.8/site-packages (from nbconvert->jupyter; extra == \"notebook\"->flaml[notebook]) (0.6.0)\n",
      "Requirement already satisfied: nbclient<0.6.0,>=0.5.0 in /opt/anaconda3/envs/learn-env/lib/python3.8/site-packages (from nbconvert->jupyter; extra == \"notebook\"->flaml[notebook]) (0.5.0)\n"
     ]
    },
    {
     "name": "stdout",
     "output_type": "stream",
     "text": [
      "Requirement already satisfied: tornado>=5.0 in /opt/anaconda3/envs/learn-env/lib/python3.8/site-packages (from notebook->jupyter; extra == \"notebook\"->flaml[notebook]) (6.0.4)\n",
      "Requirement already satisfied: argon2-cffi in /opt/anaconda3/envs/learn-env/lib/python3.8/site-packages (from notebook->jupyter; extra == \"notebook\"->flaml[notebook]) (20.1.0)\n",
      "Requirement already satisfied: Send2Trash in /opt/anaconda3/envs/learn-env/lib/python3.8/site-packages (from notebook->jupyter; extra == \"notebook\"->flaml[notebook]) (1.5.0)\n",
      "Requirement already satisfied: terminado>=0.8.3 in /opt/anaconda3/envs/learn-env/lib/python3.8/site-packages (from notebook->jupyter; extra == \"notebook\"->flaml[notebook]) (0.9.1)\n",
      "Requirement already satisfied: prometheus-client in /opt/anaconda3/envs/learn-env/lib/python3.8/site-packages (from notebook->jupyter; extra == \"notebook\"->flaml[notebook]) (0.8.0)\n",
      "Requirement already satisfied: prompt-toolkit!=3.0.0,!=3.0.1,<3.1.0,>=2.0.0 in /opt/anaconda3/envs/learn-env/lib/python3.8/site-packages (from jupyter-console->jupyter; extra == \"notebook\"->flaml[notebook]) (3.0.8)\n",
      "Requirement already satisfied: appnope; platform_system == \"Darwin\" in /opt/anaconda3/envs/learn-env/lib/python3.8/site-packages (from ipykernel->jupyter; extra == \"notebook\"->flaml[notebook]) (0.1.0)\n",
      "Requirement already satisfied: jsonschema!=2.5.0,>=2.4 in /opt/anaconda3/envs/learn-env/lib/python3.8/site-packages (from nbformat>=4.2.0->ipywidgets->jupyter; extra == \"notebook\"->flaml[notebook]) (3.2.0)\n",
      "Requirement already satisfied: pickleshare in /opt/anaconda3/envs/learn-env/lib/python3.8/site-packages (from ipython>=4.0.0; python_version >= \"3.3\"->ipywidgets->jupyter; extra == \"notebook\"->flaml[notebook]) (0.7.5)\n",
      "Requirement already satisfied: pexpect>4.3; sys_platform != \"win32\" in /opt/anaconda3/envs/learn-env/lib/python3.8/site-packages (from ipython>=4.0.0; python_version >= \"3.3\"->ipywidgets->jupyter; extra == \"notebook\"->flaml[notebook]) (4.8.0)\n",
      "Requirement already satisfied: decorator in /opt/anaconda3/envs/learn-env/lib/python3.8/site-packages (from ipython>=4.0.0; python_version >= \"3.3\"->ipywidgets->jupyter; extra == \"notebook\"->flaml[notebook]) (4.4.2)\n",
      "Requirement already satisfied: backcall in /opt/anaconda3/envs/learn-env/lib/python3.8/site-packages (from ipython>=4.0.0; python_version >= \"3.3\"->ipywidgets->jupyter; extra == \"notebook\"->flaml[notebook]) (0.2.0)\n",
      "Requirement already satisfied: setuptools>=18.5 in /opt/anaconda3/envs/learn-env/lib/python3.8/site-packages (from ipython>=4.0.0; python_version >= \"3.3\"->ipywidgets->jupyter; extra == \"notebook\"->flaml[notebook]) (50.3.0.post20201103)\n",
      "Requirement already satisfied: jedi>=0.10 in /opt/anaconda3/envs/learn-env/lib/python3.8/site-packages (from ipython>=4.0.0; python_version >= \"3.3\"->ipywidgets->jupyter; extra == \"notebook\"->flaml[notebook]) (0.17.2)\n",
      "Requirement already satisfied: packaging in /opt/anaconda3/envs/learn-env/lib/python3.8/site-packages (from qtpy>=2.0.1->qtconsole->jupyter; extra == \"notebook\"->flaml[notebook]) (20.4)\n",
      "Requirement already satisfied: MarkupSafe>=0.23 in /opt/anaconda3/envs/learn-env/lib/python3.8/site-packages (from jinja2>=2.4->nbconvert->jupyter; extra == \"notebook\"->flaml[notebook]) (1.1.1)\n",
      "Requirement already satisfied: webencodings in /opt/anaconda3/envs/learn-env/lib/python3.8/site-packages (from bleach->nbconvert->jupyter; extra == \"notebook\"->flaml[notebook]) (0.5.1)\n",
      "Requirement already satisfied: async-generator in /opt/anaconda3/envs/learn-env/lib/python3.8/site-packages (from nbclient<0.6.0,>=0.5.0->nbconvert->jupyter; extra == \"notebook\"->flaml[notebook]) (1.10)\n",
      "Requirement already satisfied: nest-asyncio in /opt/anaconda3/envs/learn-env/lib/python3.8/site-packages (from nbclient<0.6.0,>=0.5.0->nbconvert->jupyter; extra == \"notebook\"->flaml[notebook]) (1.4.1)\n",
      "Requirement already satisfied: cffi>=1.0.0 in /opt/anaconda3/envs/learn-env/lib/python3.8/site-packages (from argon2-cffi->notebook->jupyter; extra == \"notebook\"->flaml[notebook]) (1.14.3)\n",
      "Requirement already satisfied: ptyprocess; os_name != \"nt\" in /opt/anaconda3/envs/learn-env/lib/python3.8/site-packages (from terminado>=0.8.3->notebook->jupyter; extra == \"notebook\"->flaml[notebook]) (0.6.0)\n",
      "Requirement already satisfied: wcwidth in /opt/anaconda3/envs/learn-env/lib/python3.8/site-packages (from prompt-toolkit!=3.0.0,!=3.0.1,<3.1.0,>=2.0.0->jupyter-console->jupyter; extra == \"notebook\"->flaml[notebook]) (0.2.5)\n",
      "Requirement already satisfied: attrs>=17.4.0 in /opt/anaconda3/envs/learn-env/lib/python3.8/site-packages (from jsonschema!=2.5.0,>=2.4->nbformat>=4.2.0->ipywidgets->jupyter; extra == \"notebook\"->flaml[notebook]) (20.2.0)\n",
      "Requirement already satisfied: pyrsistent>=0.14.0 in /opt/anaconda3/envs/learn-env/lib/python3.8/site-packages (from jsonschema!=2.5.0,>=2.4->nbformat>=4.2.0->ipywidgets->jupyter; extra == \"notebook\"->flaml[notebook]) (0.17.3)\n",
      "Requirement already satisfied: parso<0.8.0,>=0.7.0 in /opt/anaconda3/envs/learn-env/lib/python3.8/site-packages (from jedi>=0.10->ipython>=4.0.0; python_version >= \"3.3\"->ipywidgets->jupyter; extra == \"notebook\"->flaml[notebook]) (0.7.1)\n",
      "Requirement already satisfied: pycparser in /opt/anaconda3/envs/learn-env/lib/python3.8/site-packages (from cffi>=1.0.0->argon2-cffi->notebook->jupyter; extra == \"notebook\"->flaml[notebook]) (2.20)\n",
      "Building wheels for collected packages: openml, liac-arff\n",
      "  Building wheel for openml (setup.py) ... \u001b[?25ldone\n",
      "\u001b[?25h  Created wheel for openml: filename=openml-0.10.2-py3-none-any.whl size=190318 sha256=626dcf3ac66a6e8c55f23ef07c023d5119b935b438339d2baaa402b43dcf2e50\n",
      "  Stored in directory: /Users/miladshirani/Library/Caches/pip/wheels/e9/c7/af/50e65ac06e82af181b9ce080c156cd4c76fa2ea8904f28c7cd\n",
      "  Building wheel for liac-arff (setup.py) ... \u001b[?25ldone\n",
      "\u001b[?25h  Created wheel for liac-arff: filename=liac_arff-2.5.0-py3-none-any.whl size=11730 sha256=7af4f17608a9b3af04b2d34307c45d59fc978fdd7f5ce6a01fd179def126279b\n",
      "  Stored in directory: /Users/miladshirani/Library/Caches/pip/wheels/a2/de/68/bf3972de3ecb31e32bef59a7f4c75f0687a3674c476b347c14\n",
      "Successfully built openml liac-arff\n",
      "Installing collected packages: rgf-python, liac-arff, xmltodict, openml, catboost, qtpy, qtconsole, jupyter-console, jupyter\n",
      "\u001b[31mERROR: After October 2020 you may experience errors when installing or updating packages. This is because pip will change the way that it resolves dependency conflicts.\n",
      "\n",
      "We recommend you use --use-feature=2020-resolver to test your packages with the new resolver before it becomes the default.\n",
      "\n",
      "jupyter-console 6.4.3 requires jupyter-client>=7.0.0, but you'll have jupyter-client 6.1.7 which is incompatible.\u001b[0m\n",
      "Successfully installed catboost-1.0.4 jupyter-1.0.0 jupyter-console-6.4.3 liac-arff-2.5.0 openml-0.10.2 qtconsole-5.3.0 qtpy-2.0.1 rgf-python-3.12.0 xmltodict-0.12.0\n"
     ]
    }
   ],
   "source": [
    "! pip install flaml[notebook]"
   ]
  },
  {
   "cell_type": "markdown",
   "metadata": {},
   "source": [
    "# To Do:\n",
    "\n",
    "* add Confusion matrix\n",
    "* add classification report\n",
    "* do not use accuracy"
   ]
  },
  {
   "cell_type": "markdown",
   "metadata": {},
   "source": [
    "# Introduction\n",
    "\n",
    "In this project by using the available data from [kaggle.com](https://www.kaggle.com/datasets/kamilpytlak/personal-key-indicators-of-heart-disease) we try to create a model to predict if a person will have heart disease in future or not. "
   ]
  },
  {
   "cell_type": "markdown",
   "metadata": {},
   "source": [
    "# Importing Data and Libraries we use "
   ]
  },
  {
   "cell_type": "code",
   "execution_count": 80,
   "metadata": {
    "execution": {
     "iopub.execute_input": "2022-04-01T05:32:51.626414Z",
     "iopub.status.busy": "2022-04-01T05:32:51.626113Z",
     "iopub.status.idle": "2022-04-01T05:32:51.632084Z",
     "shell.execute_reply": "2022-04-01T05:32:51.631552Z",
     "shell.execute_reply.started": "2022-04-01T05:32:51.626381Z"
    }
   },
   "outputs": [],
   "source": [
    "import numpy as np\n",
    "import pandas as pd\n",
    "\n",
    "from sklearn.metrics import confusion_matrix, roc_curve, auc, plot_roc_curve\n",
    "from sklearn.metrics import f1_score, precision_score, recall_score\n",
    "from sklearn.metrics import classification_report\n",
    "\n",
    "from sklearn.model_selection import GridSearchCV, train_test_split\n",
    "\n",
    "from sklearn.preprocessing import OneHotEncoder, StandardScaler\n",
    "from sklearn.ensemble import RandomForestClassifier\n",
    "\n",
    "\n",
    "from imblearn.over_sampling import SMOTE, ADASYN\n",
    "\n",
    "\n",
    "# from xgboost import XGBClassifier\n",
    "import xgboost as xgb\n",
    "\n",
    "import matplotlib.pyplot as plt\n",
    "import seaborn as sns\n",
    "\n",
    "import warnings\n",
    "warnings.filterwarnings('ignore')\n"
   ]
  },
  {
   "cell_type": "code",
   "execution_count": 81,
   "metadata": {
    "execution": {
     "iopub.execute_input": "2022-04-01T05:32:53.496694Z",
     "iopub.status.busy": "2022-04-01T05:32:53.496050Z",
     "iopub.status.idle": "2022-04-01T05:32:54.189301Z",
     "shell.execute_reply": "2022-04-01T05:32:54.188610Z",
     "shell.execute_reply.started": "2022-04-01T05:32:53.496661Z"
    }
   },
   "outputs": [
    {
     "data": {
      "text/html": [
       "<div>\n",
       "<style scoped>\n",
       "    .dataframe tbody tr th:only-of-type {\n",
       "        vertical-align: middle;\n",
       "    }\n",
       "\n",
       "    .dataframe tbody tr th {\n",
       "        vertical-align: top;\n",
       "    }\n",
       "\n",
       "    .dataframe thead th {\n",
       "        text-align: right;\n",
       "    }\n",
       "</style>\n",
       "<table border=\"1\" class=\"dataframe\">\n",
       "  <thead>\n",
       "    <tr style=\"text-align: right;\">\n",
       "      <th></th>\n",
       "      <th>HeartDisease</th>\n",
       "      <th>BMI</th>\n",
       "      <th>Smoking</th>\n",
       "      <th>AlcoholDrinking</th>\n",
       "      <th>Stroke</th>\n",
       "      <th>PhysicalHealth</th>\n",
       "      <th>MentalHealth</th>\n",
       "      <th>DiffWalking</th>\n",
       "      <th>Sex</th>\n",
       "      <th>AgeCategory</th>\n",
       "      <th>Race</th>\n",
       "      <th>Diabetic</th>\n",
       "      <th>PhysicalActivity</th>\n",
       "      <th>GenHealth</th>\n",
       "      <th>SleepTime</th>\n",
       "      <th>Asthma</th>\n",
       "      <th>KidneyDisease</th>\n",
       "      <th>SkinCancer</th>\n",
       "    </tr>\n",
       "  </thead>\n",
       "  <tbody>\n",
       "    <tr>\n",
       "      <th>0</th>\n",
       "      <td>No</td>\n",
       "      <td>16.60</td>\n",
       "      <td>Yes</td>\n",
       "      <td>No</td>\n",
       "      <td>No</td>\n",
       "      <td>3.0</td>\n",
       "      <td>30.0</td>\n",
       "      <td>No</td>\n",
       "      <td>Female</td>\n",
       "      <td>55-59</td>\n",
       "      <td>White</td>\n",
       "      <td>Yes</td>\n",
       "      <td>Yes</td>\n",
       "      <td>Very good</td>\n",
       "      <td>5.0</td>\n",
       "      <td>Yes</td>\n",
       "      <td>No</td>\n",
       "      <td>Yes</td>\n",
       "    </tr>\n",
       "    <tr>\n",
       "      <th>1</th>\n",
       "      <td>No</td>\n",
       "      <td>20.34</td>\n",
       "      <td>No</td>\n",
       "      <td>No</td>\n",
       "      <td>Yes</td>\n",
       "      <td>0.0</td>\n",
       "      <td>0.0</td>\n",
       "      <td>No</td>\n",
       "      <td>Female</td>\n",
       "      <td>80 or older</td>\n",
       "      <td>White</td>\n",
       "      <td>No</td>\n",
       "      <td>Yes</td>\n",
       "      <td>Very good</td>\n",
       "      <td>7.0</td>\n",
       "      <td>No</td>\n",
       "      <td>No</td>\n",
       "      <td>No</td>\n",
       "    </tr>\n",
       "    <tr>\n",
       "      <th>2</th>\n",
       "      <td>No</td>\n",
       "      <td>26.58</td>\n",
       "      <td>Yes</td>\n",
       "      <td>No</td>\n",
       "      <td>No</td>\n",
       "      <td>20.0</td>\n",
       "      <td>30.0</td>\n",
       "      <td>No</td>\n",
       "      <td>Male</td>\n",
       "      <td>65-69</td>\n",
       "      <td>White</td>\n",
       "      <td>Yes</td>\n",
       "      <td>Yes</td>\n",
       "      <td>Fair</td>\n",
       "      <td>8.0</td>\n",
       "      <td>Yes</td>\n",
       "      <td>No</td>\n",
       "      <td>No</td>\n",
       "    </tr>\n",
       "    <tr>\n",
       "      <th>3</th>\n",
       "      <td>No</td>\n",
       "      <td>24.21</td>\n",
       "      <td>No</td>\n",
       "      <td>No</td>\n",
       "      <td>No</td>\n",
       "      <td>0.0</td>\n",
       "      <td>0.0</td>\n",
       "      <td>No</td>\n",
       "      <td>Female</td>\n",
       "      <td>75-79</td>\n",
       "      <td>White</td>\n",
       "      <td>No</td>\n",
       "      <td>No</td>\n",
       "      <td>Good</td>\n",
       "      <td>6.0</td>\n",
       "      <td>No</td>\n",
       "      <td>No</td>\n",
       "      <td>Yes</td>\n",
       "    </tr>\n",
       "    <tr>\n",
       "      <th>4</th>\n",
       "      <td>No</td>\n",
       "      <td>23.71</td>\n",
       "      <td>No</td>\n",
       "      <td>No</td>\n",
       "      <td>No</td>\n",
       "      <td>28.0</td>\n",
       "      <td>0.0</td>\n",
       "      <td>Yes</td>\n",
       "      <td>Female</td>\n",
       "      <td>40-44</td>\n",
       "      <td>White</td>\n",
       "      <td>No</td>\n",
       "      <td>Yes</td>\n",
       "      <td>Very good</td>\n",
       "      <td>8.0</td>\n",
       "      <td>No</td>\n",
       "      <td>No</td>\n",
       "      <td>No</td>\n",
       "    </tr>\n",
       "  </tbody>\n",
       "</table>\n",
       "</div>"
      ],
      "text/plain": [
       "  HeartDisease    BMI Smoking AlcoholDrinking Stroke  PhysicalHealth  \\\n",
       "0           No  16.60     Yes              No     No             3.0   \n",
       "1           No  20.34      No              No    Yes             0.0   \n",
       "2           No  26.58     Yes              No     No            20.0   \n",
       "3           No  24.21      No              No     No             0.0   \n",
       "4           No  23.71      No              No     No            28.0   \n",
       "\n",
       "   MentalHealth DiffWalking     Sex  AgeCategory   Race Diabetic  \\\n",
       "0          30.0          No  Female        55-59  White      Yes   \n",
       "1           0.0          No  Female  80 or older  White       No   \n",
       "2          30.0          No    Male        65-69  White      Yes   \n",
       "3           0.0          No  Female        75-79  White       No   \n",
       "4           0.0         Yes  Female        40-44  White       No   \n",
       "\n",
       "  PhysicalActivity  GenHealth  SleepTime Asthma KidneyDisease SkinCancer  \n",
       "0              Yes  Very good        5.0    Yes            No        Yes  \n",
       "1              Yes  Very good        7.0     No            No         No  \n",
       "2              Yes       Fair        8.0    Yes            No         No  \n",
       "3               No       Good        6.0     No            No        Yes  \n",
       "4              Yes  Very good        8.0     No            No         No  "
      ]
     },
     "execution_count": 81,
     "metadata": {},
     "output_type": "execute_result"
    }
   ],
   "source": [
    "df = pd.read_csv(\"heart_2020_cleaned.csv\")\n",
    "df.head()\n"
   ]
  },
  {
   "cell_type": "code",
   "execution_count": 82,
   "metadata": {
    "execution": {
     "iopub.execute_input": "2022-04-01T05:32:55.285207Z",
     "iopub.status.busy": "2022-04-01T05:32:55.284942Z",
     "iopub.status.idle": "2022-04-01T05:32:55.769669Z",
     "shell.execute_reply": "2022-04-01T05:32:55.768806Z",
     "shell.execute_reply.started": "2022-04-01T05:32:55.285179Z"
    }
   },
   "outputs": [
    {
     "name": "stdout",
     "output_type": "stream",
     "text": [
      "<class 'pandas.core.frame.DataFrame'>\n",
      "RangeIndex: 319795 entries, 0 to 319794\n",
      "Data columns (total 18 columns):\n",
      " #   Column            Non-Null Count   Dtype  \n",
      "---  ------            --------------   -----  \n",
      " 0   HeartDisease      319795 non-null  object \n",
      " 1   BMI               319795 non-null  float64\n",
      " 2   Smoking           319795 non-null  object \n",
      " 3   AlcoholDrinking   319795 non-null  object \n",
      " 4   Stroke            319795 non-null  object \n",
      " 5   PhysicalHealth    319795 non-null  float64\n",
      " 6   MentalHealth      319795 non-null  float64\n",
      " 7   DiffWalking       319795 non-null  object \n",
      " 8   Sex               319795 non-null  object \n",
      " 9   AgeCategory       319795 non-null  object \n",
      " 10  Race              319795 non-null  object \n",
      " 11  Diabetic          319795 non-null  object \n",
      " 12  PhysicalActivity  319795 non-null  object \n",
      " 13  GenHealth         319795 non-null  object \n",
      " 14  SleepTime         319795 non-null  float64\n",
      " 15  Asthma            319795 non-null  object \n",
      " 16  KidneyDisease     319795 non-null  object \n",
      " 17  SkinCancer        319795 non-null  object \n",
      "dtypes: float64(4), object(14)\n",
      "memory usage: 43.9+ MB\n"
     ]
    }
   ],
   "source": [
    "df.info()"
   ]
  },
  {
   "cell_type": "code",
   "execution_count": 83,
   "metadata": {
    "execution": {
     "iopub.execute_input": "2022-04-01T05:32:56.409780Z",
     "iopub.status.busy": "2022-04-01T05:32:56.409157Z",
     "iopub.status.idle": "2022-04-01T05:32:56.889192Z",
     "shell.execute_reply": "2022-04-01T05:32:56.888171Z",
     "shell.execute_reply.started": "2022-04-01T05:32:56.409737Z"
    }
   },
   "outputs": [
    {
     "data": {
      "text/plain": [
       "HeartDisease        0\n",
       "BMI                 0\n",
       "Smoking             0\n",
       "AlcoholDrinking     0\n",
       "Stroke              0\n",
       "PhysicalHealth      0\n",
       "MentalHealth        0\n",
       "DiffWalking         0\n",
       "Sex                 0\n",
       "AgeCategory         0\n",
       "Race                0\n",
       "Diabetic            0\n",
       "PhysicalActivity    0\n",
       "GenHealth           0\n",
       "SleepTime           0\n",
       "Asthma              0\n",
       "KidneyDisease       0\n",
       "SkinCancer          0\n",
       "dtype: int64"
      ]
     },
     "execution_count": 83,
     "metadata": {},
     "output_type": "execute_result"
    }
   ],
   "source": [
    "df.isna().sum()"
   ]
  },
  {
   "cell_type": "code",
   "execution_count": 84,
   "metadata": {
    "execution": {
     "iopub.execute_input": "2022-04-01T05:32:58.234348Z",
     "iopub.status.busy": "2022-04-01T05:32:58.234035Z",
     "iopub.status.idle": "2022-04-01T05:32:59.031011Z",
     "shell.execute_reply": "2022-04-01T05:32:59.030188Z",
     "shell.execute_reply.started": "2022-04-01T05:32:58.234316Z"
    }
   },
   "outputs": [
    {
     "data": {
      "image/png": "[encoded data removed]",
      "text/plain": [
       "<Figure size 504x504 with 1 Axes>"
      ]
     },
     "metadata": {
      "needs_background": "light"
     },
     "output_type": "display_data"
    }
   ],
   "source": [
    "plt.figure(figsize=(7,7))\n",
    "sns.countplot(data=df,x=\"HeartDisease\",hue=\"Asthma\");"
   ]
  },
  {
   "cell_type": "code",
   "execution_count": 85,
   "metadata": {
    "execution": {
     "iopub.execute_input": "2022-04-01T05:32:59.640189Z",
     "iopub.status.busy": "2022-04-01T05:32:59.639577Z",
     "iopub.status.idle": "2022-04-01T05:33:00.438538Z",
     "shell.execute_reply": "2022-04-01T05:33:00.437700Z",
     "shell.execute_reply.started": "2022-04-01T05:32:59.640137Z"
    }
   },
   "outputs": [
    {
     "data": {
      "image/png": "[encoded data removed]",
      "text/plain": [
       "<Figure size 504x504 with 1 Axes>"
      ]
     },
     "metadata": {
      "needs_background": "light"
     },
     "output_type": "display_data"
    }
   ],
   "source": [
    "plt.figure(figsize=(7,7))\n",
    "sns.countplot(data=df,x=\"HeartDisease\",hue=\"KidneyDisease\");"
   ]
  },
  {
   "cell_type": "code",
   "execution_count": 86,
   "metadata": {
    "execution": {
     "iopub.execute_input": "2022-04-01T05:33:00.879319Z",
     "iopub.status.busy": "2022-04-01T05:33:00.878704Z",
     "iopub.status.idle": "2022-04-01T05:33:01.666230Z",
     "shell.execute_reply": "2022-04-01T05:33:01.665423Z",
     "shell.execute_reply.started": "2022-04-01T05:33:00.879281Z"
    }
   },
   "outputs": [
    {
     "data": {
      "image/png": "[encoded data removed]",
      "text/plain": [
       "<Figure size 504x504 with 1 Axes>"
      ]
     },
     "metadata": {
      "needs_background": "light"
     },
     "output_type": "display_data"
    }
   ],
   "source": [
    "plt.figure(figsize=(7,7))\n",
    "sns.countplot(data=df,x=\"HeartDisease\",hue=\"Stroke\");"
   ]
  },
  {
   "cell_type": "code",
   "execution_count": 87,
   "metadata": {
    "execution": {
     "iopub.execute_input": "2022-04-01T05:33:03.458599Z",
     "iopub.status.busy": "2022-04-01T05:33:03.457802Z",
     "iopub.status.idle": "2022-04-01T05:33:04.252030Z",
     "shell.execute_reply": "2022-04-01T05:33:04.251224Z",
     "shell.execute_reply.started": "2022-04-01T05:33:03.458543Z"
    }
   },
   "outputs": [
    {
     "data": {
      "image/png": "[encoded data removed]",
      "text/plain": [
       "<Figure size 504x504 with 1 Axes>"
      ]
     },
     "metadata": {
      "needs_background": "light"
     },
     "output_type": "display_data"
    }
   ],
   "source": [
    "plt.figure(figsize=(7,7))\n",
    "sns.countplot(data=df,x=\"HeartDisease\",hue=\"SkinCancer\");"
   ]
  },
  {
   "cell_type": "code",
   "execution_count": 88,
   "metadata": {
    "execution": {
     "iopub.execute_input": "2022-04-01T05:33:12.876862Z",
     "iopub.status.busy": "2022-04-01T05:33:12.876571Z",
     "iopub.status.idle": "2022-04-01T05:33:13.672047Z",
     "shell.execute_reply": "2022-04-01T05:33:13.671271Z",
     "shell.execute_reply.started": "2022-04-01T05:33:12.876831Z"
    }
   },
   "outputs": [
    {
     "data": {
      "image/png": "[encoded data removed]",
      "text/plain": [
       "<Figure size 504x504 with 1 Axes>"
      ]
     },
     "metadata": {
      "needs_background": "light"
     },
     "output_type": "display_data"
    }
   ],
   "source": [
    "plt.figure(figsize=(7,7))\n",
    "sns.countplot(data=df,x=\"HeartDisease\",hue=\"DiffWalking\");"
   ]
  },
  {
   "cell_type": "code",
   "execution_count": 89,
   "metadata": {
    "execution": {
     "iopub.execute_input": "2022-04-01T05:30:35.319063Z",
     "iopub.status.busy": "2022-04-01T05:30:35.318775Z",
     "iopub.status.idle": "2022-04-01T05:30:35.322746Z",
     "shell.execute_reply": "2022-04-01T05:30:35.321925Z",
     "shell.execute_reply.started": "2022-04-01T05:30:35.319031Z"
    }
   },
   "outputs": [],
   "source": [
    "# plt.figure(figsize=(7,7))\n",
    "# sns.countplot(data=df,x=\"HeartDisease\",hue=\"MentalHealth\")"
   ]
  },
  {
   "cell_type": "code",
   "execution_count": 90,
   "metadata": {},
   "outputs": [
    {
     "data": {
      "image/png": "[encoded data removed]",
      "text/plain": [
       "<Figure size 504x504 with 1 Axes>"
      ]
     },
     "metadata": {
      "needs_background": "light"
     },
     "output_type": "display_data"
    }
   ],
   "source": [
    "plt.figure(figsize=(7,7))\n",
    "sns.histplot(df.loc[df[\"HeartDisease\"]== \"No\"][\"BMI\"], \n",
    "             color = \"tab:blue\", alpha = 0.4, label = \"No Heart Disease\", \n",
    "            kde = True)\n",
    "sns.histplot(df.loc[df[\"HeartDisease\"]== \"Yes\"][\"BMI\"], \n",
    "             color = \"tab:red\", alpha = 0.4, label = \"Heart Disease\",\n",
    "            kde = True)\n",
    "# plt.show()\n",
    "plt.legend();"
   ]
  },
  {
   "cell_type": "markdown",
   "metadata": {},
   "source": [
    "# Data Preparation "
   ]
  },
  {
   "cell_type": "code",
   "execution_count": 91,
   "metadata": {
    "execution": {
     "iopub.execute_input": "2022-04-01T05:33:25.402096Z",
     "iopub.status.busy": "2022-04-01T05:33:25.401687Z",
     "iopub.status.idle": "2022-04-01T05:33:25.410683Z",
     "shell.execute_reply": "2022-04-01T05:33:25.409949Z",
     "shell.execute_reply.started": "2022-04-01T05:33:25.402066Z"
    }
   },
   "outputs": [
    {
     "data": {
      "text/plain": [
       "No     0.914405\n",
       "Yes    0.085595\n",
       "Name: HeartDisease, dtype: float64"
      ]
     },
     "execution_count": 91,
     "metadata": {},
     "output_type": "execute_result"
    }
   ],
   "source": [
    "df[\"HeartDisease\"].value_counts(normalize = True)"
   ]
  },
  {
   "cell_type": "code",
   "execution_count": 92,
   "metadata": {
    "execution": {
     "iopub.execute_input": "2022-04-01T05:39:23.181231Z",
     "iopub.status.busy": "2022-04-01T05:39:23.180954Z",
     "iopub.status.idle": "2022-04-01T05:39:23.776431Z",
     "shell.execute_reply": "2022-04-01T05:39:23.775578Z",
     "shell.execute_reply.started": "2022-04-01T05:39:23.181203Z"
    }
   },
   "outputs": [],
   "source": [
    "df_2 = df.copy()\n",
    "Yes_No_dict = {\"No\":0, \"Yes\":1, \"Female\":1, \"Male\":0} \n",
    "\n",
    "Yes_No_List = [\"Stroke\", \"HeartDisease\", \"Smoking\", \"AlcoholDrinking\",\n",
    "               \"Asthma\", \"KidneyDisease\", \"SkinCancer\", \"Diabetic\",\n",
    "               \"PhysicalActivity\", \"Sex\", \"DiffWalking\"]\n",
    "\n",
    "for col in Yes_No_List:\n",
    "    df_2[col] = df_2[col].map(Yes_No_dict)\n",
    "\n",
    "#### Encoding By using OneHotEncoder\n",
    "\n",
    "\n",
    "to_append = [\"BMI\", \"SleepTime\"]\n",
    "\n",
    "for item in to_append:\n",
    "    Yes_No_List.append(item)\n",
    "    \n",
    "\n",
    "cat = list(df_2.columns)\n",
    "\n",
    "\n",
    "for item in Yes_No_List:  \n",
    "    cat.remove(item)\n",
    "    \n",
    "\n",
    "df_cat = df_2[cat]\n",
    "\n",
    "ohe = OneHotEncoder(categories='auto', sparse=False)\n",
    "#                     , drop=\"first\")\n",
    "\n",
    "df_cat_encoded = pd.DataFrame(np.squeeze(ohe.fit_transform(df_cat)), \n",
    "                              columns = ohe.get_feature_names())\n",
    "\n",
    "##### Scaling By using StandardScaler\n",
    "\n",
    "scaler = StandardScaler()\n",
    "\n",
    "BMI = df_2[[\"BMI\", \"SleepTime\"]]\n",
    "\n",
    "\n",
    "scaled_BMI = scaler.fit_transform(BMI)\n",
    "\n",
    "df_scaled_BMI = pd.DataFrame(np.squeeze(scaler.fit_transform(BMI)), \n",
    "                             columns = BMI.columns)\n",
    "\n",
    "#### Concatating New DataFrames\n",
    "\n",
    "X = pd.concat([df_cat_encoded, df_scaled_BMI], axis = 1)\n"
   ]
  },
  {
   "cell_type": "markdown",
   "metadata": {
    "variables": {
     "df_2[\"HeartDisease\"].value_counts(normalize = True)": "0    0.914405\n1    0.085595\nName: HeartDisease, dtype: float64"
    }
   },
   "source": [
    "We see that `df_2[\"HeartDisease\"].value_counts(normalize = True)` results in\n",
    "\n",
    "`\n",
    "{{df_2[\"HeartDisease\"].value_counts(normalize = True)}}`\n",
    "\n",
    "which can be used to conclude that we have imbalances in our data so, we either can use `SMOTE` or we can set `stratify=y` in `train_test_split`. We noticed that setting set `stratify=y`, results in a better accuracy."
   ]
  },
  {
   "cell_type": "code",
   "execution_count": 93,
   "metadata": {
    "execution": {
     "iopub.execute_input": "2022-04-01T05:39:31.807735Z",
     "iopub.status.busy": "2022-04-01T05:39:31.807408Z",
     "iopub.status.idle": "2022-04-01T05:39:32.055748Z",
     "shell.execute_reply": "2022-04-01T05:39:32.054995Z",
     "shell.execute_reply.started": "2022-04-01T05:39:31.807687Z"
    }
   },
   "outputs": [
    {
     "name": "stdout",
     "output_type": "stream",
     "text": [
      "y_train: {0: 91.44061039103175, 1: 8.559389608968246}\n",
      "y_train_smote: {1: 50.0, 0: 50.0}\n",
      "y_test: {0: 91.43982864022264, 1: 8.560171359777357}\n"
     ]
    }
   ],
   "source": [
    "\n",
    "y = df_2[\"HeartDisease\"]\n",
    "X_train, X_test, y_train, y_test = train_test_split(X, y, \n",
    "                                                    random_state = 42, \n",
    "                                                    test_size = 0.2 \n",
    "                                                    , stratify=y)\n",
    "\n",
    "\n",
    "\n",
    "smote = SMOTE()\n",
    "X_train_smote, y_train_smote = smote.fit_resample(X_train, y_train)\n",
    "\n",
    "print(\"y_train:\", dict(y_train.value_counts(normalize = True)*100))\n",
    "print(\"y_train_smote:\", dict(y_train_smote.value_counts(normalize = True)*100))\n",
    "print(\"y_test:\", dict(y_test.value_counts(normalize = True)*100))"
   ]
  },
  {
   "cell_type": "markdown",
   "metadata": {},
   "source": [
    "# XGBoost"
   ]
  },
  {
   "cell_type": "markdown",
   "metadata": {},
   "source": [
    "The following Box is from [here](https://stackoverflow.com/questions/51587535/custom-evaluation-function-based-on-f1-for-use-in-xgboost-python-api) and also check [this](https://xgboost.readthedocs.io/en/stable/tutorials/custom_metric_obj.html)\n",
    "\n",
    "or the first link is\n",
    "\n",
    "```\n",
    "https://stackoverflow.com/questions/51587535/custom-evaluation-function-based-on-f1-for-use-in-xgboost-python-api\n",
    "```\n",
    "\n",
    "and the second link is\n",
    "\n",
    "```\n",
    "https://xgboost.readthedocs.io/en/stable/tutorials/custom_metric_obj.html\n",
    "```"
   ]
  },
  {
   "cell_type": "code",
   "execution_count": 94,
   "metadata": {
    "execution": {
     "iopub.execute_input": "2022-04-01T05:45:13.655701Z",
     "iopub.status.busy": "2022-04-01T05:45:13.655162Z",
     "iopub.status.idle": "2022-04-01T05:45:20.541690Z",
     "shell.execute_reply": "2022-04-01T05:45:20.540832Z",
     "shell.execute_reply.started": "2022-04-01T05:45:13.655647Z"
    }
   },
   "outputs": [],
   "source": [
    "# {'alpha': 10,\n",
    "#  'eval_metric': 'auc',\n",
    "#  'max_depth': 10,\n",
    "#  'n_estimators': 15,\n",
    "#  'objective': 'binary:logistic',\n",
    "#  'seed': 42}\n",
    "\n",
    "# smote_params = {'alpha': 10,\n",
    "#                 'eval_metric': 'auc',\n",
    "#                 'max_depth': 10,\n",
    "#                 'n_estimators': 15,\n",
    "#                 'objective': 'binary:logistic',\n",
    "#                 'seed': 42}\n",
    "\n",
    "\n",
    "clf = xgb.XGBClassifier(max_depth = 10, n_estimators= 15, seed=42,\n",
    "                        alpha = 10, #reg_alpha = 10, \n",
    "                        objective = 'binary:logistic', \n",
    "                        eval_metric = \"auc\")\n",
    "\n",
    "clf.fit(X_train_smote, y_train_smote);"
   ]
  },
  {
   "cell_type": "code",
   "execution_count": 95,
   "metadata": {},
   "outputs": [
    {
     "name": "stdout",
     "output_type": "stream",
     "text": [
      "Training AUC: 0.7263\n",
      "Validation AUC: 0.711\n",
      "Test precision_score: 0.2158\n",
      "Test recall_score: 0.6396\n",
      "f1_score: 0.3227\n"
     ]
    }
   ],
   "source": [
    "test_preds = clf.predict(X_test)\n",
    "training_preds= clf.predict(X_train)\n",
    "\n",
    "### ROC and AUC\n",
    "# ROC\n",
    "train_fpr, train_tpr, train_thresh = roc_curve(y_train, training_preds)\n",
    "test_fpr , test_tpr , test_thresh = roc_curve(y_test, test_preds)\n",
    "# AUC\n",
    "train_auc = auc(train_fpr, train_tpr)\n",
    "test_auc = auc(test_fpr, test_tpr)\n",
    "\n",
    "\n",
    "print('Training AUC: {:.4}'.format(train_auc))\n",
    "print('Validation AUC: {:.4}'.format(test_auc))\n",
    "print(\"Test precision_score: {:.4}\".format(precision_score(y_test, test_preds)))\n",
    "print(\"Test recall_score: {:.4}\".format(recall_score(y_test, test_preds)))\n",
    "print(\"f1_score: {:.4}\".format(f1_score(y_test, test_preds)))"
   ]
  },
  {
   "cell_type": "code",
   "execution_count": 96,
   "metadata": {},
   "outputs": [
    {
     "data": {
      "image/png": "[encoded data removed]",
      "text/plain": [
       "<Figure size 1080x1080 with 1 Axes>"
      ]
     },
     "metadata": {
      "needs_background": "light"
     },
     "output_type": "display_data"
    }
   ],
   "source": [
    "fig, ax = plt.subplots(1,1,figsize=(15, 15))\n",
    "xgb.plot_importance(clf, ax = ax);"
   ]
  },
  {
   "cell_type": "markdown",
   "metadata": {},
   "source": [
    "## GridSearch For XGBoost \n",
    "\n",
    "By using GridSearch we find the following. It takes times to find it so, make sure that you are not running this section.\n",
    "\n",
    "```python\n",
    "\n",
    "best_parameters = {'alpha': 30,\n",
    " 'eta': 0.3,\n",
    " 'eval_metric': 'auc',\n",
    " 'max_depth': 10,\n",
    " 'n_estimators': 25,\n",
    " 'objective': 'binary:logistic',\n",
    " 'seed': 42}\n",
    "\n",
    "```\n",
    "\n",
    "the accuracy results that we find are:\n",
    "\n",
    "```python\n",
    "Training Accuracy: 91.61%\n",
    "Validation accuracy: 91.6%\n",
    "```"
   ]
  },
  {
   "cell_type": "code",
   "execution_count": 97,
   "metadata": {
    "execution": {
     "iopub.execute_input": "2022-04-01T06:07:53.427183Z",
     "iopub.status.busy": "2022-04-01T06:07:53.426482Z",
     "iopub.status.idle": "2022-04-01T06:07:53.433175Z",
     "shell.execute_reply": "2022-04-01T06:07:53.432523Z",
     "shell.execute_reply.started": "2022-04-01T06:07:53.427134Z"
    }
   },
   "outputs": [],
   "source": [
    "# clf_param_grid = {\n",
    "#     \"max_depth\": [5, 10],\n",
    "#     \"n_estimators\": [10, 15],\n",
    "#     \"seed\": [42],\n",
    "#     \"alpha\": [10, 20, 25, 30],\n",
    "# #     \"eta\": [0.3],\n",
    "#     \"objective\" : ['binary:logistic'], \n",
    "#     \"eval_metric\" : [\"auc\", \"error\"]\n",
    "# }"
   ]
  },
  {
   "cell_type": "code",
   "execution_count": 98,
   "metadata": {
    "execution": {
     "iopub.execute_input": "2022-04-01T06:08:04.491190Z",
     "iopub.status.busy": "2022-04-01T06:08:04.490908Z",
     "iopub.status.idle": "2022-04-01T06:15:56.665863Z",
     "shell.execute_reply": "2022-04-01T06:15:56.665026Z",
     "shell.execute_reply.started": "2022-04-01T06:08:04.491160Z"
    }
   },
   "outputs": [],
   "source": [
    "# clf_grid = xgb.XGBClassifier()\n",
    "\n",
    "# clf_grid_search = GridSearchCV(clf_grid, clf_param_grid, cv = None)\n",
    "\n",
    "\n",
    "# # Fit to the data\n",
    "# clf_grid_search.fit(X_train_resampled, y_train_resampled)"
   ]
  },
  {
   "cell_type": "code",
   "execution_count": 99,
   "metadata": {
    "execution": {
     "iopub.execute_input": "2022-04-01T06:16:25.340596Z",
     "iopub.status.busy": "2022-04-01T06:16:25.339596Z",
     "iopub.status.idle": "2022-04-01T06:16:25.560789Z",
     "shell.execute_reply": "2022-04-01T06:16:25.559959Z",
     "shell.execute_reply.started": "2022-04-01T06:16:25.340540Z"
    }
   },
   "outputs": [],
   "source": [
    "# grid_training_preds = clf_grid_search.predict(X_train_resampled)\n",
    "# grid_test_preds     = clf_grid_search.predict(X_test)\n",
    "\n",
    "\n",
    "# grid_training_accuracy =  accuracy_score(y_train_resampled, grid_training_preds)\n",
    "# grid_test_accuracy     =  accuracy_score(y_test, grid_test_preds)\n",
    "\n",
    "# print('Training Accuracy: {:.4}%'.format(grid_training_accuracy * 100))\n",
    "# print('Validation accuracy: {:.4}%'.format(grid_test_accuracy * 100))"
   ]
  },
  {
   "cell_type": "code",
   "execution_count": 100,
   "metadata": {
    "execution": {
     "iopub.execute_input": "2022-04-01T06:16:27.749590Z",
     "iopub.status.busy": "2022-04-01T06:16:27.749267Z",
     "iopub.status.idle": "2022-04-01T06:16:27.755823Z",
     "shell.execute_reply": "2022-04-01T06:16:27.754939Z",
     "shell.execute_reply.started": "2022-04-01T06:16:27.749556Z"
    }
   },
   "outputs": [],
   "source": [
    "# clf_grid_search.best_params_"
   ]
  },
  {
   "cell_type": "markdown",
   "metadata": {},
   "source": [
    "# Random Forest"
   ]
  },
  {
   "cell_type": "code",
   "execution_count": 101,
   "metadata": {
    "execution": {
     "iopub.execute_input": "2022-04-01T06:17:00.361565Z",
     "iopub.status.busy": "2022-04-01T06:17:00.361113Z",
     "iopub.status.idle": "2022-04-01T06:17:42.200460Z",
     "shell.execute_reply": "2022-04-01T06:17:42.199458Z",
     "shell.execute_reply.started": "2022-04-01T06:17:00.361521Z"
    }
   },
   "outputs": [
    {
     "name": "stdout",
     "output_type": "stream",
     "text": [
      "Training AUC: 0.9381\n",
      "Validation AUC: 0.5877\n",
      "Test precision_score: 0.196\n",
      "Test recall_score: 0.2847\n",
      "f1_score: 0.2322\n"
     ]
    }
   ],
   "source": [
    "from sklearn.ensemble import RandomForestClassifier\n",
    "rf = RandomForestClassifier(criterion=\"entropy\", bootstrap = True)\n",
    "\n",
    "rf.fit(X_train_smote, y_train_smote)\n",
    "\n",
    "training_preds_rf = rf.predict(X_train)\n",
    "test_preds_rf     = rf.predict(X_test)\n",
    "\n",
    "\n",
    "### ROC and AUC\n",
    "# ROC\n",
    "train_fpr_rf, train_tpr_rf, train_thresh_rf = roc_curve(y_train, training_preds_rf)\n",
    "test_fpr_rf , test_tpr_rf , test_thresh_rf = roc_curve(y_test, test_preds_rf)\n",
    "# AUC\n",
    "train_auc_rf = auc(train_fpr_rf, train_tpr_rf)\n",
    "test_auc_rf = auc(test_fpr_rf, test_tpr_rf)\n",
    "\n",
    "\n",
    "print('Training AUC: {:.4}'.format(train_auc_rf))\n",
    "print('Validation AUC: {:.4}'.format(test_auc_rf))\n",
    "print(\"Test precision_score: {:.4}\".format(precision_score(y_test, test_preds_rf)))\n",
    "print(\"Test recall_score: {:.4}\".format(recall_score(y_test, test_preds_rf)))\n",
    "print(\"f1_score: {:.4}\".format(f1_score(y_test, test_preds_rf)))"
   ]
  },
  {
   "cell_type": "markdown",
   "metadata": {},
   "source": [
    "# Microsoft FLAML A Fast Library for Automated Machine Learning & Tuning\n",
    "\n",
    "It can be found [here](https://github.com/microsoft/FLAML) or using the following link\n",
    "```https://github.com/microsoft/FLAML```\n"
   ]
  },
  {
   "cell_type": "code",
   "execution_count": 103,
   "metadata": {},
   "outputs": [],
   "source": [
    "X_new = df.drop(\"HeartDisease\", axis = 1)\n",
    "y_new = df.HeartDisease\n",
    "\n",
    "\n",
    "X_train_n, X_test_n, y_train_n, y_test_n = train_test_split(X_new, y_new,\n",
    "                                                           test_size = 0.2,\n",
    "                                                           random_state = 42)"
   ]
  },
  {
   "cell_type": "code",
   "execution_count": 105,
   "metadata": {},
   "outputs": [
    {
     "ename": "ImportError",
     "evalue": "cannot import name 'mean_absolute_percentage_error' from 'sklearn.metrics' (/opt/anaconda3/envs/learn-env/lib/python3.8/site-packages/sklearn/metrics/__init__.py)",
     "output_type": "error",
     "traceback": [
      "\u001b[0;31m---------------------------------------------------------------------------\u001b[0m",
      "\u001b[0;31mImportError\u001b[0m                               Traceback (most recent call last)",
      "\u001b[0;32m<ipython-input-105-577bd893d4ea>\u001b[0m in \u001b[0;36m<module>\u001b[0;34m\u001b[0m\n\u001b[0;32m----> 1\u001b[0;31m \u001b[0;32mfrom\u001b[0m \u001b[0mflaml\u001b[0m \u001b[0;32mimport\u001b[0m \u001b[0mAutoML\u001b[0m\u001b[0;34m\u001b[0m\u001b[0;34m\u001b[0m\u001b[0m\n\u001b[0m\u001b[1;32m      2\u001b[0m \u001b[0mautoml\u001b[0m \u001b[0;34m=\u001b[0m \u001b[0mAutoML\u001b[0m\u001b[0;34m(\u001b[0m\u001b[0;34m)\u001b[0m\u001b[0;34m\u001b[0m\u001b[0;34m\u001b[0m\u001b[0m\n\u001b[1;32m      3\u001b[0m \u001b[0mautoml\u001b[0m\u001b[0;34m.\u001b[0m\u001b[0mfit\u001b[0m\u001b[0;34m(\u001b[0m\u001b[0mX_train_n\u001b[0m\u001b[0;34m,\u001b[0m \u001b[0my_train_n\u001b[0m\u001b[0;34m,\u001b[0m \u001b[0mtask\u001b[0m\u001b[0;34m=\u001b[0m\u001b[0;34m\"classification\"\u001b[0m\u001b[0;34m)\u001b[0m\u001b[0;34m\u001b[0m\u001b[0;34m\u001b[0m\u001b[0m\n",
      "\u001b[0;32m/opt/anaconda3/envs/learn-env/lib/python3.8/site-packages/flaml/__init__.py\u001b[0m in \u001b[0;36m<module>\u001b[0;34m\u001b[0m\n\u001b[1;32m      1\u001b[0m \u001b[0;32mfrom\u001b[0m \u001b[0mflaml\u001b[0m\u001b[0;34m.\u001b[0m\u001b[0msearcher\u001b[0m \u001b[0;32mimport\u001b[0m \u001b[0mCFO\u001b[0m\u001b[0;34m,\u001b[0m \u001b[0mBlendSearch\u001b[0m\u001b[0;34m,\u001b[0m \u001b[0mFLOW2\u001b[0m\u001b[0;34m,\u001b[0m \u001b[0mBlendSearchTuner\u001b[0m\u001b[0;34m\u001b[0m\u001b[0;34m\u001b[0m\u001b[0m\n\u001b[0;32m----> 2\u001b[0;31m \u001b[0;32mfrom\u001b[0m \u001b[0mflaml\u001b[0m\u001b[0;34m.\u001b[0m\u001b[0mautoml\u001b[0m \u001b[0;32mimport\u001b[0m \u001b[0mAutoML\u001b[0m\u001b[0;34m,\u001b[0m \u001b[0mlogger_formatter\u001b[0m\u001b[0;34m\u001b[0m\u001b[0;34m\u001b[0m\u001b[0m\n\u001b[0m\u001b[1;32m      3\u001b[0m \u001b[0;32mfrom\u001b[0m \u001b[0mflaml\u001b[0m\u001b[0;34m.\u001b[0m\u001b[0monlineml\u001b[0m\u001b[0;34m.\u001b[0m\u001b[0mautovw\u001b[0m \u001b[0;32mimport\u001b[0m \u001b[0mAutoVW\u001b[0m\u001b[0;34m\u001b[0m\u001b[0;34m\u001b[0m\u001b[0m\n\u001b[1;32m      4\u001b[0m \u001b[0;32mfrom\u001b[0m \u001b[0mflaml\u001b[0m\u001b[0;34m.\u001b[0m\u001b[0mversion\u001b[0m \u001b[0;32mimport\u001b[0m \u001b[0m__version__\u001b[0m\u001b[0;34m\u001b[0m\u001b[0;34m\u001b[0m\u001b[0m\n\u001b[1;32m      5\u001b[0m \u001b[0;32mimport\u001b[0m \u001b[0mlogging\u001b[0m\u001b[0;34m\u001b[0m\u001b[0;34m\u001b[0m\u001b[0m\n",
      "\u001b[0;32m/opt/anaconda3/envs/learn-env/lib/python3.8/site-packages/flaml/automl.py\u001b[0m in \u001b[0;36m<module>\u001b[0;34m\u001b[0m\n\u001b[1;32m     22\u001b[0m \u001b[0;32mimport\u001b[0m \u001b[0mlogging\u001b[0m\u001b[0;34m\u001b[0m\u001b[0;34m\u001b[0m\u001b[0m\n\u001b[1;32m     23\u001b[0m \u001b[0;32mimport\u001b[0m \u001b[0mjson\u001b[0m\u001b[0;34m\u001b[0m\u001b[0;34m\u001b[0m\u001b[0m\n\u001b[0;32m---> 24\u001b[0;31m from .ml import (\n\u001b[0m\u001b[1;32m     25\u001b[0m     \u001b[0mcompute_estimator\u001b[0m\u001b[0;34m,\u001b[0m\u001b[0;34m\u001b[0m\u001b[0;34m\u001b[0m\u001b[0m\n\u001b[1;32m     26\u001b[0m     \u001b[0mtrain_estimator\u001b[0m\u001b[0;34m,\u001b[0m\u001b[0;34m\u001b[0m\u001b[0;34m\u001b[0m\u001b[0m\n",
      "\u001b[0;32m/opt/anaconda3/envs/learn-env/lib/python3.8/site-packages/flaml/ml.py\u001b[0m in \u001b[0;36m<module>\u001b[0;34m\u001b[0m\n\u001b[1;32m      6\u001b[0m \u001b[0;32mimport\u001b[0m \u001b[0mnumpy\u001b[0m \u001b[0;32mas\u001b[0m \u001b[0mnp\u001b[0m\u001b[0;34m\u001b[0m\u001b[0;34m\u001b[0m\u001b[0m\n\u001b[1;32m      7\u001b[0m \u001b[0;32mimport\u001b[0m \u001b[0mpandas\u001b[0m \u001b[0;32mas\u001b[0m \u001b[0mpd\u001b[0m\u001b[0;34m\u001b[0m\u001b[0;34m\u001b[0m\u001b[0m\n\u001b[0;32m----> 8\u001b[0;31m from sklearn.metrics import (\n\u001b[0m\u001b[1;32m      9\u001b[0m     \u001b[0mmean_squared_error\u001b[0m\u001b[0;34m,\u001b[0m\u001b[0;34m\u001b[0m\u001b[0;34m\u001b[0m\u001b[0m\n\u001b[1;32m     10\u001b[0m     \u001b[0mr2_score\u001b[0m\u001b[0;34m,\u001b[0m\u001b[0;34m\u001b[0m\u001b[0;34m\u001b[0m\u001b[0m\n",
      "\u001b[0;31mImportError\u001b[0m: cannot import name 'mean_absolute_percentage_error' from 'sklearn.metrics' (/opt/anaconda3/envs/learn-env/lib/python3.8/site-packages/sklearn/metrics/__init__.py)"
     ]
    }
   ],
   "source": [
    "from flaml import AutoML\n",
    "automl = AutoML()\n",
    "automl.fit(X_train_n, y_train_n, task=\"classification\")"
   ]
  },
  {
   "cell_type": "code",
   "execution_count": null,
   "metadata": {},
   "outputs": [],
   "source": []
  }
 ],
 "metadata": {
  "kernelspec": {
   "display_name": "Python 3",
   "language": "python",
   "name": "python3"
  },
  "language_info": {
   "codemirror_mode": {
    "name": "ipython",
    "version": 3
   },
   "file_extension": ".py",
   "mimetype": "text/x-python",
   "name": "python",
   "nbconvert_exporter": "python",
   "pygments_lexer": "ipython3",
   "version": "3.8.5"
  },
  "latex_envs": {
   "LaTeX_envs_menu_present": true,
   "autoclose": false,
   "autocomplete": true,
   "bibliofile": "biblio.bib",
   "cite_by": "apalike",
   "current_citInitial": 1,
   "eqLabelWithNumbers": true,
   "eqNumInitial": 1,
   "hotkeys": {
    "equation": "Ctrl-E",
    "itemize": "Ctrl-I"
   },
   "labels_anchors": false,
   "latex_user_defs": false,
   "report_style_numbering": false,
   "user_envs_cfg": false
  },
  "toc": {
   "base_numbering": 1,
   "nav_menu": {},
   "number_sections": true,
   "sideBar": true,
   "skip_h1_title": false,
   "title_cell": "Table of Contents",
   "title_sidebar": "Contents",
   "toc_cell": false,
   "toc_position": {},
   "toc_section_display": true,
   "toc_window_display": false
  },
  "varInspector": {
   "cols": {
    "lenName": 16,
    "lenType": 16,
    "lenVar": 40
   },
   "kernels_config": {
    "python": {
     "delete_cmd_postfix": "",
     "delete_cmd_prefix": "del ",
     "library": "var_list.py",
     "varRefreshCmd": "print(var_dic_list())"
    },
    "r": {
     "delete_cmd_postfix": ") ",
     "delete_cmd_prefix": "rm(",
     "library": "var_list.r",
     "varRefreshCmd": "cat(var_dic_list()) "
    }
   },
   "types_to_exclude": [
    "module",
    "function",
    "builtin_function_or_method",
    "instance",
    "_Feature"
   ],
   "window_display": false
  }
 },
 "nbformat": 4,
 "nbformat_minor": 4
}
