{
  "cells": [
    {
      "cell_type": "markdown",
      "metadata": {
        "id": "view-in-github",
        "colab_type": "text"
      },
      "source": [
        "<a href=\"https://colab.research.google.com/github/miladshiraniUCB/dsc-phase-3-project-from-kaggle/blob/main/index_colab.ipynb\" target=\"_parent\"><img src=\"https://colab.research.google.com/assets/colab-badge.svg\" alt=\"Open In Colab\"/></a>"
      ]
    },
    {
      "cell_type": "code",
      "execution_count": 1,
      "metadata": {
        "colab": {
          "base_uri": "https://localhost:8080/"
        },
        "id": "31tx1Ta2xCbx",
        "outputId": "54e15aae-29ab-4307-f3f4-94389e83517a"
      },
      "outputs": [
        {
          "output_type": "stream",
          "name": "stdout",
          "text": [
            "Collecting flaml\n",
            "  Downloading FLAML-1.0.0-py3-none-any.whl (157 kB)\n",
            "\u001b[?25l\r\u001b[K     |██                              | 10 kB 20.2 MB/s eta 0:00:01\r\u001b[K     |████▏                           | 20 kB 17.4 MB/s eta 0:00:01\r\u001b[K     |██████▎                         | 30 kB 11.2 MB/s eta 0:00:01\r\u001b[K     |████████▍                       | 40 kB 6.0 MB/s eta 0:00:01\r\u001b[K     |██████████▍                     | 51 kB 5.9 MB/s eta 0:00:01\r\u001b[K     |████████████▌                   | 61 kB 6.9 MB/s eta 0:00:01\r\u001b[K     |██████████████▋                 | 71 kB 7.8 MB/s eta 0:00:01\r\u001b[K     |████████████████▊               | 81 kB 7.5 MB/s eta 0:00:01\r\u001b[K     |██████████████████▊             | 92 kB 8.2 MB/s eta 0:00:01\r\u001b[K     |████████████████████▉           | 102 kB 8.1 MB/s eta 0:00:01\r\u001b[K     |███████████████████████         | 112 kB 8.1 MB/s eta 0:00:01\r\u001b[K     |█████████████████████████       | 122 kB 8.1 MB/s eta 0:00:01\r\u001b[K     |███████████████████████████     | 133 kB 8.1 MB/s eta 0:00:01\r\u001b[K     |█████████████████████████████▏  | 143 kB 8.1 MB/s eta 0:00:01\r\u001b[K     |███████████████████████████████▎| 153 kB 8.1 MB/s eta 0:00:01\r\u001b[K     |████████████████████████████████| 157 kB 8.1 MB/s \n",
            "\u001b[?25hRequirement already satisfied: pandas>=1.1.4 in /usr/local/lib/python3.7/dist-packages (from flaml) (1.3.5)\n",
            "Requirement already satisfied: NumPy>=1.16.2 in /usr/local/lib/python3.7/dist-packages (from flaml) (1.21.5)\n",
            "Collecting lightgbm>=2.3.1\n",
            "  Downloading lightgbm-3.3.2-py3-none-manylinux1_x86_64.whl (2.0 MB)\n",
            "\u001b[K     |████████████████████████████████| 2.0 MB 20.0 MB/s \n",
            "\u001b[?25hRequirement already satisfied: scikit-learn>=0.24 in /usr/local/lib/python3.7/dist-packages (from flaml) (1.0.2)\n",
            "Requirement already satisfied: scipy>=1.4.1 in /usr/local/lib/python3.7/dist-packages (from flaml) (1.4.1)\n",
            "Requirement already satisfied: xgboost<=1.3.3,>=0.90 in /usr/local/lib/python3.7/dist-packages (from flaml) (0.90)\n",
            "Requirement already satisfied: wheel in /usr/local/lib/python3.7/dist-packages (from lightgbm>=2.3.1->flaml) (0.37.1)\n",
            "Requirement already satisfied: python-dateutil>=2.7.3 in /usr/local/lib/python3.7/dist-packages (from pandas>=1.1.4->flaml) (2.8.2)\n",
            "Requirement already satisfied: pytz>=2017.3 in /usr/local/lib/python3.7/dist-packages (from pandas>=1.1.4->flaml) (2018.9)\n",
            "Requirement already satisfied: six>=1.5 in /usr/local/lib/python3.7/dist-packages (from python-dateutil>=2.7.3->pandas>=1.1.4->flaml) (1.15.0)\n",
            "Requirement already satisfied: joblib>=0.11 in /usr/local/lib/python3.7/dist-packages (from scikit-learn>=0.24->flaml) (1.1.0)\n",
            "Requirement already satisfied: threadpoolctl>=2.0.0 in /usr/local/lib/python3.7/dist-packages (from scikit-learn>=0.24->flaml) (3.1.0)\n",
            "Installing collected packages: lightgbm, flaml\n",
            "  Attempting uninstall: lightgbm\n",
            "    Found existing installation: lightgbm 2.2.3\n",
            "    Uninstalling lightgbm-2.2.3:\n",
            "      Successfully uninstalled lightgbm-2.2.3\n",
            "Successfully installed flaml-1.0.0 lightgbm-3.3.2\n"
          ]
        }
      ],
      "source": [
        "! pip install flaml"
      ]
    },
    {
      "cell_type": "code",
      "execution_count": 2,
      "metadata": {
        "colab": {
          "base_uri": "https://localhost:8080/"
        },
        "id": "8PcyC1jTxCbz",
        "outputId": "e3d71439-9f66-4703-eb1a-2370bfffe730"
      },
      "outputs": [
        {
          "output_type": "stream",
          "name": "stdout",
          "text": [
            "Requirement already satisfied: flaml[notebook] in /usr/local/lib/python3.7/dist-packages (1.0.0)\n",
            "Requirement already satisfied: lightgbm>=2.3.1 in /usr/local/lib/python3.7/dist-packages (from flaml[notebook]) (3.3.2)\n",
            "Requirement already satisfied: xgboost<=1.3.3,>=0.90 in /usr/local/lib/python3.7/dist-packages (from flaml[notebook]) (0.90)\n",
            "Requirement already satisfied: NumPy>=1.16.2 in /usr/local/lib/python3.7/dist-packages (from flaml[notebook]) (1.21.5)\n",
            "Requirement already satisfied: scipy>=1.4.1 in /usr/local/lib/python3.7/dist-packages (from flaml[notebook]) (1.4.1)\n",
            "Requirement already satisfied: scikit-learn>=0.24 in /usr/local/lib/python3.7/dist-packages (from flaml[notebook]) (1.0.2)\n",
            "Requirement already satisfied: pandas>=1.1.4 in /usr/local/lib/python3.7/dist-packages (from flaml[notebook]) (1.3.5)\n",
            "Collecting openml==0.10.2\n",
            "  Downloading openml-0.10.2.tar.gz (158 kB)\n",
            "\u001b[K     |████████████████████████████████| 158 kB 7.4 MB/s \n",
            "\u001b[?25hRequirement already satisfied: matplotlib in /usr/local/lib/python3.7/dist-packages (from flaml[notebook]) (3.2.2)\n",
            "Collecting rgf-python\n",
            "  Downloading rgf_python-3.12.0-py3-none-manylinux1_x86_64.whl (757 kB)\n",
            "\u001b[K     |████████████████████████████████| 757 kB 50.7 MB/s \n",
            "\u001b[?25hCollecting catboost>=0.26\n",
            "  Downloading catboost-1.0.4-cp37-none-manylinux1_x86_64.whl (76.1 MB)\n",
            "\u001b[K     |████████████████████████████████| 76.1 MB 1.3 MB/s \n",
            "\u001b[?25hRequirement already satisfied: jupyter in /usr/local/lib/python3.7/dist-packages (from flaml[notebook]) (1.0.0)\n",
            "Collecting liac-arff>=2.4.0\n",
            "  Downloading liac-arff-2.5.0.tar.gz (13 kB)\n",
            "Collecting xmltodict\n",
            "  Downloading xmltodict-0.12.0-py2.py3-none-any.whl (9.2 kB)\n",
            "Requirement already satisfied: requests in /usr/local/lib/python3.7/dist-packages (from openml==0.10.2->flaml[notebook]) (2.23.0)\n",
            "Requirement already satisfied: python-dateutil in /usr/local/lib/python3.7/dist-packages (from openml==0.10.2->flaml[notebook]) (2.8.2)\n",
            "Requirement already satisfied: graphviz in /usr/local/lib/python3.7/dist-packages (from catboost>=0.26->flaml[notebook]) (0.10.1)\n",
            "Requirement already satisfied: plotly in /usr/local/lib/python3.7/dist-packages (from catboost>=0.26->flaml[notebook]) (5.5.0)\n",
            "Requirement already satisfied: six in /usr/local/lib/python3.7/dist-packages (from catboost>=0.26->flaml[notebook]) (1.15.0)\n",
            "Requirement already satisfied: wheel in /usr/local/lib/python3.7/dist-packages (from lightgbm>=2.3.1->flaml[notebook]) (0.37.1)\n",
            "Requirement already satisfied: pytz>=2017.3 in /usr/local/lib/python3.7/dist-packages (from pandas>=1.1.4->flaml[notebook]) (2018.9)\n",
            "Requirement already satisfied: threadpoolctl>=2.0.0 in /usr/local/lib/python3.7/dist-packages (from scikit-learn>=0.24->flaml[notebook]) (3.1.0)\n",
            "Requirement already satisfied: joblib>=0.11 in /usr/local/lib/python3.7/dist-packages (from scikit-learn>=0.24->flaml[notebook]) (1.1.0)\n",
            "Requirement already satisfied: jupyter-console in /usr/local/lib/python3.7/dist-packages (from jupyter->flaml[notebook]) (5.2.0)\n",
            "Requirement already satisfied: ipywidgets in /usr/local/lib/python3.7/dist-packages (from jupyter->flaml[notebook]) (7.7.0)\n",
            "Requirement already satisfied: nbconvert in /usr/local/lib/python3.7/dist-packages (from jupyter->flaml[notebook]) (5.6.1)\n",
            "Requirement already satisfied: ipykernel in /usr/local/lib/python3.7/dist-packages (from jupyter->flaml[notebook]) (4.10.1)\n",
            "Requirement already satisfied: qtconsole in /usr/local/lib/python3.7/dist-packages (from jupyter->flaml[notebook]) (5.2.2)\n",
            "Requirement already satisfied: notebook in /usr/local/lib/python3.7/dist-packages (from jupyter->flaml[notebook]) (5.3.1)\n",
            "Requirement already satisfied: tornado>=4.0 in /usr/local/lib/python3.7/dist-packages (from ipykernel->jupyter->flaml[notebook]) (5.1.1)\n",
            "Requirement already satisfied: traitlets>=4.1.0 in /usr/local/lib/python3.7/dist-packages (from ipykernel->jupyter->flaml[notebook]) (5.1.1)\n",
            "Requirement already satisfied: jupyter-client in /usr/local/lib/python3.7/dist-packages (from ipykernel->jupyter->flaml[notebook]) (5.3.5)\n",
            "Requirement already satisfied: ipython>=4.0.0 in /usr/local/lib/python3.7/dist-packages (from ipykernel->jupyter->flaml[notebook]) (5.5.0)\n",
            "Requirement already satisfied: simplegeneric>0.8 in /usr/local/lib/python3.7/dist-packages (from ipython>=4.0.0->ipykernel->jupyter->flaml[notebook]) (0.8.1)\n",
            "Requirement already satisfied: pygments in /usr/local/lib/python3.7/dist-packages (from ipython>=4.0.0->ipykernel->jupyter->flaml[notebook]) (2.6.1)\n",
            "Requirement already satisfied: setuptools>=18.5 in /usr/local/lib/python3.7/dist-packages (from ipython>=4.0.0->ipykernel->jupyter->flaml[notebook]) (57.4.0)\n",
            "Requirement already satisfied: pexpect in /usr/local/lib/python3.7/dist-packages (from ipython>=4.0.0->ipykernel->jupyter->flaml[notebook]) (4.8.0)\n",
            "Requirement already satisfied: decorator in /usr/local/lib/python3.7/dist-packages (from ipython>=4.0.0->ipykernel->jupyter->flaml[notebook]) (4.4.2)\n",
            "Requirement already satisfied: pickleshare in /usr/local/lib/python3.7/dist-packages (from ipython>=4.0.0->ipykernel->jupyter->flaml[notebook]) (0.7.5)\n",
            "Requirement already satisfied: prompt-toolkit<2.0.0,>=1.0.4 in /usr/local/lib/python3.7/dist-packages (from ipython>=4.0.0->ipykernel->jupyter->flaml[notebook]) (1.0.18)\n",
            "Requirement already satisfied: wcwidth in /usr/local/lib/python3.7/dist-packages (from prompt-toolkit<2.0.0,>=1.0.4->ipython>=4.0.0->ipykernel->jupyter->flaml[notebook]) (0.2.5)\n",
            "Requirement already satisfied: nbformat>=4.2.0 in /usr/local/lib/python3.7/dist-packages (from ipywidgets->jupyter->flaml[notebook]) (5.2.0)\n",
            "Requirement already satisfied: jupyterlab-widgets>=1.0.0 in /usr/local/lib/python3.7/dist-packages (from ipywidgets->jupyter->flaml[notebook]) (1.1.0)\n",
            "Requirement already satisfied: ipython-genutils~=0.2.0 in /usr/local/lib/python3.7/dist-packages (from ipywidgets->jupyter->flaml[notebook]) (0.2.0)\n",
            "Requirement already satisfied: widgetsnbextension~=3.6.0 in /usr/local/lib/python3.7/dist-packages (from ipywidgets->jupyter->flaml[notebook]) (3.6.0)\n",
            "Requirement already satisfied: jupyter-core in /usr/local/lib/python3.7/dist-packages (from nbformat>=4.2.0->ipywidgets->jupyter->flaml[notebook]) (4.9.2)\n",
            "Requirement already satisfied: jsonschema!=2.5.0,>=2.4 in /usr/local/lib/python3.7/dist-packages (from nbformat>=4.2.0->ipywidgets->jupyter->flaml[notebook]) (4.3.3)\n",
            "Requirement already satisfied: pyrsistent!=0.17.0,!=0.17.1,!=0.17.2,>=0.14.0 in /usr/local/lib/python3.7/dist-packages (from jsonschema!=2.5.0,>=2.4->nbformat>=4.2.0->ipywidgets->jupyter->flaml[notebook]) (0.18.1)\n",
            "Requirement already satisfied: typing-extensions in /usr/local/lib/python3.7/dist-packages (from jsonschema!=2.5.0,>=2.4->nbformat>=4.2.0->ipywidgets->jupyter->flaml[notebook]) (3.10.0.2)\n",
            "Requirement already satisfied: attrs>=17.4.0 in /usr/local/lib/python3.7/dist-packages (from jsonschema!=2.5.0,>=2.4->nbformat>=4.2.0->ipywidgets->jupyter->flaml[notebook]) (21.4.0)\n",
            "Requirement already satisfied: importlib-resources>=1.4.0 in /usr/local/lib/python3.7/dist-packages (from jsonschema!=2.5.0,>=2.4->nbformat>=4.2.0->ipywidgets->jupyter->flaml[notebook]) (5.4.0)\n",
            "Requirement already satisfied: importlib-metadata in /usr/local/lib/python3.7/dist-packages (from jsonschema!=2.5.0,>=2.4->nbformat>=4.2.0->ipywidgets->jupyter->flaml[notebook]) (4.11.3)\n",
            "Requirement already satisfied: zipp>=3.1.0 in /usr/local/lib/python3.7/dist-packages (from importlib-resources>=1.4.0->jsonschema!=2.5.0,>=2.4->nbformat>=4.2.0->ipywidgets->jupyter->flaml[notebook]) (3.7.0)\n",
            "Requirement already satisfied: terminado>=0.8.1 in /usr/local/lib/python3.7/dist-packages (from notebook->jupyter->flaml[notebook]) (0.13.3)\n",
            "Requirement already satisfied: jinja2 in /usr/local/lib/python3.7/dist-packages (from notebook->jupyter->flaml[notebook]) (2.11.3)\n",
            "Requirement already satisfied: Send2Trash in /usr/local/lib/python3.7/dist-packages (from notebook->jupyter->flaml[notebook]) (1.8.0)\n",
            "Requirement already satisfied: pyzmq>=13 in /usr/local/lib/python3.7/dist-packages (from jupyter-client->ipykernel->jupyter->flaml[notebook]) (22.3.0)\n",
            "Requirement already satisfied: ptyprocess in /usr/local/lib/python3.7/dist-packages (from terminado>=0.8.1->notebook->jupyter->flaml[notebook]) (0.7.0)\n",
            "Requirement already satisfied: MarkupSafe>=0.23 in /usr/local/lib/python3.7/dist-packages (from jinja2->notebook->jupyter->flaml[notebook]) (2.0.1)\n",
            "Requirement already satisfied: pyparsing!=2.0.4,!=2.1.2,!=2.1.6,>=2.0.1 in /usr/local/lib/python3.7/dist-packages (from matplotlib->flaml[notebook]) (3.0.7)\n",
            "Requirement already satisfied: cycler>=0.10 in /usr/local/lib/python3.7/dist-packages (from matplotlib->flaml[notebook]) (0.11.0)\n",
            "Requirement already satisfied: kiwisolver>=1.0.1 in /usr/local/lib/python3.7/dist-packages (from matplotlib->flaml[notebook]) (1.4.0)\n",
            "Requirement already satisfied: entrypoints>=0.2.2 in /usr/local/lib/python3.7/dist-packages (from nbconvert->jupyter->flaml[notebook]) (0.4)\n",
            "Requirement already satisfied: bleach in /usr/local/lib/python3.7/dist-packages (from nbconvert->jupyter->flaml[notebook]) (4.1.0)\n",
            "Requirement already satisfied: pandocfilters>=1.4.1 in /usr/local/lib/python3.7/dist-packages (from nbconvert->jupyter->flaml[notebook]) (1.5.0)\n",
            "Requirement already satisfied: defusedxml in /usr/local/lib/python3.7/dist-packages (from nbconvert->jupyter->flaml[notebook]) (0.7.1)\n",
            "Requirement already satisfied: testpath in /usr/local/lib/python3.7/dist-packages (from nbconvert->jupyter->flaml[notebook]) (0.6.0)\n",
            "Requirement already satisfied: mistune<2,>=0.8.1 in /usr/local/lib/python3.7/dist-packages (from nbconvert->jupyter->flaml[notebook]) (0.8.4)\n",
            "Requirement already satisfied: webencodings in /usr/local/lib/python3.7/dist-packages (from bleach->nbconvert->jupyter->flaml[notebook]) (0.5.1)\n",
            "Requirement already satisfied: packaging in /usr/local/lib/python3.7/dist-packages (from bleach->nbconvert->jupyter->flaml[notebook]) (21.3)\n",
            "Requirement already satisfied: tenacity>=6.2.0 in /usr/local/lib/python3.7/dist-packages (from plotly->catboost>=0.26->flaml[notebook]) (8.0.1)\n",
            "Requirement already satisfied: qtpy in /usr/local/lib/python3.7/dist-packages (from qtconsole->jupyter->flaml[notebook]) (2.0.1)\n",
            "Requirement already satisfied: urllib3!=1.25.0,!=1.25.1,<1.26,>=1.21.1 in /usr/local/lib/python3.7/dist-packages (from requests->openml==0.10.2->flaml[notebook]) (1.24.3)\n",
            "Requirement already satisfied: idna<3,>=2.5 in /usr/local/lib/python3.7/dist-packages (from requests->openml==0.10.2->flaml[notebook]) (2.10)\n",
            "Requirement already satisfied: chardet<4,>=3.0.2 in /usr/local/lib/python3.7/dist-packages (from requests->openml==0.10.2->flaml[notebook]) (3.0.4)\n",
            "Requirement already satisfied: certifi>=2017.4.17 in /usr/local/lib/python3.7/dist-packages (from requests->openml==0.10.2->flaml[notebook]) (2021.10.8)\n",
            "Building wheels for collected packages: openml, liac-arff\n",
            "  Building wheel for openml (setup.py) ... \u001b[?25l\u001b[?25hdone\n",
            "  Created wheel for openml: filename=openml-0.10.2-py3-none-any.whl size=190318 sha256=10916ec5343bcc4b9afb99036da4859d8957a662b7fe05c9dc6db0a5b8c062c1\n",
            "  Stored in directory: /root/.cache/pip/wheels/9c/9e/f3/6a5ebf16527d7fe22d9bc1652bc9beb5dc9fcfdeb75e805400\n",
            "  Building wheel for liac-arff (setup.py) ... \u001b[?25l\u001b[?25hdone\n",
            "  Created wheel for liac-arff: filename=liac_arff-2.5.0-py3-none-any.whl size=11732 sha256=1e076ca4dd6d84d72e205652653c998b87609fbf8dc3377ae9576acee83458a2\n",
            "  Stored in directory: /root/.cache/pip/wheels/1f/0f/15/332ca86cbebf25ddf98518caaf887945fbe1712b97a0f2493b\n",
            "Successfully built openml liac-arff\n",
            "Installing collected packages: xmltodict, liac-arff, rgf-python, openml, catboost\n",
            "Successfully installed catboost-1.0.4 liac-arff-2.5.0 openml-0.10.2 rgf-python-3.12.0 xmltodict-0.12.0\n"
          ]
        }
      ],
      "source": [
        "! pip install flaml[notebook]"
      ]
    },
    {
      "cell_type": "markdown",
      "metadata": {
        "id": "3qN_e3SJxCb0"
      },
      "source": [
        "# To Do:\n",
        "\n",
        "* add Confusion matrix\n",
        "* add classification report\n",
        "* do not use accuracy"
      ]
    },
    {
      "cell_type": "markdown",
      "metadata": {
        "id": "mXA2jgHVxCb2"
      },
      "source": [
        "# Introduction\n",
        "\n",
        "In this project by using the available data from [kaggle.com](https://www.kaggle.com/datasets/kamilpytlak/personal-key-indicators-of-heart-disease) we try to create a model to predict if a person will have heart disease in future or not. "
      ]
    },
    {
      "cell_type": "markdown",
      "metadata": {
        "id": "BPdAQlwLxCb2"
      },
      "source": [
        "# Importing Data and Libraries we use "
      ]
    },
    {
      "cell_type": "code",
      "source": [
        "! git clone https://github.com/miladshiraniUCB/dsc-phase-3-project-from-kaggle.git"
      ],
      "metadata": {
        "colab": {
          "base_uri": "https://localhost:8080/"
        },
        "id": "hGkZh7Mmyg6S",
        "outputId": "dcc08877-05d4-430b-ec46-196a0b2c557c"
      },
      "execution_count": 8,
      "outputs": [
        {
          "output_type": "stream",
          "name": "stdout",
          "text": [
            "Cloning into 'dsc-phase-3-project-from-kaggle'...\n",
            "remote: Enumerating objects: 20, done.\u001b[K\n",
            "remote: Counting objects: 100% (20/20), done.\u001b[K\n",
            "remote: Compressing objects: 100% (16/16), done.\u001b[K\n",
            "remote: Total 20 (delta 4), reused 18 (delta 2), pack-reused 0\u001b[K\n",
            "Unpacking objects: 100% (20/20), done.\n"
          ]
        }
      ]
    },
    {
      "cell_type": "code",
      "execution_count": 4,
      "metadata": {
        "execution": {
          "iopub.execute_input": "2022-04-01T05:32:51.626414Z",
          "iopub.status.busy": "2022-04-01T05:32:51.626113Z",
          "iopub.status.idle": "2022-04-01T05:32:51.632084Z",
          "shell.execute_reply": "2022-04-01T05:32:51.631552Z",
          "shell.execute_reply.started": "2022-04-01T05:32:51.626381Z"
        },
        "id": "scSyNhc6xCb2"
      },
      "outputs": [],
      "source": [
        "import numpy as np\n",
        "import pandas as pd\n",
        "import io\n",
        "\n",
        "from sklearn.metrics import confusion_matrix, roc_curve, auc, plot_roc_curve\n",
        "from sklearn.metrics import f1_score, precision_score, recall_score\n",
        "from sklearn.metrics import classification_report\n",
        "\n",
        "from sklearn.model_selection import GridSearchCV, train_test_split\n",
        "\n",
        "from sklearn.preprocessing import OneHotEncoder, StandardScaler\n",
        "from sklearn.ensemble import RandomForestClassifier\n",
        "\n",
        "\n",
        "from imblearn.over_sampling import SMOTE, ADASYN\n",
        "\n",
        "\n",
        "# from xgboost import XGBClassifier\n",
        "import xgboost as xgb\n",
        "\n",
        "import matplotlib.pyplot as plt\n",
        "import seaborn as sns\n",
        "\n",
        "import warnings\n",
        "warnings.filterwarnings('ignore')\n"
      ]
    },
    {
      "cell_type": "code",
      "execution_count": 9,
      "metadata": {
        "execution": {
          "iopub.execute_input": "2022-04-01T05:32:53.496694Z",
          "iopub.status.busy": "2022-04-01T05:32:53.496050Z",
          "iopub.status.idle": "2022-04-01T05:32:54.189301Z",
          "shell.execute_reply": "2022-04-01T05:32:54.188610Z",
          "shell.execute_reply.started": "2022-04-01T05:32:53.496661Z"
        },
        "colab": {
          "base_uri": "https://localhost:8080/",
          "height": 270
        },
        "id": "UyULUIN0xCb3",
        "outputId": "420ac2f5-7095-4856-eca2-386823f86901"
      },
      "outputs": [
        {
          "output_type": "execute_result",
          "data": {
            "text/plain": [
              "  HeartDisease    BMI Smoking AlcoholDrinking Stroke  PhysicalHealth  \\\n",
              "0           No  16.60     Yes              No     No             3.0   \n",
              "1           No  20.34      No              No    Yes             0.0   \n",
              "2           No  26.58     Yes              No     No            20.0   \n",
              "3           No  24.21      No              No     No             0.0   \n",
              "4           No  23.71      No              No     No            28.0   \n",
              "\n",
              "   MentalHealth DiffWalking     Sex  AgeCategory   Race Diabetic  \\\n",
              "0          30.0          No  Female        55-59  White      Yes   \n",
              "1           0.0          No  Female  80 or older  White       No   \n",
              "2          30.0          No    Male        65-69  White      Yes   \n",
              "3           0.0          No  Female        75-79  White       No   \n",
              "4           0.0         Yes  Female        40-44  White       No   \n",
              "\n",
              "  PhysicalActivity  GenHealth  SleepTime Asthma KidneyDisease SkinCancer  \n",
              "0              Yes  Very good        5.0    Yes            No        Yes  \n",
              "1              Yes  Very good        7.0     No            No         No  \n",
              "2              Yes       Fair        8.0    Yes            No         No  \n",
              "3               No       Good        6.0     No            No        Yes  \n",
              "4              Yes  Very good        8.0     No            No         No  "
            ],
            "text/html": [
              "\n",
              "  <div id=\"df-48d17be4-309b-4d34-930b-736cf2722330\">\n",
              "    <div class=\"colab-df-container\">\n",
              "      <div>\n",
              "<style scoped>\n",
              "    .dataframe tbody tr th:only-of-type {\n",
              "        vertical-align: middle;\n",
              "    }\n",
              "\n",
              "    .dataframe tbody tr th {\n",
              "        vertical-align: top;\n",
              "    }\n",
              "\n",
              "    .dataframe thead th {\n",
              "        text-align: right;\n",
              "    }\n",
              "</style>\n",
              "<table border=\"1\" class=\"dataframe\">\n",
              "  <thead>\n",
              "    <tr style=\"text-align: right;\">\n",
              "      <th></th>\n",
              "      <th>HeartDisease</th>\n",
              "      <th>BMI</th>\n",
              "      <th>Smoking</th>\n",
              "      <th>AlcoholDrinking</th>\n",
              "      <th>Stroke</th>\n",
              "      <th>PhysicalHealth</th>\n",
              "      <th>MentalHealth</th>\n",
              "      <th>DiffWalking</th>\n",
              "      <th>Sex</th>\n",
              "      <th>AgeCategory</th>\n",
              "      <th>Race</th>\n",
              "      <th>Diabetic</th>\n",
              "      <th>PhysicalActivity</th>\n",
              "      <th>GenHealth</th>\n",
              "      <th>SleepTime</th>\n",
              "      <th>Asthma</th>\n",
              "      <th>KidneyDisease</th>\n",
              "      <th>SkinCancer</th>\n",
              "    </tr>\n",
              "  </thead>\n",
              "  <tbody>\n",
              "    <tr>\n",
              "      <th>0</th>\n",
              "      <td>No</td>\n",
              "      <td>16.60</td>\n",
              "      <td>Yes</td>\n",
              "      <td>No</td>\n",
              "      <td>No</td>\n",
              "      <td>3.0</td>\n",
              "      <td>30.0</td>\n",
              "      <td>No</td>\n",
              "      <td>Female</td>\n",
              "      <td>55-59</td>\n",
              "      <td>White</td>\n",
              "      <td>Yes</td>\n",
              "      <td>Yes</td>\n",
              "      <td>Very good</td>\n",
              "      <td>5.0</td>\n",
              "      <td>Yes</td>\n",
              "      <td>No</td>\n",
              "      <td>Yes</td>\n",
              "    </tr>\n",
              "    <tr>\n",
              "      <th>1</th>\n",
              "      <td>No</td>\n",
              "      <td>20.34</td>\n",
              "      <td>No</td>\n",
              "      <td>No</td>\n",
              "      <td>Yes</td>\n",
              "      <td>0.0</td>\n",
              "      <td>0.0</td>\n",
              "      <td>No</td>\n",
              "      <td>Female</td>\n",
              "      <td>80 or older</td>\n",
              "      <td>White</td>\n",
              "      <td>No</td>\n",
              "      <td>Yes</td>\n",
              "      <td>Very good</td>\n",
              "      <td>7.0</td>\n",
              "      <td>No</td>\n",
              "      <td>No</td>\n",
              "      <td>No</td>\n",
              "    </tr>\n",
              "    <tr>\n",
              "      <th>2</th>\n",
              "      <td>No</td>\n",
              "      <td>26.58</td>\n",
              "      <td>Yes</td>\n",
              "      <td>No</td>\n",
              "      <td>No</td>\n",
              "      <td>20.0</td>\n",
              "      <td>30.0</td>\n",
              "      <td>No</td>\n",
              "      <td>Male</td>\n",
              "      <td>65-69</td>\n",
              "      <td>White</td>\n",
              "      <td>Yes</td>\n",
              "      <td>Yes</td>\n",
              "      <td>Fair</td>\n",
              "      <td>8.0</td>\n",
              "      <td>Yes</td>\n",
              "      <td>No</td>\n",
              "      <td>No</td>\n",
              "    </tr>\n",
              "    <tr>\n",
              "      <th>3</th>\n",
              "      <td>No</td>\n",
              "      <td>24.21</td>\n",
              "      <td>No</td>\n",
              "      <td>No</td>\n",
              "      <td>No</td>\n",
              "      <td>0.0</td>\n",
              "      <td>0.0</td>\n",
              "      <td>No</td>\n",
              "      <td>Female</td>\n",
              "      <td>75-79</td>\n",
              "      <td>White</td>\n",
              "      <td>No</td>\n",
              "      <td>No</td>\n",
              "      <td>Good</td>\n",
              "      <td>6.0</td>\n",
              "      <td>No</td>\n",
              "      <td>No</td>\n",
              "      <td>Yes</td>\n",
              "    </tr>\n",
              "    <tr>\n",
              "      <th>4</th>\n",
              "      <td>No</td>\n",
              "      <td>23.71</td>\n",
              "      <td>No</td>\n",
              "      <td>No</td>\n",
              "      <td>No</td>\n",
              "      <td>28.0</td>\n",
              "      <td>0.0</td>\n",
              "      <td>Yes</td>\n",
              "      <td>Female</td>\n",
              "      <td>40-44</td>\n",
              "      <td>White</td>\n",
              "      <td>No</td>\n",
              "      <td>Yes</td>\n",
              "      <td>Very good</td>\n",
              "      <td>8.0</td>\n",
              "      <td>No</td>\n",
              "      <td>No</td>\n",
              "      <td>No</td>\n",
              "    </tr>\n",
              "  </tbody>\n",
              "</table>\n",
              "</div>\n",
              "      <button class=\"colab-df-convert\" onclick=\"convertToInteractive('df-48d17be4-309b-4d34-930b-736cf2722330')\"\n",
              "              title=\"Convert this dataframe to an interactive table.\"\n",
              "              style=\"display:none;\">\n",
              "        \n",
              "  <svg xmlns=\"http://www.w3.org/2000/svg\" height=\"24px\"viewBox=\"0 0 24 24\"\n",
              "       width=\"24px\">\n",
              "    <path d=\"M0 0h24v24H0V0z\" fill=\"none\"/>\n",
              "    <path d=\"M18.56 5.44l.94 2.06.94-2.06 2.06-.94-2.06-.94-.94-2.06-.94 2.06-2.06.94zm-11 1L8.5 8.5l.94-2.06 2.06-.94-2.06-.94L8.5 2.5l-.94 2.06-2.06.94zm10 10l.94 2.06.94-2.06 2.06-.94-2.06-.94-.94-2.06-.94 2.06-2.06.94z\"/><path d=\"M17.41 7.96l-1.37-1.37c-.4-.4-.92-.59-1.43-.59-.52 0-1.04.2-1.43.59L10.3 9.45l-7.72 7.72c-.78.78-.78 2.05 0 2.83L4 21.41c.39.39.9.59 1.41.59.51 0 1.02-.2 1.41-.59l7.78-7.78 2.81-2.81c.8-.78.8-2.07 0-2.86zM5.41 20L4 18.59l7.72-7.72 1.47 1.35L5.41 20z\"/>\n",
              "  </svg>\n",
              "      </button>\n",
              "      \n",
              "  <style>\n",
              "    .colab-df-container {\n",
              "      display:flex;\n",
              "      flex-wrap:wrap;\n",
              "      gap: 12px;\n",
              "    }\n",
              "\n",
              "    .colab-df-convert {\n",
              "      background-color: #E8F0FE;\n",
              "      border: none;\n",
              "      border-radius: 50%;\n",
              "      cursor: pointer;\n",
              "      display: none;\n",
              "      fill: #1967D2;\n",
              "      height: 32px;\n",
              "      padding: 0 0 0 0;\n",
              "      width: 32px;\n",
              "    }\n",
              "\n",
              "    .colab-df-convert:hover {\n",
              "      background-color: #E2EBFA;\n",
              "      box-shadow: 0px 1px 2px rgba(60, 64, 67, 0.3), 0px 1px 3px 1px rgba(60, 64, 67, 0.15);\n",
              "      fill: #174EA6;\n",
              "    }\n",
              "\n",
              "    [theme=dark] .colab-df-convert {\n",
              "      background-color: #3B4455;\n",
              "      fill: #D2E3FC;\n",
              "    }\n",
              "\n",
              "    [theme=dark] .colab-df-convert:hover {\n",
              "      background-color: #434B5C;\n",
              "      box-shadow: 0px 1px 3px 1px rgba(0, 0, 0, 0.15);\n",
              "      filter: drop-shadow(0px 1px 2px rgba(0, 0, 0, 0.3));\n",
              "      fill: #FFFFFF;\n",
              "    }\n",
              "  </style>\n",
              "\n",
              "      <script>\n",
              "        const buttonEl =\n",
              "          document.querySelector('#df-48d17be4-309b-4d34-930b-736cf2722330 button.colab-df-convert');\n",
              "        buttonEl.style.display =\n",
              "          google.colab.kernel.accessAllowed ? 'block' : 'none';\n",
              "\n",
              "        async function convertToInteractive(key) {\n",
              "          const element = document.querySelector('#df-48d17be4-309b-4d34-930b-736cf2722330');\n",
              "          const dataTable =\n",
              "            await google.colab.kernel.invokeFunction('convertToInteractive',\n",
              "                                                     [key], {});\n",
              "          if (!dataTable) return;\n",
              "\n",
              "          const docLinkHtml = 'Like what you see? Visit the ' +\n",
              "            '<a target=\"_blank\" href=https://colab.research.google.com/notebooks/data_table.ipynb>data table notebook</a>'\n",
              "            + ' to learn more about interactive tables.';\n",
              "          element.innerHTML = '';\n",
              "          dataTable['output_type'] = 'display_data';\n",
              "          await google.colab.output.renderOutput(dataTable, element);\n",
              "          const docLink = document.createElement('div');\n",
              "          docLink.innerHTML = docLinkHtml;\n",
              "          element.appendChild(docLink);\n",
              "        }\n",
              "      </script>\n",
              "    </div>\n",
              "  </div>\n",
              "  "
            ]
          },
          "metadata": {},
          "execution_count": 9
        }
      ],
      "source": [
        "# from google.colab import files\n",
        "# uploaded = files.upload()\n",
        "\n",
        "# df = pd.read_csv(io.StringIO(uploaded[\"heart_2020_cleaned.csv\"].decode(\"utf-8\")))\n",
        "\n",
        "df = pd.read_csv(\"/content/dsc-phase-3-project-from-kaggle/heart_2020_cleaned.csv\")\n",
        "df.head()\n"
      ]
    },
    {
      "cell_type": "code",
      "execution_count": 10,
      "metadata": {
        "execution": {
          "iopub.execute_input": "2022-04-01T05:32:55.285207Z",
          "iopub.status.busy": "2022-04-01T05:32:55.284942Z",
          "iopub.status.idle": "2022-04-01T05:32:55.769669Z",
          "shell.execute_reply": "2022-04-01T05:32:55.768806Z",
          "shell.execute_reply.started": "2022-04-01T05:32:55.285179Z"
        },
        "colab": {
          "base_uri": "https://localhost:8080/"
        },
        "id": "55xHEA5exCb4",
        "outputId": "05529aab-6550-407d-92f8-1cd16e442a51"
      },
      "outputs": [
        {
          "output_type": "stream",
          "name": "stdout",
          "text": [
            "<class 'pandas.core.frame.DataFrame'>\n",
            "RangeIndex: 319795 entries, 0 to 319794\n",
            "Data columns (total 18 columns):\n",
            " #   Column            Non-Null Count   Dtype  \n",
            "---  ------            --------------   -----  \n",
            " 0   HeartDisease      319795 non-null  object \n",
            " 1   BMI               319795 non-null  float64\n",
            " 2   Smoking           319795 non-null  object \n",
            " 3   AlcoholDrinking   319795 non-null  object \n",
            " 4   Stroke            319795 non-null  object \n",
            " 5   PhysicalHealth    319795 non-null  float64\n",
            " 6   MentalHealth      319795 non-null  float64\n",
            " 7   DiffWalking       319795 non-null  object \n",
            " 8   Sex               319795 non-null  object \n",
            " 9   AgeCategory       319795 non-null  object \n",
            " 10  Race              319795 non-null  object \n",
            " 11  Diabetic          319795 non-null  object \n",
            " 12  PhysicalActivity  319795 non-null  object \n",
            " 13  GenHealth         319795 non-null  object \n",
            " 14  SleepTime         319795 non-null  float64\n",
            " 15  Asthma            319795 non-null  object \n",
            " 16  KidneyDisease     319795 non-null  object \n",
            " 17  SkinCancer        319795 non-null  object \n",
            "dtypes: float64(4), object(14)\n",
            "memory usage: 43.9+ MB\n"
          ]
        }
      ],
      "source": [
        "df.info()"
      ]
    },
    {
      "cell_type": "code",
      "execution_count": 11,
      "metadata": {
        "execution": {
          "iopub.execute_input": "2022-04-01T05:32:56.409780Z",
          "iopub.status.busy": "2022-04-01T05:32:56.409157Z",
          "iopub.status.idle": "2022-04-01T05:32:56.889192Z",
          "shell.execute_reply": "2022-04-01T05:32:56.888171Z",
          "shell.execute_reply.started": "2022-04-01T05:32:56.409737Z"
        },
        "colab": {
          "base_uri": "https://localhost:8080/"
        },
        "id": "K96myx9ZxCb5",
        "outputId": "225c1649-f706-4baa-ab38-c9b4711ce17c"
      },
      "outputs": [
        {
          "output_type": "execute_result",
          "data": {
            "text/plain": [
              "HeartDisease        0\n",
              "BMI                 0\n",
              "Smoking             0\n",
              "AlcoholDrinking     0\n",
              "Stroke              0\n",
              "PhysicalHealth      0\n",
              "MentalHealth        0\n",
              "DiffWalking         0\n",
              "Sex                 0\n",
              "AgeCategory         0\n",
              "Race                0\n",
              "Diabetic            0\n",
              "PhysicalActivity    0\n",
              "GenHealth           0\n",
              "SleepTime           0\n",
              "Asthma              0\n",
              "KidneyDisease       0\n",
              "SkinCancer          0\n",
              "dtype: int64"
            ]
          },
          "metadata": {},
          "execution_count": 11
        }
      ],
      "source": [
        "df.isna().sum()"
      ]
    },
    {
      "cell_type": "code",
      "execution_count": 12,
      "metadata": {
        "execution": {
          "iopub.execute_input": "2022-04-01T05:32:58.234348Z",
          "iopub.status.busy": "2022-04-01T05:32:58.234035Z",
          "iopub.status.idle": "2022-04-01T05:32:59.031011Z",
          "shell.execute_reply": "2022-04-01T05:32:59.030188Z",
          "shell.execute_reply.started": "2022-04-01T05:32:58.234316Z"
        },
        "colab": {
          "base_uri": "https://localhost:8080/",
          "height": 442
        },
        "id": "leFky5RWxCb6",
        "outputId": "e97224a7-7bd9-4126-9458-c37976dccefb"
      },
      "outputs": [
        {
          "output_type": "display_data",
          "data": {
            "text/plain": [
              "<Figure size 504x504 with 1 Axes>"
            ],
            "image/png": "[encoded data removed]"
          },
          "metadata": {
            "needs_background": "light"
          }
        }
      ],
      "source": [
        "plt.figure(figsize=(7,7))\n",
        "sns.countplot(data=df,x=\"HeartDisease\",hue=\"Asthma\");"
      ]
    },
    {
      "cell_type": "code",
      "execution_count": 13,
      "metadata": {
        "execution": {
          "iopub.execute_input": "2022-04-01T05:32:59.640189Z",
          "iopub.status.busy": "2022-04-01T05:32:59.639577Z",
          "iopub.status.idle": "2022-04-01T05:33:00.438538Z",
          "shell.execute_reply": "2022-04-01T05:33:00.437700Z",
          "shell.execute_reply.started": "2022-04-01T05:32:59.640137Z"
        },
        "colab": {
          "base_uri": "https://localhost:8080/",
          "height": 442
        },
        "id": "Atj_B61VxCb7",
        "outputId": "2bf01e86-ecfd-42ef-b363-9dd2265eddba"
      },
      "outputs": [
        {
          "output_type": "display_data",
          "data": {
            "text/plain": [
              "<Figure size 504x504 with 1 Axes>"
            ],
            "image/png": "[encoded data removed]"
          },
          "metadata": {
            "needs_background": "light"
          }
        }
      ],
      "source": [
        "plt.figure(figsize=(7,7))\n",
        "sns.countplot(data=df,x=\"HeartDisease\",hue=\"KidneyDisease\");"
      ]
    },
    {
      "cell_type": "code",
      "execution_count": 14,
      "metadata": {
        "execution": {
          "iopub.execute_input": "2022-04-01T05:33:00.879319Z",
          "iopub.status.busy": "2022-04-01T05:33:00.878704Z",
          "iopub.status.idle": "2022-04-01T05:33:01.666230Z",
          "shell.execute_reply": "2022-04-01T05:33:01.665423Z",
          "shell.execute_reply.started": "2022-04-01T05:33:00.879281Z"
        },
        "colab": {
          "base_uri": "https://localhost:8080/",
          "height": 442
        },
        "id": "WqvGL8dXxCb7",
        "outputId": "535fe4bd-826f-4018-c728-8c2c2809e846"
      },
      "outputs": [
        {
          "output_type": "display_data",
          "data": {
            "text/plain": [
              "<Figure size 504x504 with 1 Axes>"
            ],
            "image/png": "[encoded data removed]"
          },
          "metadata": {
            "needs_background": "light"
          }
        }
      ],
      "source": [
        "plt.figure(figsize=(7,7))\n",
        "sns.countplot(data=df,x=\"HeartDisease\",hue=\"Stroke\");"
      ]
    },
    {
      "cell_type": "code",
      "execution_count": 15,
      "metadata": {
        "execution": {
          "iopub.execute_input": "2022-04-01T05:33:03.458599Z",
          "iopub.status.busy": "2022-04-01T05:33:03.457802Z",
          "iopub.status.idle": "2022-04-01T05:33:04.252030Z",
          "shell.execute_reply": "2022-04-01T05:33:04.251224Z",
          "shell.execute_reply.started": "2022-04-01T05:33:03.458543Z"
        },
        "colab": {
          "base_uri": "https://localhost:8080/",
          "height": 442
        },
        "id": "NIAqzJOXxCb7",
        "outputId": "7d4f6a22-f9fb-4ded-f03b-7fed4d588da9"
      },
      "outputs": [
        {
          "output_type": "display_data",
          "data": {
            "text/plain": [
              "<Figure size 504x504 with 1 Axes>"
            ],
            "image/png": "[encoded data removed]"
          },
          "metadata": {
            "needs_background": "light"
          }
        }
      ],
      "source": [
        "plt.figure(figsize=(7,7))\n",
        "sns.countplot(data=df,x=\"HeartDisease\",hue=\"SkinCancer\");"
      ]
    },
    {
      "cell_type": "code",
      "execution_count": 16,
      "metadata": {
        "execution": {
          "iopub.execute_input": "2022-04-01T05:33:12.876862Z",
          "iopub.status.busy": "2022-04-01T05:33:12.876571Z",
          "iopub.status.idle": "2022-04-01T05:33:13.672047Z",
          "shell.execute_reply": "2022-04-01T05:33:13.671271Z",
          "shell.execute_reply.started": "2022-04-01T05:33:12.876831Z"
        },
        "colab": {
          "base_uri": "https://localhost:8080/",
          "height": 442
        },
        "id": "pXDDPWngxCb8",
        "outputId": "9573246c-3300-4d84-c009-29a1c273e683"
      },
      "outputs": [
        {
          "output_type": "display_data",
          "data": {
            "text/plain": [
              "<Figure size 504x504 with 1 Axes>"
            ],
            "image/png": "[encoded data removed]"
          },
          "metadata": {
            "needs_background": "light"
          }
        }
      ],
      "source": [
        "plt.figure(figsize=(7,7))\n",
        "sns.countplot(data=df,x=\"HeartDisease\",hue=\"DiffWalking\");"
      ]
    },
    {
      "cell_type": "code",
      "execution_count": 17,
      "metadata": {
        "execution": {
          "iopub.execute_input": "2022-04-01T05:30:35.319063Z",
          "iopub.status.busy": "2022-04-01T05:30:35.318775Z",
          "iopub.status.idle": "2022-04-01T05:30:35.322746Z",
          "shell.execute_reply": "2022-04-01T05:30:35.321925Z",
          "shell.execute_reply.started": "2022-04-01T05:30:35.319031Z"
        },
        "id": "9ibox4XHxCb8"
      },
      "outputs": [],
      "source": [
        "# plt.figure(figsize=(7,7))\n",
        "# sns.countplot(data=df,x=\"HeartDisease\",hue=\"MentalHealth\")"
      ]
    },
    {
      "cell_type": "code",
      "execution_count": 18,
      "metadata": {
        "colab": {
          "base_uri": "https://localhost:8080/",
          "height": 442
        },
        "id": "3XMSniJtxCb9",
        "outputId": "7363a3c2-5901-48c9-8667-03d82d075dc6"
      },
      "outputs": [
        {
          "output_type": "display_data",
          "data": {
            "text/plain": [
              "<Figure size 504x504 with 1 Axes>"
            ],
            "image/png": "[encoded data removed]"
          },
          "metadata": {
            "needs_background": "light"
          }
        }
      ],
      "source": [
        "plt.figure(figsize=(7,7))\n",
        "sns.histplot(df.loc[df[\"HeartDisease\"]== \"No\"][\"BMI\"], \n",
        "             color = \"tab:blue\", alpha = 0.4, label = \"No Heart Disease\", \n",
        "            kde = True)\n",
        "sns.histplot(df.loc[df[\"HeartDisease\"]== \"Yes\"][\"BMI\"], \n",
        "             color = \"tab:red\", alpha = 0.4, label = \"Heart Disease\",\n",
        "            kde = True)\n",
        "# plt.show()\n",
        "plt.legend();"
      ]
    },
    {
      "cell_type": "markdown",
      "metadata": {
        "id": "S-TfD4jZxCb9"
      },
      "source": [
        "# Data Preparation "
      ]
    },
    {
      "cell_type": "code",
      "execution_count": 19,
      "metadata": {
        "execution": {
          "iopub.execute_input": "2022-04-01T05:33:25.402096Z",
          "iopub.status.busy": "2022-04-01T05:33:25.401687Z",
          "iopub.status.idle": "2022-04-01T05:33:25.410683Z",
          "shell.execute_reply": "2022-04-01T05:33:25.409949Z",
          "shell.execute_reply.started": "2022-04-01T05:33:25.402066Z"
        },
        "colab": {
          "base_uri": "https://localhost:8080/"
        },
        "id": "GWYNckFuxCb9",
        "outputId": "bedf2519-221e-48cd-9b0a-9bba27daed5c"
      },
      "outputs": [
        {
          "output_type": "execute_result",
          "data": {
            "text/plain": [
              "No     0.914405\n",
              "Yes    0.085595\n",
              "Name: HeartDisease, dtype: float64"
            ]
          },
          "metadata": {},
          "execution_count": 19
        }
      ],
      "source": [
        "df[\"HeartDisease\"].value_counts(normalize = True)"
      ]
    },
    {
      "cell_type": "code",
      "execution_count": 20,
      "metadata": {
        "execution": {
          "iopub.execute_input": "2022-04-01T05:39:23.181231Z",
          "iopub.status.busy": "2022-04-01T05:39:23.180954Z",
          "iopub.status.idle": "2022-04-01T05:39:23.776431Z",
          "shell.execute_reply": "2022-04-01T05:39:23.775578Z",
          "shell.execute_reply.started": "2022-04-01T05:39:23.181203Z"
        },
        "id": "Q809UsY6xCb-"
      },
      "outputs": [],
      "source": [
        "df_2 = df.copy()\n",
        "Yes_No_dict = {\"No\":0, \"Yes\":1, \"Female\":1, \"Male\":0} \n",
        "\n",
        "Yes_No_List = [\"Stroke\", \"HeartDisease\", \"Smoking\", \"AlcoholDrinking\",\n",
        "               \"Asthma\", \"KidneyDisease\", \"SkinCancer\", \"Diabetic\",\n",
        "               \"PhysicalActivity\", \"Sex\", \"DiffWalking\"]\n",
        "\n",
        "for col in Yes_No_List:\n",
        "    df_2[col] = df_2[col].map(Yes_No_dict)\n",
        "\n",
        "#### Encoding By using OneHotEncoder\n",
        "\n",
        "\n",
        "to_append = [\"BMI\", \"SleepTime\"]\n",
        "\n",
        "for item in to_append:\n",
        "    Yes_No_List.append(item)\n",
        "    \n",
        "\n",
        "cat = list(df_2.columns)\n",
        "\n",
        "\n",
        "for item in Yes_No_List:  \n",
        "    cat.remove(item)\n",
        "    \n",
        "\n",
        "df_cat = df_2[cat]\n",
        "\n",
        "ohe = OneHotEncoder(categories='auto', sparse=False)\n",
        "#                     , drop=\"first\")\n",
        "\n",
        "df_cat_encoded = pd.DataFrame(np.squeeze(ohe.fit_transform(df_cat)), \n",
        "                              columns = ohe.get_feature_names())\n",
        "\n",
        "##### Scaling By using StandardScaler\n",
        "\n",
        "scaler = StandardScaler()\n",
        "\n",
        "BMI = df_2[[\"BMI\", \"SleepTime\"]]\n",
        "\n",
        "\n",
        "scaled_BMI = scaler.fit_transform(BMI)\n",
        "\n",
        "df_scaled_BMI = pd.DataFrame(np.squeeze(scaler.fit_transform(BMI)), \n",
        "                             columns = BMI.columns)\n",
        "\n",
        "#### Concatating New DataFrames\n",
        "\n",
        "X = pd.concat([df_cat_encoded, df_scaled_BMI], axis = 1)\n"
      ]
    },
    {
      "cell_type": "markdown",
      "metadata": {
        "variables": {
          "df_2[\"HeartDisease\"].value_counts(normalize = True)": "0    0.914405\n1    0.085595\nName: HeartDisease, dtype: float64"
        },
        "id": "XTNJIINxxCb-"
      },
      "source": [
        "We see that `df_2[\"HeartDisease\"].value_counts(normalize = True)` results in\n",
        "\n",
        "`\n",
        "{{df_2[\"HeartDisease\"].value_counts(normalize = True)}}`\n",
        "\n",
        "which can be used to conclude that we have imbalances in our data so, we either can use `SMOTE` or we can set `stratify=y` in `train_test_split`. We noticed that setting set `stratify=y`, results in a better accuracy."
      ]
    },
    {
      "cell_type": "code",
      "execution_count": 21,
      "metadata": {
        "execution": {
          "iopub.execute_input": "2022-04-01T05:39:31.807735Z",
          "iopub.status.busy": "2022-04-01T05:39:31.807408Z",
          "iopub.status.idle": "2022-04-01T05:39:32.055748Z",
          "shell.execute_reply": "2022-04-01T05:39:32.054995Z",
          "shell.execute_reply.started": "2022-04-01T05:39:31.807687Z"
        },
        "colab": {
          "base_uri": "https://localhost:8080/"
        },
        "id": "_8v9PsW-xCb_",
        "outputId": "72bbb69d-050a-4c91-d743-4cb4e8a58313"
      },
      "outputs": [
        {
          "output_type": "stream",
          "name": "stdout",
          "text": [
            "y_train: {0: 91.44061039103175, 1: 8.559389608968246}\n",
            "y_train_smote: {0: 50.0, 1: 50.0}\n",
            "y_test: {0: 91.43982864022264, 1: 8.560171359777357}\n"
          ]
        }
      ],
      "source": [
        "\n",
        "y = df_2[\"HeartDisease\"]\n",
        "X_train, X_test, y_train, y_test = train_test_split(X, y, \n",
        "                                                    random_state = 42, \n",
        "                                                    test_size = 0.2 \n",
        "                                                    , stratify=y)\n",
        "\n",
        "\n",
        "\n",
        "smote = SMOTE()\n",
        "X_train_smote, y_train_smote = smote.fit_resample(X_train, y_train)\n",
        "\n",
        "print(\"y_train:\", dict(y_train.value_counts(normalize = True)*100))\n",
        "print(\"y_train_smote:\", dict(y_train_smote.value_counts(normalize = True)*100))\n",
        "print(\"y_test:\", dict(y_test.value_counts(normalize = True)*100))"
      ]
    },
    {
      "cell_type": "markdown",
      "metadata": {
        "id": "KcHNh0noxCb_"
      },
      "source": [
        "# XGBoost"
      ]
    },
    {
      "cell_type": "markdown",
      "metadata": {
        "id": "jGgqURfAxCb_"
      },
      "source": [
        "The following Box is from [here](https://stackoverflow.com/questions/51587535/custom-evaluation-function-based-on-f1-for-use-in-xgboost-python-api) and also check [this](https://xgboost.readthedocs.io/en/stable/tutorials/custom_metric_obj.html)\n",
        "\n",
        "or the first link is\n",
        "\n",
        "```\n",
        "https://stackoverflow.com/questions/51587535/custom-evaluation-function-based-on-f1-for-use-in-xgboost-python-api\n",
        "```\n",
        "\n",
        "and the second link is\n",
        "\n",
        "```\n",
        "https://xgboost.readthedocs.io/en/stable/tutorials/custom_metric_obj.html\n",
        "```"
      ]
    },
    {
      "cell_type": "code",
      "execution_count": 22,
      "metadata": {
        "execution": {
          "iopub.execute_input": "2022-04-01T05:45:13.655701Z",
          "iopub.status.busy": "2022-04-01T05:45:13.655162Z",
          "iopub.status.idle": "2022-04-01T05:45:20.541690Z",
          "shell.execute_reply": "2022-04-01T05:45:20.540832Z",
          "shell.execute_reply.started": "2022-04-01T05:45:13.655647Z"
        },
        "id": "jc15yN7pxCcA"
      },
      "outputs": [],
      "source": [
        "# {'alpha': 10,\n",
        "#  'eval_metric': 'auc',\n",
        "#  'max_depth': 10,\n",
        "#  'n_estimators': 15,\n",
        "#  'objective': 'binary:logistic',\n",
        "#  'seed': 42}\n",
        "\n",
        "# smote_params = {'alpha': 10,\n",
        "#                 'eval_metric': 'auc',\n",
        "#                 'max_depth': 10,\n",
        "#                 'n_estimators': 15,\n",
        "#                 'objective': 'binary:logistic',\n",
        "#                 'seed': 42}\n",
        "\n",
        "\n",
        "clf = xgb.XGBClassifier(max_depth = 10, n_estimators= 15, seed=42,\n",
        "                        alpha = 10, #reg_alpha = 10, \n",
        "                        objective = 'binary:logistic', \n",
        "                        eval_metric = \"auc\")\n",
        "\n",
        "clf.fit(X_train_smote, y_train_smote);"
      ]
    },
    {
      "cell_type": "code",
      "execution_count": 23,
      "metadata": {
        "colab": {
          "base_uri": "https://localhost:8080/"
        },
        "id": "dkaf2Yy6xCcA",
        "outputId": "ae322966-0161-453f-9803-ea18af48b757"
      },
      "outputs": [
        {
          "output_type": "stream",
          "name": "stdout",
          "text": [
            "Training AUC: 0.742\n",
            "Validation AUC: 0.7253\n",
            "Test precision_score: 0.1969\n",
            "Test recall_score: 0.7289\n",
            "f1_score: 0.31\n"
          ]
        }
      ],
      "source": [
        "test_preds = clf.predict(X_test)\n",
        "training_preds= clf.predict(X_train)\n",
        "\n",
        "### ROC and AUC\n",
        "# ROC\n",
        "train_fpr, train_tpr, train_thresh = roc_curve(y_train, training_preds)\n",
        "test_fpr , test_tpr , test_thresh = roc_curve(y_test, test_preds)\n",
        "# AUC\n",
        "train_auc = auc(train_fpr, train_tpr)\n",
        "test_auc = auc(test_fpr, test_tpr)\n",
        "\n",
        "\n",
        "print('Training AUC: {:.4}'.format(train_auc))\n",
        "print('Validation AUC: {:.4}'.format(test_auc))\n",
        "print(\"Test precision_score: {:.4}\".format(precision_score(y_test, test_preds)))\n",
        "print(\"Test recall_score: {:.4}\".format(recall_score(y_test, test_preds)))\n",
        "print(\"f1_score: {:.4}\".format(f1_score(y_test, test_preds)))"
      ]
    },
    {
      "cell_type": "code",
      "execution_count": 24,
      "metadata": {
        "colab": {
          "base_uri": "https://localhost:8080/",
          "height": 893
        },
        "id": "kureWf4oxCcB",
        "outputId": "197278e8-03b4-44d3-d3c8-fdd2d3f3fd83"
      },
      "outputs": [
        {
          "output_type": "display_data",
          "data": {
            "text/plain": [
              "<Figure size 1080x1080 with 1 Axes>"
            ],
            "image/png": "[encoded data removed]"
          },
          "metadata": {
            "needs_background": "light"
          }
        }
      ],
      "source": [
        "fig, ax = plt.subplots(1,1,figsize=(15, 15))\n",
        "xgb.plot_importance(clf, ax = ax);"
      ]
    },
    {
      "cell_type": "markdown",
      "metadata": {
        "id": "QZRM36xjxCcB"
      },
      "source": [
        "## GridSearch For XGBoost \n",
        "\n",
        "By using GridSearch we find the following. It takes times to find it so, make sure that you are not running this section.\n",
        "\n",
        "```python\n",
        "\n",
        "best_parameters = {'alpha': 30,\n",
        " 'eta': 0.3,\n",
        " 'eval_metric': 'auc',\n",
        " 'max_depth': 10,\n",
        " 'n_estimators': 25,\n",
        " 'objective': 'binary:logistic',\n",
        " 'seed': 42}\n",
        "\n",
        "```\n",
        "\n",
        "the accuracy results that we find are:\n",
        "\n",
        "```python\n",
        "Training Accuracy: 91.61%\n",
        "Validation accuracy: 91.6%\n",
        "```"
      ]
    },
    {
      "cell_type": "code",
      "execution_count": 25,
      "metadata": {
        "execution": {
          "iopub.execute_input": "2022-04-01T06:07:53.427183Z",
          "iopub.status.busy": "2022-04-01T06:07:53.426482Z",
          "iopub.status.idle": "2022-04-01T06:07:53.433175Z",
          "shell.execute_reply": "2022-04-01T06:07:53.432523Z",
          "shell.execute_reply.started": "2022-04-01T06:07:53.427134Z"
        },
        "id": "CQXDoGShxCcB"
      },
      "outputs": [],
      "source": [
        "# clf_param_grid = {\n",
        "#     \"max_depth\": [5, 10],\n",
        "#     \"n_estimators\": [10, 15],\n",
        "#     \"seed\": [42],\n",
        "#     \"alpha\": [10, 20, 25, 30],\n",
        "# #     \"eta\": [0.3],\n",
        "#     \"objective\" : ['binary:logistic'], \n",
        "#     \"eval_metric\" : [\"auc\", \"error\"]\n",
        "# }"
      ]
    },
    {
      "cell_type": "code",
      "execution_count": 26,
      "metadata": {
        "execution": {
          "iopub.execute_input": "2022-04-01T06:08:04.491190Z",
          "iopub.status.busy": "2022-04-01T06:08:04.490908Z",
          "iopub.status.idle": "2022-04-01T06:15:56.665863Z",
          "shell.execute_reply": "2022-04-01T06:15:56.665026Z",
          "shell.execute_reply.started": "2022-04-01T06:08:04.491160Z"
        },
        "id": "vSbnMQPbxCcB"
      },
      "outputs": [],
      "source": [
        "# clf_grid = xgb.XGBClassifier()\n",
        "\n",
        "# clf_grid_search = GridSearchCV(clf_grid, clf_param_grid, cv = None)\n",
        "\n",
        "\n",
        "# # Fit to the data\n",
        "# clf_grid_search.fit(X_train_resampled, y_train_resampled)"
      ]
    },
    {
      "cell_type": "code",
      "execution_count": 27,
      "metadata": {
        "execution": {
          "iopub.execute_input": "2022-04-01T06:16:25.340596Z",
          "iopub.status.busy": "2022-04-01T06:16:25.339596Z",
          "iopub.status.idle": "2022-04-01T06:16:25.560789Z",
          "shell.execute_reply": "2022-04-01T06:16:25.559959Z",
          "shell.execute_reply.started": "2022-04-01T06:16:25.340540Z"
        },
        "id": "_CJMyTb1xCcC"
      },
      "outputs": [],
      "source": [
        "# grid_training_preds = clf_grid_search.predict(X_train_resampled)\n",
        "# grid_test_preds     = clf_grid_search.predict(X_test)\n",
        "\n",
        "\n",
        "# grid_training_accuracy =  accuracy_score(y_train_resampled, grid_training_preds)\n",
        "# grid_test_accuracy     =  accuracy_score(y_test, grid_test_preds)\n",
        "\n",
        "# print('Training Accuracy: {:.4}%'.format(grid_training_accuracy * 100))\n",
        "# print('Validation accuracy: {:.4}%'.format(grid_test_accuracy * 100))"
      ]
    },
    {
      "cell_type": "code",
      "execution_count": 28,
      "metadata": {
        "execution": {
          "iopub.execute_input": "2022-04-01T06:16:27.749590Z",
          "iopub.status.busy": "2022-04-01T06:16:27.749267Z",
          "iopub.status.idle": "2022-04-01T06:16:27.755823Z",
          "shell.execute_reply": "2022-04-01T06:16:27.754939Z",
          "shell.execute_reply.started": "2022-04-01T06:16:27.749556Z"
        },
        "id": "Gs2CdeNFxCcC"
      },
      "outputs": [],
      "source": [
        "# clf_grid_search.best_params_"
      ]
    },
    {
      "cell_type": "markdown",
      "metadata": {
        "id": "WERHm4GOxCcC"
      },
      "source": [
        "# Random Forest"
      ]
    },
    {
      "cell_type": "code",
      "execution_count": 29,
      "metadata": {
        "execution": {
          "iopub.execute_input": "2022-04-01T06:17:00.361565Z",
          "iopub.status.busy": "2022-04-01T06:17:00.361113Z",
          "iopub.status.idle": "2022-04-01T06:17:42.200460Z",
          "shell.execute_reply": "2022-04-01T06:17:42.199458Z",
          "shell.execute_reply.started": "2022-04-01T06:17:00.361521Z"
        },
        "colab": {
          "base_uri": "https://localhost:8080/"
        },
        "id": "lcpQ3Q2_xCcC",
        "outputId": "94b0021c-dcfe-477c-f552-aabed71ce128"
      },
      "outputs": [
        {
          "output_type": "stream",
          "name": "stdout",
          "text": [
            "Training AUC: 0.9387\n",
            "Validation AUC: 0.5822\n",
            "Test precision_score: 0.1897\n",
            "Test recall_score: 0.274\n",
            "f1_score: 0.2241\n"
          ]
        }
      ],
      "source": [
        "from sklearn.ensemble import RandomForestClassifier\n",
        "rf = RandomForestClassifier(criterion=\"entropy\", bootstrap = True)\n",
        "\n",
        "rf.fit(X_train_smote, y_train_smote)\n",
        "\n",
        "training_preds_rf = rf.predict(X_train)\n",
        "test_preds_rf     = rf.predict(X_test)\n",
        "\n",
        "\n",
        "### ROC and AUC\n",
        "# ROC\n",
        "train_fpr_rf, train_tpr_rf, train_thresh_rf = roc_curve(y_train, training_preds_rf)\n",
        "test_fpr_rf , test_tpr_rf , test_thresh_rf = roc_curve(y_test, test_preds_rf)\n",
        "# AUC\n",
        "train_auc_rf = auc(train_fpr_rf, train_tpr_rf)\n",
        "test_auc_rf = auc(test_fpr_rf, test_tpr_rf)\n",
        "\n",
        "\n",
        "print('Training AUC: {:.4}'.format(train_auc_rf))\n",
        "print('Validation AUC: {:.4}'.format(test_auc_rf))\n",
        "print(\"Test precision_score: {:.4}\".format(precision_score(y_test, test_preds_rf)))\n",
        "print(\"Test recall_score: {:.4}\".format(recall_score(y_test, test_preds_rf)))\n",
        "print(\"f1_score: {:.4}\".format(f1_score(y_test, test_preds_rf)))"
      ]
    },
    {
      "cell_type": "markdown",
      "metadata": {
        "id": "3p7T6-8nxCcD"
      },
      "source": [
        "# Microsoft FLAML A Fast Library for Automated Machine Learning & Tuning\n",
        "\n",
        "It can be found [here](https://github.com/microsoft/FLAML) or using the following link\n",
        "```https://github.com/microsoft/FLAML```\n"
      ]
    },
    {
      "cell_type": "code",
      "execution_count": 83,
      "metadata": {
        "id": "dC0dsm9UxCcD"
      },
      "outputs": [],
      "source": [
        "X_new = df.drop(\"HeartDisease\", axis = 1)\n",
        "y_new = df.HeartDisease\n",
        "\n",
        "\n",
        "X_train_n, X_test_n, y_train_n, y_test_n = train_test_split(X_new, y_new,\n",
        "                                                           test_size = 0.2,\n",
        "                                                           random_state = 42)"
      ]
    },
    {
      "cell_type": "code",
      "execution_count": 92,
      "metadata": {
        "colab": {
          "base_uri": "https://localhost:8080/"
        },
        "id": "dG_GmxiFxCcD",
        "outputId": "65d46c94-471e-49b4-a6dc-6faf92c2da57"
      },
      "outputs": [
        {
          "output_type": "stream",
          "name": "stderr",
          "text": [
            "[flaml.automl: 04-02 06:19:22] {2105} INFO - task = classification\n",
            "[flaml.automl: 04-02 06:19:22] {2107} INFO - Data split method: stratified\n",
            "[flaml.automl: 04-02 06:19:22] {2111} INFO - Evaluation method: holdout\n",
            "[flaml.automl: 04-02 06:19:22] {2188} INFO - Minimizing error metric: 1-accuracy\n",
            "[flaml.automl: 04-02 06:19:22] {2281} INFO - List of ML learners in AutoML Run: ['lgbm', 'rf', 'catboost', 'xgboost', 'extra_tree', 'xgb_limitdepth', 'lrl1']\n",
            "[flaml.automl: 04-02 06:19:22] {2567} INFO - iteration 0, current learner lgbm\n",
            "[flaml.automl: 04-02 06:19:22] {2698} INFO - Estimated sufficient time budget=16219s. Estimated necessary time budget=398s.\n",
            "[flaml.automl: 04-02 06:19:22] {2750} INFO -  at 2.9s,\testimator lgbm's best error=0.0852,\tbest estimator lgbm's best error=0.0852\n",
            "[flaml.automl: 04-02 06:19:22] {2567} INFO - iteration 1, current learner lgbm\n",
            "[flaml.automl: 04-02 06:19:23] {2750} INFO -  at 2.9s,\testimator lgbm's best error=0.0852,\tbest estimator lgbm's best error=0.0852\n",
            "[flaml.automl: 04-02 06:19:23] {2567} INFO - iteration 2, current learner lgbm\n",
            "[flaml.automl: 04-02 06:19:23] {2750} INFO -  at 3.0s,\testimator lgbm's best error=0.0852,\tbest estimator lgbm's best error=0.0852\n",
            "[flaml.automl: 04-02 06:19:23] {2567} INFO - iteration 3, current learner xgboost\n",
            "[flaml.automl: 04-02 06:19:23] {2750} INFO -  at 3.1s,\testimator xgboost's best error=0.0852,\tbest estimator lgbm's best error=0.0852\n",
            "[flaml.automl: 04-02 06:19:23] {2567} INFO - iteration 4, current learner lgbm\n",
            "[flaml.automl: 04-02 06:19:23] {2750} INFO -  at 3.2s,\testimator lgbm's best error=0.0847,\tbest estimator lgbm's best error=0.0847\n",
            "[flaml.automl: 04-02 06:19:23] {2567} INFO - iteration 5, current learner lgbm\n",
            "[flaml.automl: 04-02 06:19:23] {2750} INFO -  at 3.3s,\testimator lgbm's best error=0.0840,\tbest estimator lgbm's best error=0.0840\n",
            "[flaml.automl: 04-02 06:19:23] {2567} INFO - iteration 6, current learner lgbm\n",
            "[flaml.automl: 04-02 06:19:23] {2750} INFO -  at 3.4s,\testimator lgbm's best error=0.0840,\tbest estimator lgbm's best error=0.0840\n",
            "[flaml.automl: 04-02 06:19:23] {2567} INFO - iteration 7, current learner lgbm\n",
            "[flaml.automl: 04-02 06:19:23] {2750} INFO -  at 3.5s,\testimator lgbm's best error=0.0840,\tbest estimator lgbm's best error=0.0840\n",
            "[flaml.automl: 04-02 06:19:23] {2567} INFO - iteration 8, current learner lgbm\n",
            "[flaml.automl: 04-02 06:19:23] {2750} INFO -  at 3.6s,\testimator lgbm's best error=0.0840,\tbest estimator lgbm's best error=0.0840\n",
            "[flaml.automl: 04-02 06:19:23] {2567} INFO - iteration 9, current learner xgboost\n",
            "[flaml.automl: 04-02 06:19:23] {2750} INFO -  at 3.7s,\testimator xgboost's best error=0.0852,\tbest estimator lgbm's best error=0.0840\n",
            "[flaml.automl: 04-02 06:19:23] {2567} INFO - iteration 10, current learner xgboost\n",
            "[flaml.automl: 04-02 06:19:23] {2750} INFO -  at 3.9s,\testimator xgboost's best error=0.0852,\tbest estimator lgbm's best error=0.0840\n",
            "[flaml.automl: 04-02 06:19:23] {2567} INFO - iteration 11, current learner extra_tree\n",
            "[flaml.automl: 04-02 06:19:24] {2750} INFO -  at 4.2s,\testimator extra_tree's best error=0.0852,\tbest estimator lgbm's best error=0.0840\n",
            "[flaml.automl: 04-02 06:19:24] {2567} INFO - iteration 12, current learner rf\n",
            "[flaml.automl: 04-02 06:19:24] {2750} INFO -  at 4.6s,\testimator rf's best error=0.0852,\tbest estimator lgbm's best error=0.0840\n",
            "[flaml.automl: 04-02 06:19:24] {2567} INFO - iteration 13, current learner xgboost\n",
            "[flaml.automl: 04-02 06:19:24] {2750} INFO -  at 4.7s,\testimator xgboost's best error=0.0852,\tbest estimator lgbm's best error=0.0840\n",
            "[flaml.automl: 04-02 06:19:24] {2567} INFO - iteration 14, current learner rf\n",
            "[flaml.automl: 04-02 06:19:25] {2750} INFO -  at 5.0s,\testimator rf's best error=0.0851,\tbest estimator lgbm's best error=0.0840\n",
            "[flaml.automl: 04-02 06:19:25] {2567} INFO - iteration 15, current learner xgboost\n",
            "[flaml.automl: 04-02 06:19:25] {2750} INFO -  at 5.1s,\testimator xgboost's best error=0.0852,\tbest estimator lgbm's best error=0.0840\n",
            "[flaml.automl: 04-02 06:19:25] {2567} INFO - iteration 16, current learner lgbm\n",
            "[flaml.automl: 04-02 06:19:25] {2750} INFO -  at 5.2s,\testimator lgbm's best error=0.0840,\tbest estimator lgbm's best error=0.0840\n",
            "[flaml.automl: 04-02 06:19:25] {2567} INFO - iteration 17, current learner extra_tree\n",
            "[flaml.automl: 04-02 06:19:25] {2750} INFO -  at 5.6s,\testimator extra_tree's best error=0.0852,\tbest estimator lgbm's best error=0.0840\n",
            "[flaml.automl: 04-02 06:19:25] {2567} INFO - iteration 18, current learner lgbm\n",
            "[flaml.automl: 04-02 06:19:25] {2750} INFO -  at 5.8s,\testimator lgbm's best error=0.0833,\tbest estimator lgbm's best error=0.0833\n",
            "[flaml.automl: 04-02 06:19:25] {2567} INFO - iteration 19, current learner extra_tree\n",
            "[flaml.automl: 04-02 06:19:26] {2750} INFO -  at 6.1s,\testimator extra_tree's best error=0.0852,\tbest estimator lgbm's best error=0.0833\n",
            "[flaml.automl: 04-02 06:19:26] {2567} INFO - iteration 20, current learner xgboost\n",
            "[flaml.automl: 04-02 06:19:26] {2750} INFO -  at 6.2s,\testimator xgboost's best error=0.0852,\tbest estimator lgbm's best error=0.0833\n",
            "[flaml.automl: 04-02 06:19:26] {2567} INFO - iteration 21, current learner xgboost\n",
            "[flaml.automl: 04-02 06:19:26] {2750} INFO -  at 6.5s,\testimator xgboost's best error=0.0852,\tbest estimator lgbm's best error=0.0833\n",
            "[flaml.automl: 04-02 06:19:26] {2567} INFO - iteration 22, current learner lgbm\n",
            "[flaml.automl: 04-02 06:19:26] {2750} INFO -  at 6.7s,\testimator lgbm's best error=0.0833,\tbest estimator lgbm's best error=0.0833\n",
            "[flaml.automl: 04-02 06:19:26] {2567} INFO - iteration 23, current learner lgbm\n",
            "[flaml.automl: 04-02 06:19:26] {2750} INFO -  at 6.9s,\testimator lgbm's best error=0.0833,\tbest estimator lgbm's best error=0.0833\n",
            "[flaml.automl: 04-02 06:19:26] {2567} INFO - iteration 24, current learner extra_tree\n",
            "[flaml.automl: 04-02 06:19:27] {2750} INFO -  at 7.3s,\testimator extra_tree's best error=0.0852,\tbest estimator lgbm's best error=0.0833\n",
            "[flaml.automl: 04-02 06:19:27] {2567} INFO - iteration 25, current learner extra_tree\n",
            "[flaml.automl: 04-02 06:19:27] {2750} INFO -  at 7.7s,\testimator extra_tree's best error=0.0852,\tbest estimator lgbm's best error=0.0833\n",
            "[flaml.automl: 04-02 06:19:27] {2567} INFO - iteration 26, current learner lgbm\n",
            "[flaml.automl: 04-02 06:19:28] {2750} INFO -  at 7.9s,\testimator lgbm's best error=0.0833,\tbest estimator lgbm's best error=0.0833\n",
            "[flaml.automl: 04-02 06:19:28] {2567} INFO - iteration 27, current learner xgboost\n",
            "[flaml.automl: 04-02 06:19:28] {2750} INFO -  at 8.3s,\testimator xgboost's best error=0.0852,\tbest estimator lgbm's best error=0.0833\n",
            "[flaml.automl: 04-02 06:19:28] {2567} INFO - iteration 28, current learner extra_tree\n",
            "[flaml.automl: 04-02 06:19:28] {2750} INFO -  at 8.7s,\testimator extra_tree's best error=0.0852,\tbest estimator lgbm's best error=0.0833\n",
            "[flaml.automl: 04-02 06:19:28] {2567} INFO - iteration 29, current learner extra_tree\n",
            "[flaml.automl: 04-02 06:19:29] {2750} INFO -  at 9.2s,\testimator extra_tree's best error=0.0852,\tbest estimator lgbm's best error=0.0833\n",
            "[flaml.automl: 04-02 06:19:29] {2567} INFO - iteration 30, current learner lgbm\n",
            "[flaml.automl: 04-02 06:19:29] {2750} INFO -  at 9.4s,\testimator lgbm's best error=0.0833,\tbest estimator lgbm's best error=0.0833\n",
            "[flaml.automl: 04-02 06:19:29] {2567} INFO - iteration 31, current learner lgbm\n",
            "[flaml.automl: 04-02 06:19:30] {2750} INFO -  at 10.2s,\testimator lgbm's best error=0.0833,\tbest estimator lgbm's best error=0.0833\n",
            "[flaml.automl: 04-02 06:19:30] {2567} INFO - iteration 32, current learner rf\n",
            "[flaml.automl: 04-02 06:19:30] {2750} INFO -  at 10.5s,\testimator rf's best error=0.0851,\tbest estimator lgbm's best error=0.0833\n",
            "[flaml.automl: 04-02 06:19:30] {2567} INFO - iteration 33, current learner extra_tree\n",
            "[flaml.automl: 04-02 06:19:31] {2750} INFO -  at 10.9s,\testimator extra_tree's best error=0.0852,\tbest estimator lgbm's best error=0.0833\n",
            "[flaml.automl: 04-02 06:19:31] {2567} INFO - iteration 34, current learner lgbm\n",
            "[flaml.automl: 04-02 06:19:31] {2750} INFO -  at 11.7s,\testimator lgbm's best error=0.0833,\tbest estimator lgbm's best error=0.0833\n",
            "[flaml.automl: 04-02 06:19:31] {2567} INFO - iteration 35, current learner xgboost\n",
            "[flaml.automl: 04-02 06:19:32] {2750} INFO -  at 11.9s,\testimator xgboost's best error=0.0852,\tbest estimator lgbm's best error=0.0833\n",
            "[flaml.automl: 04-02 06:19:32] {2567} INFO - iteration 36, current learner extra_tree\n",
            "[flaml.automl: 04-02 06:19:32] {2750} INFO -  at 12.4s,\testimator extra_tree's best error=0.0852,\tbest estimator lgbm's best error=0.0833\n",
            "[flaml.automl: 04-02 06:19:32] {2567} INFO - iteration 37, current learner xgboost\n",
            "[flaml.automl: 04-02 06:19:32] {2750} INFO -  at 12.6s,\testimator xgboost's best error=0.0852,\tbest estimator lgbm's best error=0.0833\n",
            "[flaml.automl: 04-02 06:19:32] {2567} INFO - iteration 38, current learner xgboost\n",
            "[flaml.automl: 04-02 06:19:33] {2750} INFO -  at 12.9s,\testimator xgboost's best error=0.0852,\tbest estimator lgbm's best error=0.0833\n",
            "[flaml.automl: 04-02 06:19:33] {2567} INFO - iteration 39, current learner xgboost\n",
            "[flaml.automl: 04-02 06:19:33] {2750} INFO -  at 13.1s,\testimator xgboost's best error=0.0852,\tbest estimator lgbm's best error=0.0833\n",
            "[flaml.automl: 04-02 06:19:33] {2567} INFO - iteration 40, current learner xgboost\n",
            "[flaml.automl: 04-02 06:19:34] {2750} INFO -  at 14.2s,\testimator xgboost's best error=0.0852,\tbest estimator lgbm's best error=0.0833\n",
            "[flaml.automl: 04-02 06:19:34] {2567} INFO - iteration 41, current learner catboost\n",
            "[flaml.automl: 04-02 06:19:35] {2750} INFO -  at 15.0s,\testimator catboost's best error=0.0847,\tbest estimator lgbm's best error=0.0833\n",
            "[flaml.automl: 04-02 06:19:35] {2567} INFO - iteration 42, current learner extra_tree\n",
            "[flaml.automl: 04-02 06:19:35] {2750} INFO -  at 15.4s,\testimator extra_tree's best error=0.0852,\tbest estimator lgbm's best error=0.0833\n",
            "[flaml.automl: 04-02 06:19:35] {2567} INFO - iteration 43, current learner lgbm\n",
            "[flaml.automl: 04-02 06:19:36] {2750} INFO -  at 16.2s,\testimator lgbm's best error=0.0833,\tbest estimator lgbm's best error=0.0833\n",
            "[flaml.automl: 04-02 06:19:36] {2567} INFO - iteration 44, current learner extra_tree\n",
            "[flaml.automl: 04-02 06:19:36] {2750} INFO -  at 16.7s,\testimator extra_tree's best error=0.0852,\tbest estimator lgbm's best error=0.0833\n",
            "[flaml.automl: 04-02 06:19:36] {2567} INFO - iteration 45, current learner extra_tree\n",
            "[flaml.automl: 04-02 06:19:37] {2750} INFO -  at 17.1s,\testimator extra_tree's best error=0.0847,\tbest estimator lgbm's best error=0.0833\n",
            "[flaml.automl: 04-02 06:19:37] {2567} INFO - iteration 46, current learner catboost\n",
            "[flaml.automl: 04-02 06:19:38] {2750} INFO -  at 18.0s,\testimator catboost's best error=0.0847,\tbest estimator lgbm's best error=0.0833\n",
            "[flaml.automl: 04-02 06:19:38] {2567} INFO - iteration 47, current learner catboost\n",
            "[flaml.automl: 04-02 06:19:38] {2750} INFO -  at 18.7s,\testimator catboost's best error=0.0847,\tbest estimator lgbm's best error=0.0833\n",
            "[flaml.automl: 04-02 06:19:38] {2567} INFO - iteration 48, current learner xgboost\n",
            "[flaml.automl: 04-02 06:19:40] {2750} INFO -  at 19.9s,\testimator xgboost's best error=0.0852,\tbest estimator lgbm's best error=0.0833\n",
            "[flaml.automl: 04-02 06:19:40] {2567} INFO - iteration 49, current learner lgbm\n",
            "[flaml.automl: 04-02 06:19:40] {2750} INFO -  at 20.7s,\testimator lgbm's best error=0.0833,\tbest estimator lgbm's best error=0.0833\n",
            "[flaml.automl: 04-02 06:19:40] {2567} INFO - iteration 50, current learner lgbm\n",
            "[flaml.automl: 04-02 06:19:41] {2750} INFO -  at 21.7s,\testimator lgbm's best error=0.0833,\tbest estimator lgbm's best error=0.0833\n",
            "[flaml.automl: 04-02 06:19:41] {2567} INFO - iteration 51, current learner xgboost\n",
            "[flaml.automl: 04-02 06:19:43] {2750} INFO -  at 23.6s,\testimator xgboost's best error=0.0852,\tbest estimator lgbm's best error=0.0833\n",
            "[flaml.automl: 04-02 06:19:43] {2567} INFO - iteration 52, current learner xgb_limitdepth\n",
            "[flaml.automl: 04-02 06:19:44] {2750} INFO -  at 23.9s,\testimator xgb_limitdepth's best error=0.0848,\tbest estimator lgbm's best error=0.0833\n",
            "[flaml.automl: 04-02 06:19:44] {2567} INFO - iteration 53, current learner xgb_limitdepth\n",
            "[flaml.automl: 04-02 06:19:44] {2750} INFO -  at 24.2s,\testimator xgb_limitdepth's best error=0.0848,\tbest estimator lgbm's best error=0.0833\n",
            "[flaml.automl: 04-02 06:19:44] {2567} INFO - iteration 54, current learner xgb_limitdepth\n",
            "[flaml.automl: 04-02 06:19:44] {2750} INFO -  at 24.6s,\testimator xgb_limitdepth's best error=0.0848,\tbest estimator lgbm's best error=0.0833\n",
            "[flaml.automl: 04-02 06:19:44] {2567} INFO - iteration 55, current learner xgboost\n",
            "[flaml.automl: 04-02 06:19:45] {2750} INFO -  at 25.7s,\testimator xgboost's best error=0.0852,\tbest estimator lgbm's best error=0.0833\n",
            "[flaml.automl: 04-02 06:19:45] {2567} INFO - iteration 56, current learner lgbm\n",
            "[flaml.automl: 04-02 06:19:46] {2750} INFO -  at 26.4s,\testimator lgbm's best error=0.0833,\tbest estimator lgbm's best error=0.0833\n",
            "[flaml.automl: 04-02 06:19:46] {2567} INFO - iteration 57, current learner xgb_limitdepth\n",
            "[flaml.automl: 04-02 06:19:46] {2750} INFO -  at 26.6s,\testimator xgb_limitdepth's best error=0.0848,\tbest estimator lgbm's best error=0.0833\n",
            "[flaml.automl: 04-02 06:19:46] {2567} INFO - iteration 58, current learner xgboost\n",
            "[flaml.automl: 04-02 06:19:48] {2750} INFO -  at 28.4s,\testimator xgboost's best error=0.0852,\tbest estimator lgbm's best error=0.0833\n",
            "[flaml.automl: 04-02 06:19:48] {2567} INFO - iteration 59, current learner xgb_limitdepth\n",
            "[flaml.automl: 04-02 06:19:48] {2750} INFO -  at 28.8s,\testimator xgb_limitdepth's best error=0.0848,\tbest estimator lgbm's best error=0.0833\n",
            "[flaml.automl: 04-02 06:19:48] {2567} INFO - iteration 60, current learner xgb_limitdepth\n",
            "[flaml.automl: 04-02 06:19:49] {2750} INFO -  at 28.9s,\testimator xgb_limitdepth's best error=0.0848,\tbest estimator lgbm's best error=0.0833\n",
            "[flaml.automl: 04-02 06:19:49] {2567} INFO - iteration 61, current learner lgbm\n",
            "[flaml.automl: 04-02 06:19:50] {2750} INFO -  at 30.3s,\testimator lgbm's best error=0.0833,\tbest estimator lgbm's best error=0.0833\n",
            "[flaml.automl: 04-02 06:19:50] {2567} INFO - iteration 62, current learner xgb_limitdepth\n",
            "[flaml.automl: 04-02 06:19:51] {2750} INFO -  at 31.3s,\testimator xgb_limitdepth's best error=0.0835,\tbest estimator lgbm's best error=0.0833\n",
            "[flaml.automl: 04-02 06:19:51] {2567} INFO - iteration 63, current learner lgbm\n",
            "[flaml.automl: 04-02 06:19:52] {2750} INFO -  at 32.3s,\testimator lgbm's best error=0.0833,\tbest estimator lgbm's best error=0.0833\n",
            "[flaml.automl: 04-02 06:19:52] {2567} INFO - iteration 64, current learner xgb_limitdepth\n",
            "[flaml.automl: 04-02 06:19:53] {2750} INFO -  at 33.4s,\testimator xgb_limitdepth's best error=0.0835,\tbest estimator lgbm's best error=0.0833\n",
            "[flaml.automl: 04-02 06:19:53] {2567} INFO - iteration 65, current learner xgb_limitdepth\n",
            "[flaml.automl: 04-02 06:19:54] {2750} INFO -  at 34.3s,\testimator xgb_limitdepth's best error=0.0835,\tbest estimator lgbm's best error=0.0833\n",
            "[flaml.automl: 04-02 06:19:54] {2567} INFO - iteration 66, current learner lgbm\n",
            "[flaml.automl: 04-02 06:19:55] {2750} INFO -  at 35.0s,\testimator lgbm's best error=0.0833,\tbest estimator lgbm's best error=0.0833\n",
            "[flaml.automl: 04-02 06:19:55] {2567} INFO - iteration 67, current learner extra_tree\n",
            "[flaml.automl: 04-02 06:19:55] {2750} INFO -  at 35.4s,\testimator extra_tree's best error=0.0847,\tbest estimator lgbm's best error=0.0833\n",
            "[flaml.automl: 04-02 06:19:55] {2567} INFO - iteration 68, current learner xgb_limitdepth\n",
            "[flaml.automl: 04-02 06:19:56] {2750} INFO -  at 36.8s,\testimator xgb_limitdepth's best error=0.0835,\tbest estimator lgbm's best error=0.0833\n",
            "[flaml.automl: 04-02 06:19:56] {2567} INFO - iteration 69, current learner xgboost\n",
            "[flaml.automl: 04-02 06:19:57] {2750} INFO -  at 37.8s,\testimator xgboost's best error=0.0852,\tbest estimator lgbm's best error=0.0833\n",
            "[flaml.automl: 04-02 06:19:57] {2567} INFO - iteration 70, current learner lgbm\n",
            "[flaml.automl: 04-02 06:19:58] {2750} INFO -  at 38.7s,\testimator lgbm's best error=0.0833,\tbest estimator lgbm's best error=0.0833\n",
            "[flaml.automl: 04-02 06:19:58] {2567} INFO - iteration 71, current learner xgb_limitdepth\n",
            "[flaml.automl: 04-02 06:19:59] {2750} INFO -  at 39.5s,\testimator xgb_limitdepth's best error=0.0835,\tbest estimator lgbm's best error=0.0833\n",
            "[flaml.automl: 04-02 06:19:59] {2567} INFO - iteration 72, current learner xgb_limitdepth\n",
            "[flaml.automl: 04-02 06:20:00] {2750} INFO -  at 40.2s,\testimator xgb_limitdepth's best error=0.0835,\tbest estimator lgbm's best error=0.0833\n",
            "[flaml.automl: 04-02 06:20:00] {2567} INFO - iteration 73, current learner extra_tree\n",
            "[flaml.automl: 04-02 06:20:00] {2750} INFO -  at 40.7s,\testimator extra_tree's best error=0.0847,\tbest estimator lgbm's best error=0.0833\n",
            "[flaml.automl: 04-02 06:20:00] {2567} INFO - iteration 74, current learner xgb_limitdepth\n",
            "[flaml.automl: 04-02 06:20:06] {2750} INFO -  at 46.4s,\testimator xgb_limitdepth's best error=0.0835,\tbest estimator lgbm's best error=0.0833\n",
            "[flaml.automl: 04-02 06:20:06] {2567} INFO - iteration 75, current learner xgboost\n",
            "[flaml.automl: 04-02 06:20:08] {2750} INFO -  at 48.6s,\testimator xgboost's best error=0.0852,\tbest estimator lgbm's best error=0.0833\n",
            "[flaml.automl: 04-02 06:20:08] {2567} INFO - iteration 76, current learner xgb_limitdepth\n",
            "[flaml.automl: 04-02 06:20:11] {2750} INFO -  at 51.4s,\testimator xgb_limitdepth's best error=0.0835,\tbest estimator lgbm's best error=0.0833\n",
            "[flaml.automl: 04-02 06:20:11] {2567} INFO - iteration 77, current learner lgbm\n",
            "[flaml.automl: 04-02 06:20:12] {2750} INFO -  at 52.2s,\testimator lgbm's best error=0.0833,\tbest estimator lgbm's best error=0.0833\n",
            "[flaml.automl: 04-02 06:20:12] {2567} INFO - iteration 78, current learner lgbm\n",
            "[flaml.automl: 04-02 06:20:13] {2750} INFO -  at 53.1s,\testimator lgbm's best error=0.0833,\tbest estimator lgbm's best error=0.0833\n",
            "[flaml.automl: 04-02 06:20:13] {2567} INFO - iteration 79, current learner lrl1\n",
            "[flaml.automl: 04-02 06:20:13] {2750} INFO -  at 53.5s,\testimator lrl1's best error=0.0853,\tbest estimator lgbm's best error=0.0833\n",
            "[flaml.automl: 04-02 06:20:13] {2567} INFO - iteration 80, current learner lrl1\n",
            "[flaml.automl: 04-02 06:20:14] {2750} INFO -  at 54.1s,\testimator lrl1's best error=0.0853,\tbest estimator lgbm's best error=0.0833\n",
            "[flaml.automl: 04-02 06:20:14] {2567} INFO - iteration 81, current learner lrl1\n",
            "[flaml.automl: 04-02 06:20:14] {2750} INFO -  at 54.6s,\testimator lrl1's best error=0.0853,\tbest estimator lgbm's best error=0.0833\n",
            "[flaml.automl: 04-02 06:20:14] {2567} INFO - iteration 82, current learner xgboost\n",
            "[flaml.automl: 04-02 06:20:15] {2750} INFO -  at 55.7s,\testimator xgboost's best error=0.0852,\tbest estimator lgbm's best error=0.0833\n",
            "[flaml.automl: 04-02 06:20:15] {2567} INFO - iteration 83, current learner lrl1\n",
            "[flaml.automl: 04-02 06:20:17] {2750} INFO -  at 57.6s,\testimator lrl1's best error=0.0850,\tbest estimator lgbm's best error=0.0833\n",
            "[flaml.automl: 04-02 06:20:17] {2567} INFO - iteration 84, current learner catboost\n",
            "[flaml.automl: 04-02 06:20:17] {2750} INFO -  at 57.8s,\testimator catboost's best error=0.0847,\tbest estimator lgbm's best error=0.0833\n",
            "[flaml.automl: 04-02 06:20:17] {2567} INFO - iteration 85, current learner xgb_limitdepth\n",
            "[flaml.automl: 04-02 06:20:19] {2750} INFO -  at 59.6s,\testimator xgb_limitdepth's best error=0.0835,\tbest estimator lgbm's best error=0.0833\n",
            "[flaml.automl: 04-02 06:20:19] {2567} INFO - iteration 86, current learner xgboost\n",
            "[flaml.automl: 04-02 06:20:20] {2750} INFO -  at 60.1s,\testimator xgboost's best error=0.0852,\tbest estimator lgbm's best error=0.0833\n",
            "[flaml.automl: 04-02 06:20:21] {2976} INFO - retrain lgbm for 0.8s\n",
            "[flaml.automl: 04-02 06:20:21] {2981} INFO - retrained model: LGBMClassifier(colsample_bytree=0.8304072431299575,\n",
            "               learning_rate=0.2835381908967212, max_bin=511,\n",
            "               min_child_samples=9, n_estimators=14, num_leaves=5,\n",
            "               reg_alpha=0.0014132988481787994, reg_lambda=0.033183495034912504,\n",
            "               verbose=-1)\n",
            "[flaml.automl: 04-02 06:20:21] {2310} INFO - fit succeeded\n",
            "[flaml.automl: 04-02 06:20:21] {2312} INFO - Time taken to find the best model: 5.760333061218262\n"
          ]
        }
      ],
      "source": [
        "from flaml import AutoML\n",
        "automl = AutoML()\n",
        "automl.fit(X_train_n, y_train_n, task=\"classification\", metric = \"accuracy\");"
      ]
    },
    {
      "cell_type": "code",
      "execution_count": 93,
      "metadata": {
        "id": "j0M5-1JsxCcD"
      },
      "outputs": [],
      "source": [
        "y_test_pred_FLAML = automl.predict(X_test_n)\n",
        "y_train_pred_FLAML = automl.predict(X_train_n)"
      ]
    },
    {
      "cell_type": "code",
      "source": [
        "print(automl.model.estimator)"
      ],
      "metadata": {
        "colab": {
          "base_uri": "https://localhost:8080/"
        },
        "id": "lOLsqDYw0yx7",
        "outputId": "4e8c74b8-4be4-48f8-c23f-ec31348ea5be"
      },
      "execution_count": 94,
      "outputs": [
        {
          "output_type": "stream",
          "name": "stdout",
          "text": [
            "LGBMClassifier(colsample_bytree=0.8304072431299575,\n",
            "               learning_rate=0.2835381908967212, max_bin=511,\n",
            "               min_child_samples=9, n_estimators=14, num_leaves=5,\n",
            "               reg_alpha=0.0014132988481787994, reg_lambda=0.033183495034912504,\n",
            "               verbose=-1)\n"
          ]
        }
      ]
    },
    {
      "cell_type": "code",
      "source": [
        "df_y_test_pred_FLAML = pd.DataFrame(y_test_pred_FLAML)\n",
        "df_y_train_pred_FLAML = pd.DataFrame(y_train_pred_FLAML)"
      ],
      "metadata": {
        "id": "O7YewtKn2pLR"
      },
      "execution_count": 95,
      "outputs": []
    },
    {
      "cell_type": "code",
      "source": [
        "yes_no = {\"Yes\": 1, \"No\": 0}\n",
        "y_train_pred_array = df_y_train_pred_FLAML[0].map(yes_no).to_numpy()\n",
        "y_test_pred_array = df_y_test_pred_FLAML[0].map(yes_no).to_numpy()"
      ],
      "metadata": {
        "id": "LqM9JQXF27Yg"
      },
      "execution_count": 96,
      "outputs": []
    },
    {
      "cell_type": "code",
      "source": [
        "yes_no = {\"Yes\": 1, \"No\": 0}\n",
        "y_test_array = y_test_n.map(yes_no).to_numpy()\n",
        "y_train_array = y_train_n.map(yes_no).to_numpy()"
      ],
      "metadata": {
        "id": "jf8cRyJ03zCj"
      },
      "execution_count": 97,
      "outputs": []
    },
    {
      "cell_type": "code",
      "source": [
        "### ROC and AUC\n",
        "# ROC\n",
        "train_fpr_FLAML, train_tpr_FLAML, train_thresh_FLAML = roc_curve(y_train_array, y_train_pred_array)\n",
        "test_fpr_FLAML , test_tpr_FLAML , test_thresh_FLAML = roc_curve(y_test_array, y_test_pred_array)\n",
        "# AUC\n",
        "train_auc_FLAML = auc(train_fpr_FLAML, train_tpr_FLAML)\n",
        "test_auc_FLAML = auc(test_fpr_FLAML, test_tpr_FLAML)\n",
        "\n",
        "\n",
        "print('Training AUC: {:.4}'.format(train_auc_FLAML))\n",
        "print('Validation AUC: {:.4}'.format(test_auc_FLAML))\n",
        "print(\"Test precision_score: {:.4}\".format(precision_score(y_test_array, y_test_pred_array)))\n",
        "print(\"Test recall_score: {:.4}\".format(recall_score(y_test_array, y_test_pred_array)))\n",
        "print(\"f1_score: {:.4}\".format(f1_score(y_test_array, y_test_pred_array)))"
      ],
      "metadata": {
        "colab": {
          "base_uri": "https://localhost:8080/"
        },
        "id": "johR9_Lx4Fd_",
        "outputId": "c2bc2fa4-f44e-40e8-9129-f1da45fb79a8"
      },
      "execution_count": 98,
      "outputs": [
        {
          "output_type": "stream",
          "name": "stdout",
          "text": [
            "Training AUC: 0.5252\n",
            "Validation AUC: 0.5242\n",
            "Test precision_score: 0.5785\n",
            "Test recall_score: 0.05204\n",
            "f1_score: 0.09549\n"
          ]
        }
      ]
    },
    {
      "cell_type": "code",
      "source": [
        ""
      ],
      "metadata": {
        "id": "DdC-Ph1g5531"
      },
      "execution_count": null,
      "outputs": []
    }
  ],
  "metadata": {
    "kernelspec": {
      "display_name": "Python 3",
      "language": "python",
      "name": "python3"
    },
    "language_info": {
      "codemirror_mode": {
        "name": "ipython",
        "version": 3
      },
      "file_extension": ".py",
      "mimetype": "text/x-python",
      "name": "python",
      "nbconvert_exporter": "python",
      "pygments_lexer": "ipython3",
      "version": "3.8.5"
    },
    "latex_envs": {
      "LaTeX_envs_menu_present": true,
      "autoclose": false,
      "autocomplete": true,
      "bibliofile": "biblio.bib",
      "cite_by": "apalike",
      "current_citInitial": 1,
      "eqLabelWithNumbers": true,
      "eqNumInitial": 1,
      "hotkeys": {
        "equation": "Ctrl-E",
        "itemize": "Ctrl-I"
      },
      "labels_anchors": false,
      "latex_user_defs": false,
      "report_style_numbering": false,
      "user_envs_cfg": false
    },
    "toc": {
      "base_numbering": 1,
      "nav_menu": {},
      "number_sections": true,
      "sideBar": true,
      "skip_h1_title": false,
      "title_cell": "Table of Contents",
      "title_sidebar": "Contents",
      "toc_cell": false,
      "toc_position": {},
      "toc_section_display": true,
      "toc_window_display": false
    },
    "varInspector": {
      "cols": {
        "lenName": 16,
        "lenType": 16,
        "lenVar": 40
      },
      "kernels_config": {
        "python": {
          "delete_cmd_postfix": "",
          "delete_cmd_prefix": "del ",
          "library": "var_list.py",
          "varRefreshCmd": "print(var_dic_list())"
        },
        "r": {
          "delete_cmd_postfix": ") ",
          "delete_cmd_prefix": "rm(",
          "library": "var_list.r",
          "varRefreshCmd": "cat(var_dic_list()) "
        }
      },
      "types_to_exclude": [
        "module",
        "function",
        "builtin_function_or_method",
        "instance",
        "_Feature"
      ],
      "window_display": false
    },
    "colab": {
      "name": "index.ipynb",
      "provenance": [],
      "include_colab_link": true
    }
  },
  "nbformat": 4,
  "nbformat_minor": 0
}