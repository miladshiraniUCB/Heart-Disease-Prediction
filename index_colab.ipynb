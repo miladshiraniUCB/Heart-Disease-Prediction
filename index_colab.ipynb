{
  "cells": [
    {
      "cell_type": "markdown",
      "metadata": {
        "id": "view-in-github",
        "colab_type": "text"
      },
      "source": [
        "<a href=\"https://colab.research.google.com/github/miladshiraniUCB/dsc-phase-3-project-from-kaggle/blob/main/index_colab.ipynb\" target=\"_parent\"><img src=\"https://colab.research.google.com/assets/colab-badge.svg\" alt=\"Open In Colab\"/></a>"
      ]
    },
    {
      "cell_type": "markdown",
      "metadata": {
        "id": "3qN_e3SJxCb0"
      },
      "source": [
        "# To Do:\n",
        "\n",
        "* add Confusion matrix\n",
        "* add classification report\n",
        "* do not use accuracy"
      ]
    },
    {
      "cell_type": "markdown",
      "metadata": {
        "id": "mXA2jgHVxCb2"
      },
      "source": [
        "# Introduction\n",
        "\n",
        "In this project by using the available data from [kaggle.com](https://www.kaggle.com/datasets/kamilpytlak/personal-key-indicators-of-heart-disease) we try to create a model to predict if a person will have heart disease in future or not. "
      ]
    },
    {
      "cell_type": "markdown",
      "metadata": {
        "id": "BPdAQlwLxCb2"
      },
      "source": [
        "# Importing Data and Libraries we use "
      ]
    },
    {
      "cell_type": "code",
      "source": [
        "! git clone https://github.com/miladshiraniUCB/dsc-phase-3-project-from-kaggle.git"
      ],
      "metadata": {
        "colab": {
          "base_uri": "https://localhost:8080/"
        },
        "id": "hGkZh7Mmyg6S",
        "outputId": "5f5c622c-823e-47b4-c558-9b2481a8a5ad"
      },
      "execution_count": null,
      "outputs": [
        {
          "output_type": "stream",
          "name": "stdout",
          "text": [
            "Cloning into 'dsc-phase-3-project-from-kaggle'...\n",
            "remote: Enumerating objects: 26, done.\u001b[K\n",
            "remote: Counting objects: 100% (26/26), done.\u001b[K\n",
            "remote: Compressing objects: 100% (22/22), done.\u001b[K\n",
            "remote: Total 26 (delta 7), reused 17 (delta 2), pack-reused 0\u001b[K\n",
            "Unpacking objects: 100% (26/26), done.\n"
          ]
        }
      ]
    },
    {
      "cell_type": "code",
      "execution_count": null,
      "metadata": {
        "execution": {
          "iopub.execute_input": "2022-04-01T05:32:51.626414Z",
          "iopub.status.busy": "2022-04-01T05:32:51.626113Z",
          "iopub.status.idle": "2022-04-01T05:32:51.632084Z",
          "shell.execute_reply": "2022-04-01T05:32:51.631552Z",
          "shell.execute_reply.started": "2022-04-01T05:32:51.626381Z"
        },
        "id": "scSyNhc6xCb2"
      },
      "outputs": [],
      "source": [
        "import numpy as np\n",
        "import pandas as pd\n",
        "import io\n",
        "\n",
        "from sklearn.metrics import confusion_matrix, roc_curve, auc, plot_roc_curve\n",
        "from sklearn.metrics import f1_score, precision_score, recall_score\n",
        "from sklearn.metrics import classification_report\n",
        "\n",
        "from sklearn.model_selection import GridSearchCV, train_test_split\n",
        "\n",
        "from sklearn.preprocessing import OneHotEncoder, StandardScaler\n",
        "from sklearn.ensemble import RandomForestClassifier\n",
        "\n",
        "\n",
        "from imblearn.over_sampling import SMOTE, ADASYN\n",
        "\n",
        "\n",
        "# from xgboost import XGBClassifier\n",
        "import xgboost as xgb\n",
        "\n",
        "import matplotlib.pyplot as plt\n",
        "import seaborn as sns\n",
        "\n",
        "import warnings\n",
        "warnings.filterwarnings('ignore')\n"
      ]
    },
    {
      "cell_type": "code",
      "execution_count": null,
      "metadata": {
        "execution": {
          "iopub.execute_input": "2022-04-01T05:32:53.496694Z",
          "iopub.status.busy": "2022-04-01T05:32:53.496050Z",
          "iopub.status.idle": "2022-04-01T05:32:54.189301Z",
          "shell.execute_reply": "2022-04-01T05:32:54.188610Z",
          "shell.execute_reply.started": "2022-04-01T05:32:53.496661Z"
        },
        "colab": {
          "base_uri": "https://localhost:8080/",
          "height": 270
        },
        "id": "UyULUIN0xCb3",
        "outputId": "f4f0c1c6-dfdf-4e09-d6af-aea2a41aa42e"
      },
      "outputs": [
        {
          "output_type": "execute_result",
          "data": {
            "text/plain": [
              "  HeartDisease    BMI Smoking AlcoholDrinking Stroke  PhysicalHealth  \\\n",
              "0           No  16.60     Yes              No     No             3.0   \n",
              "1           No  20.34      No              No    Yes             0.0   \n",
              "2           No  26.58     Yes              No     No            20.0   \n",
              "3           No  24.21      No              No     No             0.0   \n",
              "4           No  23.71      No              No     No            28.0   \n",
              "\n",
              "   MentalHealth DiffWalking     Sex  AgeCategory   Race Diabetic  \\\n",
              "0          30.0          No  Female        55-59  White      Yes   \n",
              "1           0.0          No  Female  80 or older  White       No   \n",
              "2          30.0          No    Male        65-69  White      Yes   \n",
              "3           0.0          No  Female        75-79  White       No   \n",
              "4           0.0         Yes  Female        40-44  White       No   \n",
              "\n",
              "  PhysicalActivity  GenHealth  SleepTime Asthma KidneyDisease SkinCancer  \n",
              "0              Yes  Very good        5.0    Yes            No        Yes  \n",
              "1              Yes  Very good        7.0     No            No         No  \n",
              "2              Yes       Fair        8.0    Yes            No         No  \n",
              "3               No       Good        6.0     No            No        Yes  \n",
              "4              Yes  Very good        8.0     No            No         No  "
            ],
            "text/html": [
              "\n",
              "  <div id=\"df-920a99bf-6d29-4d37-bd56-ac50960525ee\">\n",
              "    <div class=\"colab-df-container\">\n",
              "      <div>\n",
              "<style scoped>\n",
              "    .dataframe tbody tr th:only-of-type {\n",
              "        vertical-align: middle;\n",
              "    }\n",
              "\n",
              "    .dataframe tbody tr th {\n",
              "        vertical-align: top;\n",
              "    }\n",
              "\n",
              "    .dataframe thead th {\n",
              "        text-align: right;\n",
              "    }\n",
              "</style>\n",
              "<table border=\"1\" class=\"dataframe\">\n",
              "  <thead>\n",
              "    <tr style=\"text-align: right;\">\n",
              "      <th></th>\n",
              "      <th>HeartDisease</th>\n",
              "      <th>BMI</th>\n",
              "      <th>Smoking</th>\n",
              "      <th>AlcoholDrinking</th>\n",
              "      <th>Stroke</th>\n",
              "      <th>PhysicalHealth</th>\n",
              "      <th>MentalHealth</th>\n",
              "      <th>DiffWalking</th>\n",
              "      <th>Sex</th>\n",
              "      <th>AgeCategory</th>\n",
              "      <th>Race</th>\n",
              "      <th>Diabetic</th>\n",
              "      <th>PhysicalActivity</th>\n",
              "      <th>GenHealth</th>\n",
              "      <th>SleepTime</th>\n",
              "      <th>Asthma</th>\n",
              "      <th>KidneyDisease</th>\n",
              "      <th>SkinCancer</th>\n",
              "    </tr>\n",
              "  </thead>\n",
              "  <tbody>\n",
              "    <tr>\n",
              "      <th>0</th>\n",
              "      <td>No</td>\n",
              "      <td>16.60</td>\n",
              "      <td>Yes</td>\n",
              "      <td>No</td>\n",
              "      <td>No</td>\n",
              "      <td>3.0</td>\n",
              "      <td>30.0</td>\n",
              "      <td>No</td>\n",
              "      <td>Female</td>\n",
              "      <td>55-59</td>\n",
              "      <td>White</td>\n",
              "      <td>Yes</td>\n",
              "      <td>Yes</td>\n",
              "      <td>Very good</td>\n",
              "      <td>5.0</td>\n",
              "      <td>Yes</td>\n",
              "      <td>No</td>\n",
              "      <td>Yes</td>\n",
              "    </tr>\n",
              "    <tr>\n",
              "      <th>1</th>\n",
              "      <td>No</td>\n",
              "      <td>20.34</td>\n",
              "      <td>No</td>\n",
              "      <td>No</td>\n",
              "      <td>Yes</td>\n",
              "      <td>0.0</td>\n",
              "      <td>0.0</td>\n",
              "      <td>No</td>\n",
              "      <td>Female</td>\n",
              "      <td>80 or older</td>\n",
              "      <td>White</td>\n",
              "      <td>No</td>\n",
              "      <td>Yes</td>\n",
              "      <td>Very good</td>\n",
              "      <td>7.0</td>\n",
              "      <td>No</td>\n",
              "      <td>No</td>\n",
              "      <td>No</td>\n",
              "    </tr>\n",
              "    <tr>\n",
              "      <th>2</th>\n",
              "      <td>No</td>\n",
              "      <td>26.58</td>\n",
              "      <td>Yes</td>\n",
              "      <td>No</td>\n",
              "      <td>No</td>\n",
              "      <td>20.0</td>\n",
              "      <td>30.0</td>\n",
              "      <td>No</td>\n",
              "      <td>Male</td>\n",
              "      <td>65-69</td>\n",
              "      <td>White</td>\n",
              "      <td>Yes</td>\n",
              "      <td>Yes</td>\n",
              "      <td>Fair</td>\n",
              "      <td>8.0</td>\n",
              "      <td>Yes</td>\n",
              "      <td>No</td>\n",
              "      <td>No</td>\n",
              "    </tr>\n",
              "    <tr>\n",
              "      <th>3</th>\n",
              "      <td>No</td>\n",
              "      <td>24.21</td>\n",
              "      <td>No</td>\n",
              "      <td>No</td>\n",
              "      <td>No</td>\n",
              "      <td>0.0</td>\n",
              "      <td>0.0</td>\n",
              "      <td>No</td>\n",
              "      <td>Female</td>\n",
              "      <td>75-79</td>\n",
              "      <td>White</td>\n",
              "      <td>No</td>\n",
              "      <td>No</td>\n",
              "      <td>Good</td>\n",
              "      <td>6.0</td>\n",
              "      <td>No</td>\n",
              "      <td>No</td>\n",
              "      <td>Yes</td>\n",
              "    </tr>\n",
              "    <tr>\n",
              "      <th>4</th>\n",
              "      <td>No</td>\n",
              "      <td>23.71</td>\n",
              "      <td>No</td>\n",
              "      <td>No</td>\n",
              "      <td>No</td>\n",
              "      <td>28.0</td>\n",
              "      <td>0.0</td>\n",
              "      <td>Yes</td>\n",
              "      <td>Female</td>\n",
              "      <td>40-44</td>\n",
              "      <td>White</td>\n",
              "      <td>No</td>\n",
              "      <td>Yes</td>\n",
              "      <td>Very good</td>\n",
              "      <td>8.0</td>\n",
              "      <td>No</td>\n",
              "      <td>No</td>\n",
              "      <td>No</td>\n",
              "    </tr>\n",
              "  </tbody>\n",
              "</table>\n",
              "</div>\n",
              "      <button class=\"colab-df-convert\" onclick=\"convertToInteractive('df-920a99bf-6d29-4d37-bd56-ac50960525ee')\"\n",
              "              title=\"Convert this dataframe to an interactive table.\"\n",
              "              style=\"display:none;\">\n",
              "        \n",
              "  <svg xmlns=\"http://www.w3.org/2000/svg\" height=\"24px\"viewBox=\"0 0 24 24\"\n",
              "       width=\"24px\">\n",
              "    <path d=\"M0 0h24v24H0V0z\" fill=\"none\"/>\n",
              "    <path d=\"M18.56 5.44l.94 2.06.94-2.06 2.06-.94-2.06-.94-.94-2.06-.94 2.06-2.06.94zm-11 1L8.5 8.5l.94-2.06 2.06-.94-2.06-.94L8.5 2.5l-.94 2.06-2.06.94zm10 10l.94 2.06.94-2.06 2.06-.94-2.06-.94-.94-2.06-.94 2.06-2.06.94z\"/><path d=\"M17.41 7.96l-1.37-1.37c-.4-.4-.92-.59-1.43-.59-.52 0-1.04.2-1.43.59L10.3 9.45l-7.72 7.72c-.78.78-.78 2.05 0 2.83L4 21.41c.39.39.9.59 1.41.59.51 0 1.02-.2 1.41-.59l7.78-7.78 2.81-2.81c.8-.78.8-2.07 0-2.86zM5.41 20L4 18.59l7.72-7.72 1.47 1.35L5.41 20z\"/>\n",
              "  </svg>\n",
              "      </button>\n",
              "      \n",
              "  <style>\n",
              "    .colab-df-container {\n",
              "      display:flex;\n",
              "      flex-wrap:wrap;\n",
              "      gap: 12px;\n",
              "    }\n",
              "\n",
              "    .colab-df-convert {\n",
              "      background-color: #E8F0FE;\n",
              "      border: none;\n",
              "      border-radius: 50%;\n",
              "      cursor: pointer;\n",
              "      display: none;\n",
              "      fill: #1967D2;\n",
              "      height: 32px;\n",
              "      padding: 0 0 0 0;\n",
              "      width: 32px;\n",
              "    }\n",
              "\n",
              "    .colab-df-convert:hover {\n",
              "      background-color: #E2EBFA;\n",
              "      box-shadow: 0px 1px 2px rgba(60, 64, 67, 0.3), 0px 1px 3px 1px rgba(60, 64, 67, 0.15);\n",
              "      fill: #174EA6;\n",
              "    }\n",
              "\n",
              "    [theme=dark] .colab-df-convert {\n",
              "      background-color: #3B4455;\n",
              "      fill: #D2E3FC;\n",
              "    }\n",
              "\n",
              "    [theme=dark] .colab-df-convert:hover {\n",
              "      background-color: #434B5C;\n",
              "      box-shadow: 0px 1px 3px 1px rgba(0, 0, 0, 0.15);\n",
              "      filter: drop-shadow(0px 1px 2px rgba(0, 0, 0, 0.3));\n",
              "      fill: #FFFFFF;\n",
              "    }\n",
              "  </style>\n",
              "\n",
              "      <script>\n",
              "        const buttonEl =\n",
              "          document.querySelector('#df-920a99bf-6d29-4d37-bd56-ac50960525ee button.colab-df-convert');\n",
              "        buttonEl.style.display =\n",
              "          google.colab.kernel.accessAllowed ? 'block' : 'none';\n",
              "\n",
              "        async function convertToInteractive(key) {\n",
              "          const element = document.querySelector('#df-920a99bf-6d29-4d37-bd56-ac50960525ee');\n",
              "          const dataTable =\n",
              "            await google.colab.kernel.invokeFunction('convertToInteractive',\n",
              "                                                     [key], {});\n",
              "          if (!dataTable) return;\n",
              "\n",
              "          const docLinkHtml = 'Like what you see? Visit the ' +\n",
              "            '<a target=\"_blank\" href=https://colab.research.google.com/notebooks/data_table.ipynb>data table notebook</a>'\n",
              "            + ' to learn more about interactive tables.';\n",
              "          element.innerHTML = '';\n",
              "          dataTable['output_type'] = 'display_data';\n",
              "          await google.colab.output.renderOutput(dataTable, element);\n",
              "          const docLink = document.createElement('div');\n",
              "          docLink.innerHTML = docLinkHtml;\n",
              "          element.appendChild(docLink);\n",
              "        }\n",
              "      </script>\n",
              "    </div>\n",
              "  </div>\n",
              "  "
            ]
          },
          "metadata": {},
          "execution_count": 9
        }
      ],
      "source": [
        "df = pd.read_csv(\"/content/dsc-phase-3-project-from-kaggle/heart_2020_cleaned.csv\")\n",
        "df.head()\n"
      ]
    },
    {
      "cell_type": "code",
      "execution_count": null,
      "metadata": {
        "execution": {
          "iopub.execute_input": "2022-04-01T05:32:55.285207Z",
          "iopub.status.busy": "2022-04-01T05:32:55.284942Z",
          "iopub.status.idle": "2022-04-01T05:32:55.769669Z",
          "shell.execute_reply": "2022-04-01T05:32:55.768806Z",
          "shell.execute_reply.started": "2022-04-01T05:32:55.285179Z"
        },
        "colab": {
          "base_uri": "https://localhost:8080/"
        },
        "id": "55xHEA5exCb4",
        "outputId": "01f90b3b-e358-44f2-f938-5b623e58cb24"
      },
      "outputs": [
        {
          "output_type": "stream",
          "name": "stdout",
          "text": [
            "<class 'pandas.core.frame.DataFrame'>\n",
            "RangeIndex: 319795 entries, 0 to 319794\n",
            "Data columns (total 18 columns):\n",
            " #   Column            Non-Null Count   Dtype  \n",
            "---  ------            --------------   -----  \n",
            " 0   HeartDisease      319795 non-null  object \n",
            " 1   BMI               319795 non-null  float64\n",
            " 2   Smoking           319795 non-null  object \n",
            " 3   AlcoholDrinking   319795 non-null  object \n",
            " 4   Stroke            319795 non-null  object \n",
            " 5   PhysicalHealth    319795 non-null  float64\n",
            " 6   MentalHealth      319795 non-null  float64\n",
            " 7   DiffWalking       319795 non-null  object \n",
            " 8   Sex               319795 non-null  object \n",
            " 9   AgeCategory       319795 non-null  object \n",
            " 10  Race              319795 non-null  object \n",
            " 11  Diabetic          319795 non-null  object \n",
            " 12  PhysicalActivity  319795 non-null  object \n",
            " 13  GenHealth         319795 non-null  object \n",
            " 14  SleepTime         319795 non-null  float64\n",
            " 15  Asthma            319795 non-null  object \n",
            " 16  KidneyDisease     319795 non-null  object \n",
            " 17  SkinCancer        319795 non-null  object \n",
            "dtypes: float64(4), object(14)\n",
            "memory usage: 43.9+ MB\n"
          ]
        }
      ],
      "source": [
        "df.info()"
      ]
    },
    {
      "cell_type": "code",
      "execution_count": null,
      "metadata": {
        "execution": {
          "iopub.execute_input": "2022-04-01T05:32:56.409780Z",
          "iopub.status.busy": "2022-04-01T05:32:56.409157Z",
          "iopub.status.idle": "2022-04-01T05:32:56.889192Z",
          "shell.execute_reply": "2022-04-01T05:32:56.888171Z",
          "shell.execute_reply.started": "2022-04-01T05:32:56.409737Z"
        },
        "colab": {
          "base_uri": "https://localhost:8080/"
        },
        "id": "K96myx9ZxCb5",
        "outputId": "9146867a-128c-43b7-e9a1-125a79073fa0"
      },
      "outputs": [
        {
          "output_type": "execute_result",
          "data": {
            "text/plain": [
              "HeartDisease        0\n",
              "BMI                 0\n",
              "Smoking             0\n",
              "AlcoholDrinking     0\n",
              "Stroke              0\n",
              "PhysicalHealth      0\n",
              "MentalHealth        0\n",
              "DiffWalking         0\n",
              "Sex                 0\n",
              "AgeCategory         0\n",
              "Race                0\n",
              "Diabetic            0\n",
              "PhysicalActivity    0\n",
              "GenHealth           0\n",
              "SleepTime           0\n",
              "Asthma              0\n",
              "KidneyDisease       0\n",
              "SkinCancer          0\n",
              "dtype: int64"
            ]
          },
          "metadata": {},
          "execution_count": 11
        }
      ],
      "source": [
        "df.isna().sum()"
      ]
    },
    {
      "cell_type": "code",
      "execution_count": null,
      "metadata": {
        "execution": {
          "iopub.execute_input": "2022-04-01T05:32:58.234348Z",
          "iopub.status.busy": "2022-04-01T05:32:58.234035Z",
          "iopub.status.idle": "2022-04-01T05:32:59.031011Z",
          "shell.execute_reply": "2022-04-01T05:32:59.030188Z",
          "shell.execute_reply.started": "2022-04-01T05:32:58.234316Z"
        },
        "colab": {
          "base_uri": "https://localhost:8080/",
          "height": 442
        },
        "id": "leFky5RWxCb6",
        "outputId": "04109974-b280-4e11-9edd-457457e273d3"
      },
      "outputs": [
        {
          "output_type": "display_data",
          "data": {
            "text/plain": [
              "<Figure size 504x504 with 1 Axes>"
            ],
            "image/png": "[encoded data removed]"
          },
          "metadata": {
            "needs_background": "light"
          }
        }
      ],
      "source": [
        "plt.figure(figsize=(7,7))\n",
        "sns.countplot(data=df,x=\"HeartDisease\",hue=\"Asthma\");"
      ]
    },
    {
      "cell_type": "code",
      "execution_count": null,
      "metadata": {
        "execution": {
          "iopub.execute_input": "2022-04-01T05:32:59.640189Z",
          "iopub.status.busy": "2022-04-01T05:32:59.639577Z",
          "iopub.status.idle": "2022-04-01T05:33:00.438538Z",
          "shell.execute_reply": "2022-04-01T05:33:00.437700Z",
          "shell.execute_reply.started": "2022-04-01T05:32:59.640137Z"
        },
        "colab": {
          "base_uri": "https://localhost:8080/",
          "height": 442
        },
        "id": "Atj_B61VxCb7",
        "outputId": "3679176d-1b81-4b4e-d575-5734eee39fb8"
      },
      "outputs": [
        {
          "output_type": "display_data",
          "data": {
            "text/plain": [
              "<Figure size 504x504 with 1 Axes>"
            ],
            "image/png": "[encoded data removed]"
          },
          "metadata": {
            "needs_background": "light"
          }
        }
      ],
      "source": [
        "plt.figure(figsize=(7,7))\n",
        "sns.countplot(data=df,x=\"HeartDisease\",hue=\"KidneyDisease\");"
      ]
    },
    {
      "cell_type": "code",
      "execution_count": null,
      "metadata": {
        "execution": {
          "iopub.execute_input": "2022-04-01T05:33:00.879319Z",
          "iopub.status.busy": "2022-04-01T05:33:00.878704Z",
          "iopub.status.idle": "2022-04-01T05:33:01.666230Z",
          "shell.execute_reply": "2022-04-01T05:33:01.665423Z",
          "shell.execute_reply.started": "2022-04-01T05:33:00.879281Z"
        },
        "colab": {
          "base_uri": "https://localhost:8080/",
          "height": 442
        },
        "id": "WqvGL8dXxCb7",
        "outputId": "adc88ee3-f65e-43cf-da44-41acdb9c85fd"
      },
      "outputs": [
        {
          "output_type": "display_data",
          "data": {
            "text/plain": [
              "<Figure size 504x504 with 1 Axes>"
            ],
            "image/png": "[encoded data removed]"
          },
          "metadata": {
            "needs_background": "light"
          }
        }
      ],
      "source": [
        "plt.figure(figsize=(7,7))\n",
        "sns.countplot(data=df,x=\"HeartDisease\",hue=\"Stroke\");"
      ]
    },
    {
      "cell_type": "code",
      "execution_count": null,
      "metadata": {
        "execution": {
          "iopub.execute_input": "2022-04-01T05:33:03.458599Z",
          "iopub.status.busy": "2022-04-01T05:33:03.457802Z",
          "iopub.status.idle": "2022-04-01T05:33:04.252030Z",
          "shell.execute_reply": "2022-04-01T05:33:04.251224Z",
          "shell.execute_reply.started": "2022-04-01T05:33:03.458543Z"
        },
        "colab": {
          "base_uri": "https://localhost:8080/",
          "height": 442
        },
        "id": "NIAqzJOXxCb7",
        "outputId": "26d14be3-109d-4d6f-91f2-dd8e67748ee7"
      },
      "outputs": [
        {
          "output_type": "display_data",
          "data": {
            "text/plain": [
              "<Figure size 504x504 with 1 Axes>"
            ],
            "image/png": "[encoded data removed]"
          },
          "metadata": {
            "needs_background": "light"
          }
        }
      ],
      "source": [
        "plt.figure(figsize=(7,7))\n",
        "sns.countplot(data=df,x=\"HeartDisease\",hue=\"SkinCancer\");"
      ]
    },
    {
      "cell_type": "code",
      "execution_count": null,
      "metadata": {
        "execution": {
          "iopub.execute_input": "2022-04-01T05:33:12.876862Z",
          "iopub.status.busy": "2022-04-01T05:33:12.876571Z",
          "iopub.status.idle": "2022-04-01T05:33:13.672047Z",
          "shell.execute_reply": "2022-04-01T05:33:13.671271Z",
          "shell.execute_reply.started": "2022-04-01T05:33:12.876831Z"
        },
        "colab": {
          "base_uri": "https://localhost:8080/",
          "height": 442
        },
        "id": "pXDDPWngxCb8",
        "outputId": "a85e920e-db9a-408c-beaf-5cfe8807f224"
      },
      "outputs": [
        {
          "output_type": "display_data",
          "data": {
            "text/plain": [
              "<Figure size 504x504 with 1 Axes>"
            ],
            "image/png": "[encoded data removed]"
          },
          "metadata": {
            "needs_background": "light"
          }
        }
      ],
      "source": [
        "plt.figure(figsize=(7,7))\n",
        "sns.countplot(data=df,x=\"HeartDisease\",hue=\"DiffWalking\");"
      ]
    },
    {
      "cell_type": "code",
      "execution_count": null,
      "metadata": {
        "execution": {
          "iopub.execute_input": "2022-04-01T05:30:35.319063Z",
          "iopub.status.busy": "2022-04-01T05:30:35.318775Z",
          "iopub.status.idle": "2022-04-01T05:30:35.322746Z",
          "shell.execute_reply": "2022-04-01T05:30:35.321925Z",
          "shell.execute_reply.started": "2022-04-01T05:30:35.319031Z"
        },
        "id": "9ibox4XHxCb8"
      },
      "outputs": [],
      "source": [
        "# plt.figure(figsize=(7,7))\n",
        "# sns.countplot(data=df,x=\"HeartDisease\",hue=\"MentalHealth\")"
      ]
    },
    {
      "cell_type": "code",
      "execution_count": null,
      "metadata": {
        "colab": {
          "base_uri": "https://localhost:8080/",
          "height": 442
        },
        "id": "3XMSniJtxCb9",
        "outputId": "e6673779-162f-490e-fe84-09b84ece3c98"
      },
      "outputs": [
        {
          "output_type": "display_data",
          "data": {
            "text/plain": [
              "<Figure size 504x504 with 1 Axes>"
            ],
            "image/png": "[encoded data removed]"
          },
          "metadata": {
            "needs_background": "light"
          }
        }
      ],
      "source": [
        "plt.figure(figsize=(7,7))\n",
        "sns.histplot(df.loc[df[\"HeartDisease\"]== \"No\"][\"BMI\"], \n",
        "             color = \"tab:blue\", alpha = 0.4, label = \"No Heart Disease\", \n",
        "            kde = True)\n",
        "sns.histplot(df.loc[df[\"HeartDisease\"]== \"Yes\"][\"BMI\"], \n",
        "             color = \"tab:red\", alpha = 0.4, label = \"Heart Disease\",\n",
        "            kde = True)\n",
        "# plt.show()\n",
        "plt.legend();"
      ]
    },
    {
      "cell_type": "markdown",
      "metadata": {
        "id": "S-TfD4jZxCb9"
      },
      "source": [
        "# Data Preparation "
      ]
    },
    {
      "cell_type": "code",
      "execution_count": null,
      "metadata": {
        "execution": {
          "iopub.execute_input": "2022-04-01T05:33:25.402096Z",
          "iopub.status.busy": "2022-04-01T05:33:25.401687Z",
          "iopub.status.idle": "2022-04-01T05:33:25.410683Z",
          "shell.execute_reply": "2022-04-01T05:33:25.409949Z",
          "shell.execute_reply.started": "2022-04-01T05:33:25.402066Z"
        },
        "colab": {
          "base_uri": "https://localhost:8080/"
        },
        "id": "GWYNckFuxCb9",
        "outputId": "f08d8ea7-7346-4596-a99e-88be9c08310a"
      },
      "outputs": [
        {
          "output_type": "execute_result",
          "data": {
            "text/plain": [
              "No     0.914405\n",
              "Yes    0.085595\n",
              "Name: HeartDisease, dtype: float64"
            ]
          },
          "metadata": {},
          "execution_count": 19
        }
      ],
      "source": [
        "df[\"HeartDisease\"].value_counts(normalize = True)"
      ]
    },
    {
      "cell_type": "code",
      "execution_count": null,
      "metadata": {
        "execution": {
          "iopub.execute_input": "2022-04-01T05:39:23.181231Z",
          "iopub.status.busy": "2022-04-01T05:39:23.180954Z",
          "iopub.status.idle": "2022-04-01T05:39:23.776431Z",
          "shell.execute_reply": "2022-04-01T05:39:23.775578Z",
          "shell.execute_reply.started": "2022-04-01T05:39:23.181203Z"
        },
        "id": "Q809UsY6xCb-"
      },
      "outputs": [],
      "source": [
        "df_2 = df.copy()\n",
        "Yes_No_dict = {\"No\":0, \"Yes\":1, \"Female\":1, \"Male\":0} \n",
        "\n",
        "Yes_No_List = [\"Stroke\", \"HeartDisease\", \"Smoking\", \"AlcoholDrinking\",\n",
        "               \"Asthma\", \"KidneyDisease\", \"SkinCancer\", \"Diabetic\",\n",
        "               \"PhysicalActivity\", \"Sex\", \"DiffWalking\"]\n",
        "\n",
        "for col in Yes_No_List:\n",
        "    df_2[col] = df_2[col].map(Yes_No_dict)\n",
        "\n",
        "#### Encoding By using OneHotEncoder\n",
        "\n",
        "\n",
        "numeric = [\"BMI\", \"SleepTime\", \"PhysicalHealth\", \"MentalHealth\"]\n",
        "\n",
        "for item in numeric:\n",
        "    Yes_No_List.append(item)\n",
        "    \n",
        "\n",
        "cat = list(df_2.columns)\n",
        "\n",
        "\n",
        "for item in Yes_No_List:  \n",
        "    cat.remove(item)\n",
        "    \n",
        "\n",
        "df_cat = df_2[cat]\n",
        "\n",
        "ohe = OneHotEncoder(categories='auto', sparse=False)\n",
        "#                     , drop=\"first\")\n",
        "\n",
        "df_cat_encoded = pd.DataFrame(np.squeeze(ohe.fit_transform(df_cat)), \n",
        "                              columns = ohe.get_feature_names())\n",
        "\n",
        "##### Scaling By using StandardScaler\n",
        "\n",
        "scaler = StandardScaler()\n",
        "\n",
        "df_numeric = df_2[numeric]\n",
        "\n",
        "\n",
        "scaled_numeric = scaler.fit_transform(df_numeric)\n",
        "\n",
        "df_scaled_numeric = pd.DataFrame(np.squeeze(scaler.fit_transform(scaled_numeric)), \n",
        "                             columns = df_numeric.columns)\n",
        "\n",
        "#### Concatating New DataFrames\n",
        "\n",
        "X = pd.concat([df_cat_encoded, df_scaled_numeric], axis = 1)\n"
      ]
    },
    {
      "cell_type": "markdown",
      "metadata": {
        "variables": {
          "df_2[\"HeartDisease\"].value_counts(normalize = True)": "0    0.914405\n1    0.085595\nName: HeartDisease, dtype: float64"
        },
        "id": "XTNJIINxxCb-"
      },
      "source": [
        "We see that `df_2[\"HeartDisease\"].value_counts(normalize = True)` results in\n",
        "\n",
        "`\n",
        "{{df_2[\"HeartDisease\"].value_counts(normalize = True)}}`\n",
        "\n",
        "which can be used to conclude that we have imbalances in our data so, we either can use `SMOTE` or we can set `stratify=y` in `train_test_split`. We noticed that setting set `stratify=y`, results in a better accuracy."
      ]
    },
    {
      "cell_type": "code",
      "execution_count": null,
      "metadata": {
        "execution": {
          "iopub.execute_input": "2022-04-01T05:39:31.807735Z",
          "iopub.status.busy": "2022-04-01T05:39:31.807408Z",
          "iopub.status.idle": "2022-04-01T05:39:32.055748Z",
          "shell.execute_reply": "2022-04-01T05:39:32.054995Z",
          "shell.execute_reply.started": "2022-04-01T05:39:31.807687Z"
        },
        "colab": {
          "base_uri": "https://localhost:8080/"
        },
        "id": "_8v9PsW-xCb_",
        "outputId": "78d9136c-deaa-407e-d6cb-dcaadc56e81a"
      },
      "outputs": [
        {
          "output_type": "stream",
          "name": "stdout",
          "text": [
            "y_train: {0: 91.44061039103175, 1: 8.559389608968246}\n",
            "y_train_smote: {0: 50.0, 1: 50.0}\n",
            "y_test: {0: 91.43982864022264, 1: 8.560171359777357}\n"
          ]
        }
      ],
      "source": [
        "y = df_2[\"HeartDisease\"]\n",
        "X_train, X_test, y_train, y_test = train_test_split(X, y, \n",
        "                                                    random_state = 42, \n",
        "                                                    test_size = 0.2, \n",
        "                                                    stratify=y)\n",
        "\n",
        "\n",
        "\n",
        "smote = SMOTE()\n",
        "X_train_smote, y_train_smote = smote.fit_resample(X_train, y_train)\n",
        "\n",
        "print(\"y_train:\", dict(y_train.value_counts(normalize = True)*100))\n",
        "print(\"y_train_smote:\", dict(y_train_smote.value_counts(normalize = True)*100))\n",
        "print(\"y_test:\", dict(y_test.value_counts(normalize = True)*100))"
      ]
    },
    {
      "cell_type": "markdown",
      "metadata": {
        "id": "KcHNh0noxCb_"
      },
      "source": [
        "# XGBoost"
      ]
    },
    {
      "cell_type": "markdown",
      "metadata": {
        "id": "jGgqURfAxCb_"
      },
      "source": [
        "The following Box is from [here](https://stackoverflow.com/questions/51587535/custom-evaluation-function-based-on-f1-for-use-in-xgboost-python-api) and also check [this](https://xgboost.readthedocs.io/en/stable/tutorials/custom_metric_obj.html)\n",
        "\n",
        "or the first link is\n",
        "\n",
        "```\n",
        "https://stackoverflow.com/questions/51587535/custom-evaluation-function-based-on-f1-for-use-in-xgboost-python-api\n",
        "```\n",
        "\n",
        "and the second link is\n",
        "\n",
        "```\n",
        "https://xgboost.readthedocs.io/en/stable/tutorials/custom_metric_obj.html\n",
        "```"
      ]
    },
    {
      "cell_type": "code",
      "execution_count": null,
      "metadata": {
        "execution": {
          "iopub.execute_input": "2022-04-01T05:45:13.655701Z",
          "iopub.status.busy": "2022-04-01T05:45:13.655162Z",
          "iopub.status.idle": "2022-04-01T05:45:20.541690Z",
          "shell.execute_reply": "2022-04-01T05:45:20.540832Z",
          "shell.execute_reply.started": "2022-04-01T05:45:13.655647Z"
        },
        "id": "jc15yN7pxCcA"
      },
      "outputs": [],
      "source": [
        "# {'alpha': 10,\n",
        "#  'eval_metric': 'auc',\n",
        "#  'max_depth': 10,\n",
        "#  'n_estimators': 15,\n",
        "#  'objective': 'binary:logistic',\n",
        "#  'seed': 42}\n",
        "\n",
        "# smote_params = {'alpha': 10,\n",
        "#                 'eval_metric': 'auc',\n",
        "#                 'max_depth': 10,\n",
        "#                 'n_estimators': 15,\n",
        "#                 'objective': 'binary:logistic',\n",
        "#                 'seed': 42}\n",
        "\n",
        "\n",
        "clf = xgb.XGBClassifier(max_depth = 10, n_estimators= 15, seed=42,\n",
        "                        alpha = 10, \n",
        "                        objective = 'binary:logistic', \n",
        "                        eval_metric = \"auc\")\n",
        "\n",
        "clf.fit(X_train_smote, y_train_smote);"
      ]
    },
    {
      "cell_type": "code",
      "execution_count": null,
      "metadata": {
        "colab": {
          "base_uri": "https://localhost:8080/"
        },
        "id": "dkaf2Yy6xCcA",
        "outputId": "8d05fb8b-cde5-4d29-eebc-3ea995f3cd42"
      },
      "outputs": [
        {
          "output_type": "stream",
          "name": "stdout",
          "text": [
            "Validation AUC: 0.7235\n",
            "Test precision_score: 0.2035\n",
            "Test recall_score: 0.7054\n",
            "f1_score: 0.3159\n"
          ]
        }
      ],
      "source": [
        "test_preds = clf.predict(X_test)\n",
        "\n",
        "\n",
        "### ROC and AUC\n",
        "# ROC\n",
        "\n",
        "test_fpr , test_tpr , test_thresh = roc_curve(y_test, test_preds)\n",
        "# AUC\n",
        "\n",
        "test_auc = auc(test_fpr, test_tpr)\n",
        "\n",
        "\n",
        "\n",
        "print('Validation AUC: {:.4}'.format(test_auc))\n",
        "print(\"Test precision_score: {:.4}\".format(precision_score(y_test, test_preds)))\n",
        "print(\"Test recall_score: {:.4}\".format(recall_score(y_test, test_preds)))\n",
        "print(\"f1_score: {:.4}\".format(f1_score(y_test, test_preds)))"
      ]
    },
    {
      "cell_type": "code",
      "execution_count": null,
      "metadata": {
        "colab": {
          "base_uri": "https://localhost:8080/",
          "height": 893
        },
        "id": "kureWf4oxCcB",
        "outputId": "0a601d7c-82d4-419f-8424-8faec4b90471"
      },
      "outputs": [
        {
          "output_type": "display_data",
          "data": {
            "text/plain": [
              "<Figure size 1080x1080 with 1 Axes>"
            ],
            "image/png": "[encoded data removed]"
          },
          "metadata": {
            "needs_background": "light"
          }
        }
      ],
      "source": [
        "fig, ax = plt.subplots(1,1,figsize=(15, 15))\n",
        "xgb.plot_importance(clf, ax = ax);"
      ]
    },
    {
      "cell_type": "markdown",
      "metadata": {
        "id": "QZRM36xjxCcB"
      },
      "source": [
        "## GridSearch For XGBoost \n",
        "\n",
        "By using GridSearch we find the following. It takes times to find it so, make sure that you are not running this section.\n",
        "\n",
        "```python\n",
        "\n",
        "best_parameters = {'alpha': 30,\n",
        " 'eta': 0.3,\n",
        " 'eval_metric': 'auc',\n",
        " 'max_depth': 10,\n",
        " 'n_estimators': 25,\n",
        " 'objective': 'binary:logistic',\n",
        " 'seed': 42}\n",
        "\n",
        "```\n",
        "\n",
        "the accuracy results that we find are:\n",
        "\n",
        "```python\n",
        "Training Accuracy: 91.61%\n",
        "Validation accuracy: 91.6%\n",
        "```"
      ]
    },
    {
      "cell_type": "code",
      "execution_count": null,
      "metadata": {
        "execution": {
          "iopub.execute_input": "2022-04-01T06:07:53.427183Z",
          "iopub.status.busy": "2022-04-01T06:07:53.426482Z",
          "iopub.status.idle": "2022-04-01T06:07:53.433175Z",
          "shell.execute_reply": "2022-04-01T06:07:53.432523Z",
          "shell.execute_reply.started": "2022-04-01T06:07:53.427134Z"
        },
        "id": "CQXDoGShxCcB"
      },
      "outputs": [],
      "source": [
        "# clf_param_grid = {\n",
        "#     \"max_depth\": [5, 10],\n",
        "#     \"n_estimators\": [10, 15],\n",
        "#     \"seed\": [42],\n",
        "#     \"alpha\": [20, 25],\n",
        "#     \"objective\" : ['binary:logistic'], \n",
        "#     \"eval_metric\" : [\"auc\"]\n",
        "# }"
      ]
    },
    {
      "cell_type": "code",
      "execution_count": null,
      "metadata": {
        "execution": {
          "iopub.execute_input": "2022-04-01T06:08:04.491190Z",
          "iopub.status.busy": "2022-04-01T06:08:04.490908Z",
          "iopub.status.idle": "2022-04-01T06:15:56.665863Z",
          "shell.execute_reply": "2022-04-01T06:15:56.665026Z",
          "shell.execute_reply.started": "2022-04-01T06:08:04.491160Z"
        },
        "id": "vSbnMQPbxCcB",
        "outputId": "1e11760b-3867-4446-c66f-1941e64bc015",
        "colab": {
          "base_uri": "https://localhost:8080/"
        }
      },
      "outputs": [
        {
          "output_type": "execute_result",
          "data": {
            "text/plain": [
              "GridSearchCV(estimator=XGBClassifier(),\n",
              "             param_grid={'alpha': [20, 25], 'eval_metric': ['auc'],\n",
              "                         'max_depth': [5, 10], 'n_estimators': [10, 15],\n",
              "                         'objective': ['binary:logistic'], 'seed': [42]})"
            ]
          },
          "metadata": {},
          "execution_count": 22
        }
      ],
      "source": [
        "# clf_grid = xgb.XGBClassifier()\n",
        "\n",
        "# clf_grid_search = GridSearchCV(clf_grid, clf_param_grid, cv = None)\n",
        "\n",
        "\n",
        "# # Fit to the data\n",
        "# clf_grid_search.fit(X_train_smote, y_train_smote)"
      ]
    },
    {
      "cell_type": "code",
      "execution_count": null,
      "metadata": {
        "execution": {
          "iopub.execute_input": "2022-04-01T06:16:25.340596Z",
          "iopub.status.busy": "2022-04-01T06:16:25.339596Z",
          "iopub.status.idle": "2022-04-01T06:16:25.560789Z",
          "shell.execute_reply": "2022-04-01T06:16:25.559959Z",
          "shell.execute_reply.started": "2022-04-01T06:16:25.340540Z"
        },
        "id": "_CJMyTb1xCcC",
        "outputId": "8deed0f7-f809-48c0-e3fc-42f7396b90a3",
        "colab": {
          "base_uri": "https://localhost:8080/"
        }
      },
      "outputs": [
        {
          "output_type": "stream",
          "name": "stdout",
          "text": [
            "Validation AUC: 0.7196\n",
            "Test precision_score: 0.204\n",
            "Test recall_score: 0.6919\n",
            "f1_score: 0.3151\n"
          ]
        }
      ],
      "source": [
        "\n",
        "# test_preds_grid     = clf_grid_search.predict(X_test)\n",
        "\n",
        "\n",
        "# ### ROC and AUC\n",
        "# # ROC\n",
        "\n",
        "# test_fpr_grid , test_tpr_grid , test_thresh_grid = roc_curve(y_test, test_preds_grid)\n",
        "# # AUC\n",
        "\n",
        "# test_auc_grid = auc(test_fpr_grid, test_tpr_grid)\n",
        "\n",
        "\n",
        "\n",
        "# print('Validation AUC: {:.4}'.format(test_auc_grid))\n",
        "# print(\"Test precision_score: {:.4}\".format(precision_score(y_test, test_preds_grid)))\n",
        "# print(\"Test recall_score: {:.4}\".format(recall_score(y_test, test_preds_grid)))\n",
        "# print(\"f1_score: {:.4}\".format(f1_score(y_test, test_preds_grid)))"
      ]
    },
    {
      "cell_type": "code",
      "execution_count": null,
      "metadata": {
        "execution": {
          "iopub.execute_input": "2022-04-01T06:16:27.749590Z",
          "iopub.status.busy": "2022-04-01T06:16:27.749267Z",
          "iopub.status.idle": "2022-04-01T06:16:27.755823Z",
          "shell.execute_reply": "2022-04-01T06:16:27.754939Z",
          "shell.execute_reply.started": "2022-04-01T06:16:27.749556Z"
        },
        "id": "Gs2CdeNFxCcC",
        "outputId": "22212c67-b312-40fe-c30a-7b43e9c7ffd5",
        "colab": {
          "base_uri": "https://localhost:8080/"
        }
      },
      "outputs": [
        {
          "output_type": "execute_result",
          "data": {
            "text/plain": [
              "{'alpha': 20,\n",
              " 'eval_metric': 'auc',\n",
              " 'max_depth': 10,\n",
              " 'n_estimators': 15,\n",
              " 'objective': 'binary:logistic',\n",
              " 'seed': 42}"
            ]
          },
          "metadata": {},
          "execution_count": 24
        }
      ],
      "source": [
        "# clf_grid_search.best_params_"
      ]
    },
    {
      "cell_type": "code",
      "source": [
        "# clf_grid_search.best_params_ = {'alpha': 20,\n",
        "#  'eval_metric': 'auc',\n",
        "#  'max_depth': 10,\n",
        "#  'n_estimators': 15,\n",
        "#  'objective': 'binary:logistic',\n",
        "#  'seed': 42}"
      ],
      "metadata": {
        "id": "1LjDlJcMiORH"
      },
      "execution_count": null,
      "outputs": []
    },
    {
      "cell_type": "markdown",
      "metadata": {
        "id": "WERHm4GOxCcC"
      },
      "source": [
        "# Random Forest"
      ]
    },
    {
      "cell_type": "code",
      "execution_count": null,
      "metadata": {
        "execution": {
          "iopub.execute_input": "2022-04-01T06:17:00.361565Z",
          "iopub.status.busy": "2022-04-01T06:17:00.361113Z",
          "iopub.status.idle": "2022-04-01T06:17:42.200460Z",
          "shell.execute_reply": "2022-04-01T06:17:42.199458Z",
          "shell.execute_reply.started": "2022-04-01T06:17:00.361521Z"
        },
        "colab": {
          "base_uri": "https://localhost:8080/"
        },
        "id": "lcpQ3Q2_xCcC",
        "outputId": "94b0021c-dcfe-477c-f552-aabed71ce128"
      },
      "outputs": [
        {
          "output_type": "stream",
          "name": "stdout",
          "text": [
            "Training AUC: 0.9387\n",
            "Validation AUC: 0.5822\n",
            "Test precision_score: 0.1897\n",
            "Test recall_score: 0.274\n",
            "f1_score: 0.2241\n"
          ]
        }
      ],
      "source": [
        "from sklearn.ensemble import RandomForestClassifier\n",
        "rf = RandomForestClassifier(criterion=\"entropy\", bootstrap = True)\n",
        "\n",
        "rf.fit(X_train_smote, y_train_smote)\n",
        "\n",
        "training_preds_rf = rf.predict(X_train)\n",
        "test_preds_rf     = rf.predict(X_test)\n",
        "\n",
        "\n",
        "### ROC and AUC\n",
        "# ROC\n",
        "train_fpr_rf, train_tpr_rf, train_thresh_rf = roc_curve(y_train, training_preds_rf)\n",
        "test_fpr_rf , test_tpr_rf , test_thresh_rf = roc_curve(y_test, test_preds_rf)\n",
        "# AUC\n",
        "train_auc_rf = auc(train_fpr_rf, train_tpr_rf)\n",
        "test_auc_rf = auc(test_fpr_rf, test_tpr_rf)\n",
        "\n",
        "\n",
        "print('Training AUC: {:.4}'.format(train_auc_rf))\n",
        "print('Validation AUC: {:.4}'.format(test_auc_rf))\n",
        "print(\"Test precision_score: {:.4}\".format(precision_score(y_test, test_preds_rf)))\n",
        "print(\"Test recall_score: {:.4}\".format(recall_score(y_test, test_preds_rf)))\n",
        "print(\"f1_score: {:.4}\".format(f1_score(y_test, test_preds_rf)))"
      ]
    },
    {
      "cell_type": "markdown",
      "metadata": {
        "id": "3p7T6-8nxCcD"
      },
      "source": [
        "# Microsoft FLAML A Fast Library for Automated Machine Learning & Tuning\n",
        "\n",
        "It can be found [here](https://github.com/microsoft/FLAML) or using the following link\n",
        "```https://github.com/microsoft/FLAML```\n"
      ]
    },
    {
      "cell_type": "code",
      "source": [
        "! pip install flaml"
      ],
      "metadata": {
        "id": "F02wPzDuhMik",
        "outputId": "0be5d63c-0060-48ce-c577-3838718a22f3",
        "colab": {
          "base_uri": "https://localhost:8080/"
        }
      },
      "execution_count": null,
      "outputs": [
        {
          "output_type": "stream",
          "name": "stdout",
          "text": [
            "Collecting flaml\n",
            "  Downloading FLAML-1.0.0-py3-none-any.whl (157 kB)\n",
            "\u001b[?25l\r\u001b[K     |██                              | 10 kB 16.0 MB/s eta 0:00:01\r\u001b[K     |████▏                           | 20 kB 22.2 MB/s eta 0:00:01\r\u001b[K     |██████▎                         | 30 kB 24.2 MB/s eta 0:00:01\r\u001b[K     |████████▍                       | 40 kB 19.2 MB/s eta 0:00:01\r\u001b[K     |██████████▍                     | 51 kB 9.7 MB/s eta 0:00:01\r\u001b[K     |████████████▌                   | 61 kB 11.0 MB/s eta 0:00:01\r\u001b[K     |██████████████▋                 | 71 kB 10.6 MB/s eta 0:00:01\r\u001b[K     |████████████████▊               | 81 kB 10.8 MB/s eta 0:00:01\r\u001b[K     |██████████████████▊             | 92 kB 11.9 MB/s eta 0:00:01\r\u001b[K     |████████████████████▉           | 102 kB 10.4 MB/s eta 0:00:01\r\u001b[K     |███████████████████████         | 112 kB 10.4 MB/s eta 0:00:01\r\u001b[K     |█████████████████████████       | 122 kB 10.4 MB/s eta 0:00:01\r\u001b[K     |███████████████████████████     | 133 kB 10.4 MB/s eta 0:00:01\r\u001b[K     |█████████████████████████████▏  | 143 kB 10.4 MB/s eta 0:00:01\r\u001b[K     |███████████████████████████████▎| 153 kB 10.4 MB/s eta 0:00:01\r\u001b[K     |████████████████████████████████| 157 kB 10.4 MB/s \n",
            "\u001b[?25hRequirement already satisfied: scipy>=1.4.1 in /usr/local/lib/python3.7/dist-packages (from flaml) (1.4.1)\n",
            "Requirement already satisfied: xgboost<=1.3.3,>=0.90 in /usr/local/lib/python3.7/dist-packages (from flaml) (0.90)\n",
            "Requirement already satisfied: NumPy>=1.16.2 in /usr/local/lib/python3.7/dist-packages (from flaml) (1.21.5)\n",
            "Collecting lightgbm>=2.3.1\n",
            "  Downloading lightgbm-3.3.2-py3-none-manylinux1_x86_64.whl (2.0 MB)\n",
            "\u001b[K     |████████████████████████████████| 2.0 MB 50.2 MB/s \n",
            "\u001b[?25hRequirement already satisfied: pandas>=1.1.4 in /usr/local/lib/python3.7/dist-packages (from flaml) (1.3.5)\n",
            "Requirement already satisfied: scikit-learn>=0.24 in /usr/local/lib/python3.7/dist-packages (from flaml) (1.0.2)\n",
            "Requirement already satisfied: wheel in /usr/local/lib/python3.7/dist-packages (from lightgbm>=2.3.1->flaml) (0.37.1)\n",
            "Requirement already satisfied: pytz>=2017.3 in /usr/local/lib/python3.7/dist-packages (from pandas>=1.1.4->flaml) (2018.9)\n",
            "Requirement already satisfied: python-dateutil>=2.7.3 in /usr/local/lib/python3.7/dist-packages (from pandas>=1.1.4->flaml) (2.8.2)\n",
            "Requirement already satisfied: six>=1.5 in /usr/local/lib/python3.7/dist-packages (from python-dateutil>=2.7.3->pandas>=1.1.4->flaml) (1.15.0)\n",
            "Requirement already satisfied: threadpoolctl>=2.0.0 in /usr/local/lib/python3.7/dist-packages (from scikit-learn>=0.24->flaml) (3.1.0)\n",
            "Requirement already satisfied: joblib>=0.11 in /usr/local/lib/python3.7/dist-packages (from scikit-learn>=0.24->flaml) (1.1.0)\n",
            "Installing collected packages: lightgbm, flaml\n",
            "  Attempting uninstall: lightgbm\n",
            "    Found existing installation: lightgbm 2.2.3\n",
            "    Uninstalling lightgbm-2.2.3:\n",
            "      Successfully uninstalled lightgbm-2.2.3\n",
            "Successfully installed flaml-1.0.0 lightgbm-3.3.2\n"
          ]
        }
      ]
    },
    {
      "cell_type": "code",
      "source": [
        "!pip install flaml[notebook];"
      ],
      "metadata": {
        "id": "9ydFPDxHhIPX",
        "outputId": "a0568e89-27ba-41ec-f3e7-d8fde3a63a88",
        "colab": {
          "base_uri": "https://localhost:8080/"
        }
      },
      "execution_count": null,
      "outputs": [
        {
          "output_type": "stream",
          "name": "stdout",
          "text": [
            "Requirement already satisfied: flaml[notebook] in /usr/local/lib/python3.7/dist-packages (1.0.0)\n",
            "Requirement already satisfied: lightgbm>=2.3.1 in /usr/local/lib/python3.7/dist-packages (from flaml[notebook]) (3.3.2)\n",
            "Requirement already satisfied: xgboost<=1.3.3,>=0.90 in /usr/local/lib/python3.7/dist-packages (from flaml[notebook]) (0.90)\n",
            "Requirement already satisfied: scipy>=1.4.1 in /usr/local/lib/python3.7/dist-packages (from flaml[notebook]) (1.4.1)\n",
            "Requirement already satisfied: NumPy>=1.16.2 in /usr/local/lib/python3.7/dist-packages (from flaml[notebook]) (1.21.5)\n",
            "Requirement already satisfied: scikit-learn>=0.24 in /usr/local/lib/python3.7/dist-packages (from flaml[notebook]) (1.0.2)\n",
            "Requirement already satisfied: pandas>=1.1.4 in /usr/local/lib/python3.7/dist-packages (from flaml[notebook]) (1.3.5)\n",
            "Collecting rgf-python\n",
            "  Downloading rgf_python-3.12.0-py3-none-manylinux1_x86_64.whl (757 kB)\n",
            "\u001b[K     |████████████████████████████████| 757 kB 9.6 MB/s \n",
            "\u001b[?25hRequirement already satisfied: jupyter in /usr/local/lib/python3.7/dist-packages (from flaml[notebook]) (1.0.0)\n",
            "Collecting openml==0.10.2\n",
            "  Downloading openml-0.10.2.tar.gz (158 kB)\n",
            "\u001b[K     |████████████████████████████████| 158 kB 46.5 MB/s \n",
            "\u001b[?25hCollecting catboost>=0.26\n",
            "  Downloading catboost-1.0.4-cp37-none-manylinux1_x86_64.whl (76.1 MB)\n",
            "\u001b[K     |████████████████████████████████| 76.1 MB 46 kB/s \n",
            "\u001b[?25hRequirement already satisfied: matplotlib in /usr/local/lib/python3.7/dist-packages (from flaml[notebook]) (3.2.2)\n",
            "Collecting liac-arff>=2.4.0\n",
            "  Downloading liac-arff-2.5.0.tar.gz (13 kB)\n",
            "Collecting xmltodict\n",
            "  Downloading xmltodict-0.12.0-py2.py3-none-any.whl (9.2 kB)\n",
            "Requirement already satisfied: requests in /usr/local/lib/python3.7/dist-packages (from openml==0.10.2->flaml[notebook]) (2.23.0)\n",
            "Requirement already satisfied: python-dateutil in /usr/local/lib/python3.7/dist-packages (from openml==0.10.2->flaml[notebook]) (2.8.2)\n",
            "Requirement already satisfied: six in /usr/local/lib/python3.7/dist-packages (from catboost>=0.26->flaml[notebook]) (1.15.0)\n",
            "Requirement already satisfied: plotly in /usr/local/lib/python3.7/dist-packages (from catboost>=0.26->flaml[notebook]) (5.5.0)\n",
            "Requirement already satisfied: graphviz in /usr/local/lib/python3.7/dist-packages (from catboost>=0.26->flaml[notebook]) (0.10.1)\n",
            "Requirement already satisfied: wheel in /usr/local/lib/python3.7/dist-packages (from lightgbm>=2.3.1->flaml[notebook]) (0.37.1)\n",
            "Requirement already satisfied: pytz>=2017.3 in /usr/local/lib/python3.7/dist-packages (from pandas>=1.1.4->flaml[notebook]) (2018.9)\n",
            "Requirement already satisfied: joblib>=0.11 in /usr/local/lib/python3.7/dist-packages (from scikit-learn>=0.24->flaml[notebook]) (1.1.0)\n",
            "Requirement already satisfied: threadpoolctl>=2.0.0 in /usr/local/lib/python3.7/dist-packages (from scikit-learn>=0.24->flaml[notebook]) (3.1.0)\n",
            "Requirement already satisfied: ipywidgets in /usr/local/lib/python3.7/dist-packages (from jupyter->flaml[notebook]) (7.7.0)\n",
            "Requirement already satisfied: ipykernel in /usr/local/lib/python3.7/dist-packages (from jupyter->flaml[notebook]) (4.10.1)\n",
            "Requirement already satisfied: notebook in /usr/local/lib/python3.7/dist-packages (from jupyter->flaml[notebook]) (5.3.1)\n",
            "Requirement already satisfied: jupyter-console in /usr/local/lib/python3.7/dist-packages (from jupyter->flaml[notebook]) (5.2.0)\n",
            "Requirement already satisfied: qtconsole in /usr/local/lib/python3.7/dist-packages (from jupyter->flaml[notebook]) (5.2.2)\n",
            "Requirement already satisfied: nbconvert in /usr/local/lib/python3.7/dist-packages (from jupyter->flaml[notebook]) (5.6.1)\n",
            "Requirement already satisfied: jupyter-client in /usr/local/lib/python3.7/dist-packages (from ipykernel->jupyter->flaml[notebook]) (5.3.5)\n",
            "Requirement already satisfied: traitlets>=4.1.0 in /usr/local/lib/python3.7/dist-packages (from ipykernel->jupyter->flaml[notebook]) (5.1.1)\n",
            "Requirement already satisfied: ipython>=4.0.0 in /usr/local/lib/python3.7/dist-packages (from ipykernel->jupyter->flaml[notebook]) (5.5.0)\n",
            "Requirement already satisfied: tornado>=4.0 in /usr/local/lib/python3.7/dist-packages (from ipykernel->jupyter->flaml[notebook]) (5.1.1)\n",
            "Requirement already satisfied: setuptools>=18.5 in /usr/local/lib/python3.7/dist-packages (from ipython>=4.0.0->ipykernel->jupyter->flaml[notebook]) (57.4.0)\n",
            "Requirement already satisfied: pickleshare in /usr/local/lib/python3.7/dist-packages (from ipython>=4.0.0->ipykernel->jupyter->flaml[notebook]) (0.7.5)\n",
            "Requirement already satisfied: simplegeneric>0.8 in /usr/local/lib/python3.7/dist-packages (from ipython>=4.0.0->ipykernel->jupyter->flaml[notebook]) (0.8.1)\n",
            "Requirement already satisfied: pygments in /usr/local/lib/python3.7/dist-packages (from ipython>=4.0.0->ipykernel->jupyter->flaml[notebook]) (2.6.1)\n",
            "Requirement already satisfied: prompt-toolkit<2.0.0,>=1.0.4 in /usr/local/lib/python3.7/dist-packages (from ipython>=4.0.0->ipykernel->jupyter->flaml[notebook]) (1.0.18)\n",
            "Requirement already satisfied: decorator in /usr/local/lib/python3.7/dist-packages (from ipython>=4.0.0->ipykernel->jupyter->flaml[notebook]) (4.4.2)\n",
            "Requirement already satisfied: pexpect in /usr/local/lib/python3.7/dist-packages (from ipython>=4.0.0->ipykernel->jupyter->flaml[notebook]) (4.8.0)\n",
            "Requirement already satisfied: wcwidth in /usr/local/lib/python3.7/dist-packages (from prompt-toolkit<2.0.0,>=1.0.4->ipython>=4.0.0->ipykernel->jupyter->flaml[notebook]) (0.2.5)\n",
            "Requirement already satisfied: ipython-genutils~=0.2.0 in /usr/local/lib/python3.7/dist-packages (from ipywidgets->jupyter->flaml[notebook]) (0.2.0)\n",
            "Requirement already satisfied: widgetsnbextension~=3.6.0 in /usr/local/lib/python3.7/dist-packages (from ipywidgets->jupyter->flaml[notebook]) (3.6.0)\n",
            "Requirement already satisfied: jupyterlab-widgets>=1.0.0 in /usr/local/lib/python3.7/dist-packages (from ipywidgets->jupyter->flaml[notebook]) (1.1.0)\n",
            "Requirement already satisfied: nbformat>=4.2.0 in /usr/local/lib/python3.7/dist-packages (from ipywidgets->jupyter->flaml[notebook]) (5.2.0)\n",
            "Requirement already satisfied: jupyter-core in /usr/local/lib/python3.7/dist-packages (from nbformat>=4.2.0->ipywidgets->jupyter->flaml[notebook]) (4.9.2)\n",
            "Requirement already satisfied: jsonschema!=2.5.0,>=2.4 in /usr/local/lib/python3.7/dist-packages (from nbformat>=4.2.0->ipywidgets->jupyter->flaml[notebook]) (4.3.3)\n",
            "Requirement already satisfied: importlib-resources>=1.4.0 in /usr/local/lib/python3.7/dist-packages (from jsonschema!=2.5.0,>=2.4->nbformat>=4.2.0->ipywidgets->jupyter->flaml[notebook]) (5.4.0)\n",
            "Requirement already satisfied: attrs>=17.4.0 in /usr/local/lib/python3.7/dist-packages (from jsonschema!=2.5.0,>=2.4->nbformat>=4.2.0->ipywidgets->jupyter->flaml[notebook]) (21.4.0)\n",
            "Requirement already satisfied: typing-extensions in /usr/local/lib/python3.7/dist-packages (from jsonschema!=2.5.0,>=2.4->nbformat>=4.2.0->ipywidgets->jupyter->flaml[notebook]) (3.10.0.2)\n",
            "Requirement already satisfied: pyrsistent!=0.17.0,!=0.17.1,!=0.17.2,>=0.14.0 in /usr/local/lib/python3.7/dist-packages (from jsonschema!=2.5.0,>=2.4->nbformat>=4.2.0->ipywidgets->jupyter->flaml[notebook]) (0.18.1)\n",
            "Requirement already satisfied: importlib-metadata in /usr/local/lib/python3.7/dist-packages (from jsonschema!=2.5.0,>=2.4->nbformat>=4.2.0->ipywidgets->jupyter->flaml[notebook]) (4.11.3)\n",
            "Requirement already satisfied: zipp>=3.1.0 in /usr/local/lib/python3.7/dist-packages (from importlib-resources>=1.4.0->jsonschema!=2.5.0,>=2.4->nbformat>=4.2.0->ipywidgets->jupyter->flaml[notebook]) (3.7.0)\n",
            "Requirement already satisfied: terminado>=0.8.1 in /usr/local/lib/python3.7/dist-packages (from notebook->jupyter->flaml[notebook]) (0.13.3)\n",
            "Requirement already satisfied: Send2Trash in /usr/local/lib/python3.7/dist-packages (from notebook->jupyter->flaml[notebook]) (1.8.0)\n",
            "Requirement already satisfied: jinja2 in /usr/local/lib/python3.7/dist-packages (from notebook->jupyter->flaml[notebook]) (2.11.3)\n",
            "Requirement already satisfied: pyzmq>=13 in /usr/local/lib/python3.7/dist-packages (from jupyter-client->ipykernel->jupyter->flaml[notebook]) (22.3.0)\n",
            "Requirement already satisfied: ptyprocess in /usr/local/lib/python3.7/dist-packages (from terminado>=0.8.1->notebook->jupyter->flaml[notebook]) (0.7.0)\n",
            "Requirement already satisfied: MarkupSafe>=0.23 in /usr/local/lib/python3.7/dist-packages (from jinja2->notebook->jupyter->flaml[notebook]) (2.0.1)\n",
            "Requirement already satisfied: cycler>=0.10 in /usr/local/lib/python3.7/dist-packages (from matplotlib->flaml[notebook]) (0.11.0)\n",
            "Requirement already satisfied: pyparsing!=2.0.4,!=2.1.2,!=2.1.6,>=2.0.1 in /usr/local/lib/python3.7/dist-packages (from matplotlib->flaml[notebook]) (3.0.7)\n",
            "Requirement already satisfied: kiwisolver>=1.0.1 in /usr/local/lib/python3.7/dist-packages (from matplotlib->flaml[notebook]) (1.4.0)\n",
            "Requirement already satisfied: testpath in /usr/local/lib/python3.7/dist-packages (from nbconvert->jupyter->flaml[notebook]) (0.6.0)\n",
            "Requirement already satisfied: entrypoints>=0.2.2 in /usr/local/lib/python3.7/dist-packages (from nbconvert->jupyter->flaml[notebook]) (0.4)\n",
            "Requirement already satisfied: bleach in /usr/local/lib/python3.7/dist-packages (from nbconvert->jupyter->flaml[notebook]) (4.1.0)\n",
            "Requirement already satisfied: pandocfilters>=1.4.1 in /usr/local/lib/python3.7/dist-packages (from nbconvert->jupyter->flaml[notebook]) (1.5.0)\n",
            "Requirement already satisfied: mistune<2,>=0.8.1 in /usr/local/lib/python3.7/dist-packages (from nbconvert->jupyter->flaml[notebook]) (0.8.4)\n",
            "Requirement already satisfied: defusedxml in /usr/local/lib/python3.7/dist-packages (from nbconvert->jupyter->flaml[notebook]) (0.7.1)\n",
            "Requirement already satisfied: packaging in /usr/local/lib/python3.7/dist-packages (from bleach->nbconvert->jupyter->flaml[notebook]) (21.3)\n",
            "Requirement already satisfied: webencodings in /usr/local/lib/python3.7/dist-packages (from bleach->nbconvert->jupyter->flaml[notebook]) (0.5.1)\n",
            "Requirement already satisfied: tenacity>=6.2.0 in /usr/local/lib/python3.7/dist-packages (from plotly->catboost>=0.26->flaml[notebook]) (8.0.1)\n",
            "Requirement already satisfied: qtpy in /usr/local/lib/python3.7/dist-packages (from qtconsole->jupyter->flaml[notebook]) (2.0.1)\n",
            "Requirement already satisfied: chardet<4,>=3.0.2 in /usr/local/lib/python3.7/dist-packages (from requests->openml==0.10.2->flaml[notebook]) (3.0.4)\n",
            "Requirement already satisfied: urllib3!=1.25.0,!=1.25.1,<1.26,>=1.21.1 in /usr/local/lib/python3.7/dist-packages (from requests->openml==0.10.2->flaml[notebook]) (1.24.3)\n",
            "Requirement already satisfied: idna<3,>=2.5 in /usr/local/lib/python3.7/dist-packages (from requests->openml==0.10.2->flaml[notebook]) (2.10)\n",
            "Requirement already satisfied: certifi>=2017.4.17 in /usr/local/lib/python3.7/dist-packages (from requests->openml==0.10.2->flaml[notebook]) (2021.10.8)\n",
            "Building wheels for collected packages: openml, liac-arff\n",
            "  Building wheel for openml (setup.py) ... \u001b[?25l\u001b[?25hdone\n",
            "  Created wheel for openml: filename=openml-0.10.2-py3-none-any.whl size=190318 sha256=724c94fd0f6167db8d150f141cb148f508e61308d185687507035f369390c97e\n",
            "  Stored in directory: /root/.cache/pip/wheels/9c/9e/f3/6a5ebf16527d7fe22d9bc1652bc9beb5dc9fcfdeb75e805400\n",
            "  Building wheel for liac-arff (setup.py) ... \u001b[?25l\u001b[?25hdone\n",
            "  Created wheel for liac-arff: filename=liac_arff-2.5.0-py3-none-any.whl size=11732 sha256=22ff157bfaccc0b3c784bb79e6bc0b4416255d37053352d070442f45df6515d4\n",
            "  Stored in directory: /root/.cache/pip/wheels/1f/0f/15/332ca86cbebf25ddf98518caaf887945fbe1712b97a0f2493b\n",
            "Successfully built openml liac-arff\n",
            "Installing collected packages: xmltodict, liac-arff, rgf-python, openml, catboost\n",
            "Successfully installed catboost-1.0.4 liac-arff-2.5.0 openml-0.10.2 rgf-python-3.12.0 xmltodict-0.12.0\n"
          ]
        }
      ]
    },
    {
      "cell_type": "code",
      "execution_count": null,
      "metadata": {
        "id": "dC0dsm9UxCcD"
      },
      "outputs": [],
      "source": [
        "df_FLAML = df.copy()\n",
        "df_FLAML[\"HeartDisease\"] = df_FLAML[\"HeartDisease\"].map({\"No\": 0 , \"Yes\": 1})\n",
        "\n",
        "X_new = df_FLAML.drop(\"HeartDisease\", axis = 1)\n",
        "y_new = df_FLAML.HeartDisease\n",
        "\n",
        "\n",
        "X_train_n, X_test_n, y_train_n, y_test_n = train_test_split(X_new, y_new,\n",
        "                                                           test_size = 0.2,\n",
        "                                                           random_state = 42)"
      ]
    },
    {
      "cell_type": "code",
      "execution_count": null,
      "metadata": {
        "colab": {
          "base_uri": "https://localhost:8080/"
        },
        "id": "dG_GmxiFxCcD",
        "outputId": "deca601a-5667-473c-847b-e7149cd1ebd1"
      },
      "outputs": [
        {
          "output_type": "stream",
          "name": "stderr",
          "text": [
            "[flaml.automl: 04-02 09:18:06] {2105} INFO - task = classification\n",
            "[flaml.automl: 04-02 09:18:06] {2107} INFO - Data split method: stratified\n",
            "[flaml.automl: 04-02 09:18:06] {2111} INFO - Evaluation method: holdout\n",
            "[flaml.automl: 04-02 09:18:06] {2188} INFO - Minimizing error metric: 1-roc_auc\n",
            "[flaml.automl: 04-02 09:18:06] {2281} INFO - List of ML learners in AutoML Run: ['rf', 'xgboost']\n",
            "[flaml.automl: 04-02 09:18:06] {2567} INFO - iteration 0, current learner rf\n",
            "[flaml.automl: 04-02 09:18:07] {2698} INFO - Estimated sufficient time budget=87911s. Estimated necessary time budget=88s.\n",
            "[flaml.automl: 04-02 09:18:07] {2750} INFO -  at 3.4s,\testimator rf's best error=0.2179,\tbest estimator rf's best error=0.2179\n",
            "[flaml.automl: 04-02 09:18:07] {2567} INFO - iteration 1, current learner xgboost\n",
            "[flaml.automl: 04-02 09:18:07] {2750} INFO -  at 3.5s,\testimator xgboost's best error=0.2249,\tbest estimator rf's best error=0.2179\n",
            "[flaml.automl: 04-02 09:18:07] {2567} INFO - iteration 2, current learner xgboost\n",
            "[flaml.automl: 04-02 09:18:07] {2750} INFO -  at 3.6s,\testimator xgboost's best error=0.2249,\tbest estimator rf's best error=0.2179\n",
            "[flaml.automl: 04-02 09:18:07] {2567} INFO - iteration 3, current learner xgboost\n",
            "[flaml.automl: 04-02 09:18:07] {2750} INFO -  at 3.7s,\testimator xgboost's best error=0.2124,\tbest estimator xgboost's best error=0.2124\n",
            "[flaml.automl: 04-02 09:18:07] {2567} INFO - iteration 4, current learner rf\n",
            "[flaml.automl: 04-02 09:18:08] {2750} INFO -  at 4.1s,\testimator rf's best error=0.1967,\tbest estimator rf's best error=0.1967\n",
            "[flaml.automl: 04-02 09:18:08] {2567} INFO - iteration 5, current learner rf\n",
            "[flaml.automl: 04-02 09:18:08] {2750} INFO -  at 4.5s,\testimator rf's best error=0.1967,\tbest estimator rf's best error=0.1967\n",
            "[flaml.automl: 04-02 09:18:08] {2567} INFO - iteration 6, current learner rf\n",
            "[flaml.automl: 04-02 09:18:08] {2750} INFO -  at 4.9s,\testimator rf's best error=0.1933,\tbest estimator rf's best error=0.1933\n",
            "[flaml.automl: 04-02 09:18:08] {2567} INFO - iteration 7, current learner rf\n",
            "[flaml.automl: 04-02 09:18:09] {2750} INFO -  at 5.3s,\testimator rf's best error=0.1933,\tbest estimator rf's best error=0.1933\n",
            "[flaml.automl: 04-02 09:18:09] {2567} INFO - iteration 8, current learner rf\n",
            "[flaml.automl: 04-02 09:18:09] {2750} INFO -  at 5.8s,\testimator rf's best error=0.1933,\tbest estimator rf's best error=0.1933\n",
            "[flaml.automl: 04-02 09:18:09] {2567} INFO - iteration 9, current learner rf\n",
            "[flaml.automl: 04-02 09:18:10] {2750} INFO -  at 6.2s,\testimator rf's best error=0.1933,\tbest estimator rf's best error=0.1933\n",
            "[flaml.automl: 04-02 09:18:10] {2567} INFO - iteration 10, current learner xgboost\n",
            "[flaml.automl: 04-02 09:18:10] {2750} INFO -  at 6.3s,\testimator xgboost's best error=0.1891,\tbest estimator xgboost's best error=0.1891\n",
            "[flaml.automl: 04-02 09:18:10] {2567} INFO - iteration 11, current learner xgboost\n",
            "[flaml.automl: 04-02 09:18:10] {2750} INFO -  at 6.4s,\testimator xgboost's best error=0.1891,\tbest estimator xgboost's best error=0.1891\n",
            "[flaml.automl: 04-02 09:18:10] {2567} INFO - iteration 12, current learner xgboost\n",
            "[flaml.automl: 04-02 09:18:10] {2750} INFO -  at 6.5s,\testimator xgboost's best error=0.1874,\tbest estimator xgboost's best error=0.1874\n",
            "[flaml.automl: 04-02 09:18:10] {2567} INFO - iteration 13, current learner xgboost\n",
            "[flaml.automl: 04-02 09:18:10] {2750} INFO -  at 6.7s,\testimator xgboost's best error=0.1816,\tbest estimator xgboost's best error=0.1816\n",
            "[flaml.automl: 04-02 09:18:10] {2567} INFO - iteration 14, current learner xgboost\n",
            "[flaml.automl: 04-02 09:18:10] {2750} INFO -  at 7.0s,\testimator xgboost's best error=0.1785,\tbest estimator xgboost's best error=0.1785\n",
            "[flaml.automl: 04-02 09:18:10] {2567} INFO - iteration 15, current learner xgboost\n",
            "[flaml.automl: 04-02 09:18:11] {2750} INFO -  at 7.2s,\testimator xgboost's best error=0.1695,\tbest estimator xgboost's best error=0.1695\n",
            "[flaml.automl: 04-02 09:18:11] {2567} INFO - iteration 16, current learner xgboost\n",
            "[flaml.automl: 04-02 09:18:11] {2750} INFO -  at 7.4s,\testimator xgboost's best error=0.1695,\tbest estimator xgboost's best error=0.1695\n",
            "[flaml.automl: 04-02 09:18:11] {2567} INFO - iteration 17, current learner xgboost\n",
            "[flaml.automl: 04-02 09:18:11] {2750} INFO -  at 7.5s,\testimator xgboost's best error=0.1695,\tbest estimator xgboost's best error=0.1695\n",
            "[flaml.automl: 04-02 09:18:11] {2567} INFO - iteration 18, current learner xgboost\n",
            "[flaml.automl: 04-02 09:18:11] {2750} INFO -  at 7.7s,\testimator xgboost's best error=0.1695,\tbest estimator xgboost's best error=0.1695\n",
            "[flaml.automl: 04-02 09:18:11] {2567} INFO - iteration 19, current learner xgboost\n",
            "[flaml.automl: 04-02 09:18:11] {2750} INFO -  at 7.9s,\testimator xgboost's best error=0.1695,\tbest estimator xgboost's best error=0.1695\n",
            "[flaml.automl: 04-02 09:18:11] {2567} INFO - iteration 20, current learner xgboost\n",
            "[flaml.automl: 04-02 09:18:11] {2750} INFO -  at 8.0s,\testimator xgboost's best error=0.1695,\tbest estimator xgboost's best error=0.1695\n",
            "[flaml.automl: 04-02 09:18:11] {2567} INFO - iteration 21, current learner xgboost\n",
            "[flaml.automl: 04-02 09:18:12] {2750} INFO -  at 8.5s,\testimator xgboost's best error=0.1677,\tbest estimator xgboost's best error=0.1677\n",
            "[flaml.automl: 04-02 09:18:12] {2567} INFO - iteration 22, current learner xgboost\n",
            "[flaml.automl: 04-02 09:18:12] {2750} INFO -  at 8.9s,\testimator xgboost's best error=0.1677,\tbest estimator xgboost's best error=0.1677\n",
            "[flaml.automl: 04-02 09:18:12] {2567} INFO - iteration 23, current learner xgboost\n",
            "[flaml.automl: 04-02 09:18:13] {2750} INFO -  at 9.6s,\testimator xgboost's best error=0.1677,\tbest estimator xgboost's best error=0.1677\n",
            "[flaml.automl: 04-02 09:18:13] {2567} INFO - iteration 24, current learner xgboost\n",
            "[flaml.automl: 04-02 09:18:13] {2750} INFO -  at 10.0s,\testimator xgboost's best error=0.1677,\tbest estimator xgboost's best error=0.1677\n",
            "[flaml.automl: 04-02 09:18:13] {2567} INFO - iteration 25, current learner xgboost\n",
            "[flaml.automl: 04-02 09:18:14] {2750} INFO -  at 10.7s,\testimator xgboost's best error=0.1664,\tbest estimator xgboost's best error=0.1664\n",
            "[flaml.automl: 04-02 09:18:14] {2567} INFO - iteration 26, current learner xgboost\n",
            "[flaml.automl: 04-02 09:18:15] {2750} INFO -  at 11.2s,\testimator xgboost's best error=0.1664,\tbest estimator xgboost's best error=0.1664\n",
            "[flaml.automl: 04-02 09:18:15] {2567} INFO - iteration 27, current learner xgboost\n",
            "[flaml.automl: 04-02 09:18:16] {2750} INFO -  at 12.6s,\testimator xgboost's best error=0.1646,\tbest estimator xgboost's best error=0.1646\n",
            "[flaml.automl: 04-02 09:18:16] {2567} INFO - iteration 28, current learner xgboost\n",
            "[flaml.automl: 04-02 09:18:17] {2750} INFO -  at 13.9s,\testimator xgboost's best error=0.1646,\tbest estimator xgboost's best error=0.1646\n",
            "[flaml.automl: 04-02 09:18:17] {2567} INFO - iteration 29, current learner rf\n",
            "[flaml.automl: 04-02 09:18:18] {2750} INFO -  at 14.4s,\testimator rf's best error=0.1870,\tbest estimator xgboost's best error=0.1646\n",
            "[flaml.automl: 04-02 09:18:18] {2567} INFO - iteration 30, current learner xgboost\n",
            "[flaml.automl: 04-02 09:18:20] {2750} INFO -  at 16.1s,\testimator xgboost's best error=0.1646,\tbest estimator xgboost's best error=0.1646\n",
            "[flaml.automl: 04-02 09:18:20] {2567} INFO - iteration 31, current learner xgboost\n",
            "[flaml.automl: 04-02 09:18:20] {2750} INFO -  at 17.0s,\testimator xgboost's best error=0.1646,\tbest estimator xgboost's best error=0.1646\n",
            "[flaml.automl: 04-02 09:18:20] {2567} INFO - iteration 32, current learner rf\n",
            "[flaml.automl: 04-02 09:18:21] {2750} INFO -  at 17.5s,\testimator rf's best error=0.1870,\tbest estimator xgboost's best error=0.1646\n",
            "[flaml.automl: 04-02 09:18:21] {2567} INFO - iteration 33, current learner xgboost\n",
            "[flaml.automl: 04-02 09:18:24] {2750} INFO -  at 20.7s,\testimator xgboost's best error=0.1646,\tbest estimator xgboost's best error=0.1646\n",
            "[flaml.automl: 04-02 09:18:24] {2567} INFO - iteration 34, current learner xgboost\n",
            "[flaml.automl: 04-02 09:18:28] {2750} INFO -  at 24.2s,\testimator xgboost's best error=0.1646,\tbest estimator xgboost's best error=0.1646\n",
            "[flaml.automl: 04-02 09:18:28] {2567} INFO - iteration 35, current learner xgboost\n",
            "[flaml.automl: 04-02 09:18:31] {2750} INFO -  at 27.4s,\testimator xgboost's best error=0.1646,\tbest estimator xgboost's best error=0.1646\n",
            "[flaml.automl: 04-02 09:18:31] {2567} INFO - iteration 36, current learner xgboost\n",
            "[flaml.automl: 04-02 09:19:01] {2750} INFO -  at 57.4s,\testimator xgboost's best error=0.1623,\tbest estimator xgboost's best error=0.1623\n",
            "[flaml.automl: 04-02 09:19:01] {2567} INFO - iteration 37, current learner rf\n",
            "[flaml.automl: 04-02 09:19:01] {2750} INFO -  at 57.5s,\testimator rf's best error=0.1870,\tbest estimator xgboost's best error=0.1623\n",
            "[flaml.automl: 04-02 09:19:01] {2567} INFO - iteration 38, current learner rf\n",
            "[flaml.automl: 04-02 09:19:01] {2750} INFO -  at 57.7s,\testimator rf's best error=0.1870,\tbest estimator xgboost's best error=0.1623\n",
            "[flaml.automl: 04-02 09:19:01] {2567} INFO - iteration 39, current learner rf\n",
            "[flaml.automl: 04-02 09:19:01] {2750} INFO -  at 57.8s,\testimator rf's best error=0.1870,\tbest estimator xgboost's best error=0.1623\n",
            "[flaml.automl: 04-02 09:19:01] {2567} INFO - iteration 40, current learner rf\n",
            "[flaml.automl: 04-02 09:19:01] {2750} INFO -  at 58.0s,\testimator rf's best error=0.1870,\tbest estimator xgboost's best error=0.1623\n",
            "[flaml.automl: 04-02 09:19:01] {2567} INFO - iteration 41, current learner rf\n",
            "[flaml.automl: 04-02 09:19:02] {2750} INFO -  at 58.1s,\testimator rf's best error=0.1870,\tbest estimator xgboost's best error=0.1623\n",
            "[flaml.automl: 04-02 09:19:02] {2567} INFO - iteration 42, current learner rf\n",
            "[flaml.automl: 04-02 09:19:02] {2750} INFO -  at 58.3s,\testimator rf's best error=0.1870,\tbest estimator xgboost's best error=0.1623\n",
            "[flaml.automl: 04-02 09:19:02] {2567} INFO - iteration 43, current learner rf\n",
            "[flaml.automl: 04-02 09:19:02] {2750} INFO -  at 58.4s,\testimator rf's best error=0.1870,\tbest estimator xgboost's best error=0.1623\n",
            "[flaml.automl: 04-02 09:19:02] {2567} INFO - iteration 44, current learner rf\n",
            "[flaml.automl: 04-02 09:19:02] {2750} INFO -  at 58.6s,\testimator rf's best error=0.1870,\tbest estimator xgboost's best error=0.1623\n",
            "[flaml.automl: 04-02 09:19:02] {2567} INFO - iteration 45, current learner rf\n",
            "[flaml.automl: 04-02 09:19:02] {2750} INFO -  at 58.7s,\testimator rf's best error=0.1870,\tbest estimator xgboost's best error=0.1623\n",
            "[flaml.automl: 04-02 09:19:02] {2567} INFO - iteration 46, current learner rf\n",
            "[flaml.automl: 04-02 09:19:02] {2750} INFO -  at 58.9s,\testimator rf's best error=0.1870,\tbest estimator xgboost's best error=0.1623\n",
            "[flaml.automl: 04-02 09:19:02] {2567} INFO - iteration 47, current learner rf\n",
            "[flaml.automl: 04-02 09:19:02] {2750} INFO -  at 59.0s,\testimator rf's best error=0.1870,\tbest estimator xgboost's best error=0.1623\n",
            "[flaml.automl: 04-02 09:19:02] {2567} INFO - iteration 48, current learner rf\n",
            "[flaml.automl: 04-02 09:19:03] {2750} INFO -  at 59.2s,\testimator rf's best error=0.1870,\tbest estimator xgboost's best error=0.1623\n",
            "[flaml.automl: 04-02 09:19:03] {2567} INFO - iteration 49, current learner rf\n",
            "[flaml.automl: 04-02 09:19:03] {2750} INFO -  at 59.3s,\testimator rf's best error=0.1870,\tbest estimator xgboost's best error=0.1623\n",
            "[flaml.automl: 04-02 09:19:03] {2567} INFO - iteration 50, current learner rf\n",
            "[flaml.automl: 04-02 09:19:03] {2750} INFO -  at 59.5s,\testimator rf's best error=0.1870,\tbest estimator xgboost's best error=0.1623\n",
            "[flaml.automl: 04-02 09:19:03] {2567} INFO - iteration 51, current learner rf\n",
            "[flaml.automl: 04-02 09:19:03] {2750} INFO -  at 59.6s,\testimator rf's best error=0.1870,\tbest estimator xgboost's best error=0.1623\n",
            "[flaml.automl: 04-02 09:19:37] {2976} INFO - retrain xgboost for 34.0s\n",
            "[flaml.automl: 04-02 09:19:37] {2981} INFO - retrained model: XGBClassifier(colsample_bylevel=0.8490633393816673,\n",
            "              colsample_bytree=0.8501582165474667, grow_policy='lossguide',\n",
            "              learning_rate=0.052998640031981195, max_depth=0, max_leaves=279,\n",
            "              min_child_weight=4.05164716830016, n_estimators=231, n_jobs=-1,\n",
            "              reg_alpha=0.011728535554234117, reg_lambda=0.8243892535277468,\n",
            "              subsample=0.7323612940065832, tree_method='hist',\n",
            "              use_label_encoder=False, verbosity=0)\n",
            "[flaml.automl: 04-02 09:19:37] {2310} INFO - fit succeeded\n",
            "[flaml.automl: 04-02 09:19:37] {2312} INFO - Time taken to find the best model: 57.37217426300049\n",
            "[flaml.automl: 04-02 09:19:37] {2326} WARNING - Time taken to find the best model is 96% of the provided time budget and not all estimators' hyperparameter search converged. Consider increasing the time budget.\n"
          ]
        }
      ],
      "source": [
        "from flaml import AutoML\n",
        "automl = AutoML()\n",
        "automl.fit(X_train_n, y_train_n, task=\"classification\", metric = \"roc_auc\", estimator_list=['rf','xgboost']);"
      ]
    },
    {
      "cell_type": "code",
      "execution_count": null,
      "metadata": {
        "id": "j0M5-1JsxCcD"
      },
      "outputs": [],
      "source": [
        "y_test_pred_FLAML = automl.predict(X_test_n)\n"
      ]
    },
    {
      "cell_type": "code",
      "source": [
        "print(automl.model.estimator)"
      ],
      "metadata": {
        "colab": {
          "base_uri": "https://localhost:8080/"
        },
        "id": "lOLsqDYw0yx7",
        "outputId": "97a38601-d609-480e-e0ed-2c85f5307540"
      },
      "execution_count": null,
      "outputs": [
        {
          "output_type": "stream",
          "name": "stdout",
          "text": [
            "XGBClassifier(colsample_bylevel=0.8490633393816673,\n",
            "              colsample_bytree=0.8501582165474667, grow_policy='lossguide',\n",
            "              learning_rate=0.052998640031981195, max_depth=0, max_leaves=279,\n",
            "              min_child_weight=4.05164716830016, n_estimators=231, n_jobs=-1,\n",
            "              reg_alpha=0.011728535554234117, reg_lambda=0.8243892535277468,\n",
            "              subsample=0.7323612940065832, tree_method='hist',\n",
            "              use_label_encoder=False, verbosity=0)\n"
          ]
        }
      ]
    },
    {
      "cell_type": "code",
      "source": [
        "### WE Found\n",
        "# XGBClassifier(colsample_bylevel=0.8490633393816673,\n",
        "#               colsample_bytree=0.8501582165474667, grow_policy='lossguide',\n",
        "#               learning_rate=0.052998640031981195, max_depth=0, max_leaves=279,\n",
        "#               min_child_weight=4.05164716830016, n_estimators=231, n_jobs=-1,\n",
        "#               reg_alpha=0.011728535554234117, reg_lambda=0.8243892535277468,\n",
        "#               subsample=0.7323612940065832, tree_method='hist',\n",
        "#               use_label_encoder=False, verbosity=0)"
      ],
      "metadata": {
        "id": "4euV5Qu2nM1b"
      },
      "execution_count": null,
      "outputs": []
    },
    {
      "cell_type": "code",
      "source": [
        "### ROC and AUC\n",
        "# ROC\n",
        "\n",
        "test_fpr_FLAML , test_tpr_FLAML , test_thresh_FLAML = roc_curve(y_test_n, y_test_pred_FLAML)\n",
        "# AUC\n",
        "\n",
        "test_auc_FLAML = auc(test_fpr_FLAML, test_tpr_FLAML)\n",
        "\n",
        "\n",
        "\n",
        "print('Validation AUC: {:.4}'.format(test_auc_FLAML))\n",
        "print(\"Test precision_score: {:.4}\".format(precision_score(y_test_n, y_test_pred_FLAML)))\n",
        "print(\"Test recall_score: {:.4}\".format(recall_score(y_test_n, y_test_pred_FLAML)))\n",
        "print(\"f1_score: {:.4}\".format(f1_score(y_test_n, y_test_pred_FLAML)))"
      ],
      "metadata": {
        "colab": {
          "base_uri": "https://localhost:8080/"
        },
        "id": "johR9_Lx4Fd_",
        "outputId": "4cdf6d4a-6175-4062-c8db-5d0520008436"
      },
      "execution_count": null,
      "outputs": [
        {
          "output_type": "stream",
          "name": "stdout",
          "text": [
            "Validation AUC: 0.5426\n",
            "Test precision_score: 0.5204\n",
            "Test recall_score: 0.09335\n",
            "f1_score: 0.1583\n"
          ]
        }
      ]
    },
    {
      "cell_type": "code",
      "source": [
        ""
      ],
      "metadata": {
        "id": "DdC-Ph1g5531"
      },
      "execution_count": null,
      "outputs": []
    },
    {
      "cell_type": "markdown",
      "source": [
        "# New XGBoost Based on FLAML"
      ],
      "metadata": {
        "id": "IMp3S1x8k6e8"
      }
    },
    {
      "cell_type": "code",
      "source": [
        "params = {\n",
        "              \"colsample_bylevel\" : 0.8490633393816673,\n",
        "              \"colsample_bytree\" : 0.8501582165474667, \n",
        "              \"grow_policy\" :'lossguide',\n",
        "              \"learning_rate\" : 0.052998640031981195, \n",
        "              \"max_depth\" : 0, \n",
        "              \"max_leaves\" : 279,\n",
        "              \"min_child_weight\" : 4.05164716830016, \n",
        "              \"n_estimators\" : 231, \n",
        "              \"n_jobs\" : -1,\n",
        "              \"reg_alpha\" : 0.011728535554234117, \n",
        "              \"reg_lambda\" : 0.8243892535277468,\n",
        "              \"subsample\" : 0.7323612940065832, \n",
        "              \"tree_method\" : 'hist',\n",
        "              \"use_label_encoder\" : False,\n",
        "              \"verbosity\" : 0\n",
        "}\n",
        "\n",
        "Train_dmatrix = xgb.DMatrix(data = X_train_smote, label = y_train_smote)\n",
        "Test_dmatrix = xgb.DMatrix(data = X_test, label = y_test)\n",
        "\n",
        "second_xgb = xgb.XGBClassifier(objective='binary:logistic', seed = 42)\n",
        "cv_results = xgb.cv(dtrain=Train_dmatrix, params=params, nfold=4,\n",
        "        num_boost_round=10, metrics=\"auc\", as_pandas=True)\n",
        "# second_xgb.fit(X_train_smote, y_train_smote, param = params)"
      ],
      "metadata": {
        "id": "aIilAhSck5hE"
      },
      "execution_count": null,
      "outputs": []
    },
    {
      "cell_type": "code",
      "source": [
        "cv_results"
      ],
      "metadata": {
        "colab": {
          "base_uri": "https://localhost:8080/",
          "height": 362
        },
        "id": "1MD9yYAXlv0Q",
        "outputId": "18fee375-49eb-4620-bc20-322fba7232c7"
      },
      "execution_count": null,
      "outputs": [
        {
          "output_type": "execute_result",
          "data": {
            "text/plain": [
              "   train-auc-mean  train-auc-std  test-auc-mean  test-auc-std\n",
              "0        0.854627       0.001704       0.853066      0.001905\n",
              "1        0.872088       0.002608       0.870449      0.003009\n",
              "2        0.874828       0.004805       0.873110      0.005454\n",
              "3        0.881235       0.002437       0.879609      0.002898\n",
              "4        0.883815       0.003138       0.882166      0.003474\n",
              "5        0.884879       0.003992       0.883261      0.004362\n",
              "6        0.887449       0.002664       0.885693      0.002892\n",
              "7        0.889468       0.002362       0.887712      0.002650\n",
              "8        0.891043       0.001637       0.889211      0.002004\n",
              "9        0.892634       0.001092       0.890802      0.001615"
            ],
            "text/html": [
              "\n",
              "  <div id=\"df-09696c67-7209-4f14-ab20-386db59112b1\">\n",
              "    <div class=\"colab-df-container\">\n",
              "      <div>\n",
              "<style scoped>\n",
              "    .dataframe tbody tr th:only-of-type {\n",
              "        vertical-align: middle;\n",
              "    }\n",
              "\n",
              "    .dataframe tbody tr th {\n",
              "        vertical-align: top;\n",
              "    }\n",
              "\n",
              "    .dataframe thead th {\n",
              "        text-align: right;\n",
              "    }\n",
              "</style>\n",
              "<table border=\"1\" class=\"dataframe\">\n",
              "  <thead>\n",
              "    <tr style=\"text-align: right;\">\n",
              "      <th></th>\n",
              "      <th>train-auc-mean</th>\n",
              "      <th>train-auc-std</th>\n",
              "      <th>test-auc-mean</th>\n",
              "      <th>test-auc-std</th>\n",
              "    </tr>\n",
              "  </thead>\n",
              "  <tbody>\n",
              "    <tr>\n",
              "      <th>0</th>\n",
              "      <td>0.854627</td>\n",
              "      <td>0.001704</td>\n",
              "      <td>0.853066</td>\n",
              "      <td>0.001905</td>\n",
              "    </tr>\n",
              "    <tr>\n",
              "      <th>1</th>\n",
              "      <td>0.872088</td>\n",
              "      <td>0.002608</td>\n",
              "      <td>0.870449</td>\n",
              "      <td>0.003009</td>\n",
              "    </tr>\n",
              "    <tr>\n",
              "      <th>2</th>\n",
              "      <td>0.874828</td>\n",
              "      <td>0.004805</td>\n",
              "      <td>0.873110</td>\n",
              "      <td>0.005454</td>\n",
              "    </tr>\n",
              "    <tr>\n",
              "      <th>3</th>\n",
              "      <td>0.881235</td>\n",
              "      <td>0.002437</td>\n",
              "      <td>0.879609</td>\n",
              "      <td>0.002898</td>\n",
              "    </tr>\n",
              "    <tr>\n",
              "      <th>4</th>\n",
              "      <td>0.883815</td>\n",
              "      <td>0.003138</td>\n",
              "      <td>0.882166</td>\n",
              "      <td>0.003474</td>\n",
              "    </tr>\n",
              "    <tr>\n",
              "      <th>5</th>\n",
              "      <td>0.884879</td>\n",
              "      <td>0.003992</td>\n",
              "      <td>0.883261</td>\n",
              "      <td>0.004362</td>\n",
              "    </tr>\n",
              "    <tr>\n",
              "      <th>6</th>\n",
              "      <td>0.887449</td>\n",
              "      <td>0.002664</td>\n",
              "      <td>0.885693</td>\n",
              "      <td>0.002892</td>\n",
              "    </tr>\n",
              "    <tr>\n",
              "      <th>7</th>\n",
              "      <td>0.889468</td>\n",
              "      <td>0.002362</td>\n",
              "      <td>0.887712</td>\n",
              "      <td>0.002650</td>\n",
              "    </tr>\n",
              "    <tr>\n",
              "      <th>8</th>\n",
              "      <td>0.891043</td>\n",
              "      <td>0.001637</td>\n",
              "      <td>0.889211</td>\n",
              "      <td>0.002004</td>\n",
              "    </tr>\n",
              "    <tr>\n",
              "      <th>9</th>\n",
              "      <td>0.892634</td>\n",
              "      <td>0.001092</td>\n",
              "      <td>0.890802</td>\n",
              "      <td>0.001615</td>\n",
              "    </tr>\n",
              "  </tbody>\n",
              "</table>\n",
              "</div>\n",
              "      <button class=\"colab-df-convert\" onclick=\"convertToInteractive('df-09696c67-7209-4f14-ab20-386db59112b1')\"\n",
              "              title=\"Convert this dataframe to an interactive table.\"\n",
              "              style=\"display:none;\">\n",
              "        \n",
              "  <svg xmlns=\"http://www.w3.org/2000/svg\" height=\"24px\"viewBox=\"0 0 24 24\"\n",
              "       width=\"24px\">\n",
              "    <path d=\"M0 0h24v24H0V0z\" fill=\"none\"/>\n",
              "    <path d=\"M18.56 5.44l.94 2.06.94-2.06 2.06-.94-2.06-.94-.94-2.06-.94 2.06-2.06.94zm-11 1L8.5 8.5l.94-2.06 2.06-.94-2.06-.94L8.5 2.5l-.94 2.06-2.06.94zm10 10l.94 2.06.94-2.06 2.06-.94-2.06-.94-.94-2.06-.94 2.06-2.06.94z\"/><path d=\"M17.41 7.96l-1.37-1.37c-.4-.4-.92-.59-1.43-.59-.52 0-1.04.2-1.43.59L10.3 9.45l-7.72 7.72c-.78.78-.78 2.05 0 2.83L4 21.41c.39.39.9.59 1.41.59.51 0 1.02-.2 1.41-.59l7.78-7.78 2.81-2.81c.8-.78.8-2.07 0-2.86zM5.41 20L4 18.59l7.72-7.72 1.47 1.35L5.41 20z\"/>\n",
              "  </svg>\n",
              "      </button>\n",
              "      \n",
              "  <style>\n",
              "    .colab-df-container {\n",
              "      display:flex;\n",
              "      flex-wrap:wrap;\n",
              "      gap: 12px;\n",
              "    }\n",
              "\n",
              "    .colab-df-convert {\n",
              "      background-color: #E8F0FE;\n",
              "      border: none;\n",
              "      border-radius: 50%;\n",
              "      cursor: pointer;\n",
              "      display: none;\n",
              "      fill: #1967D2;\n",
              "      height: 32px;\n",
              "      padding: 0 0 0 0;\n",
              "      width: 32px;\n",
              "    }\n",
              "\n",
              "    .colab-df-convert:hover {\n",
              "      background-color: #E2EBFA;\n",
              "      box-shadow: 0px 1px 2px rgba(60, 64, 67, 0.3), 0px 1px 3px 1px rgba(60, 64, 67, 0.15);\n",
              "      fill: #174EA6;\n",
              "    }\n",
              "\n",
              "    [theme=dark] .colab-df-convert {\n",
              "      background-color: #3B4455;\n",
              "      fill: #D2E3FC;\n",
              "    }\n",
              "\n",
              "    [theme=dark] .colab-df-convert:hover {\n",
              "      background-color: #434B5C;\n",
              "      box-shadow: 0px 1px 3px 1px rgba(0, 0, 0, 0.15);\n",
              "      filter: drop-shadow(0px 1px 2px rgba(0, 0, 0, 0.3));\n",
              "      fill: #FFFFFF;\n",
              "    }\n",
              "  </style>\n",
              "\n",
              "      <script>\n",
              "        const buttonEl =\n",
              "          document.querySelector('#df-09696c67-7209-4f14-ab20-386db59112b1 button.colab-df-convert');\n",
              "        buttonEl.style.display =\n",
              "          google.colab.kernel.accessAllowed ? 'block' : 'none';\n",
              "\n",
              "        async function convertToInteractive(key) {\n",
              "          const element = document.querySelector('#df-09696c67-7209-4f14-ab20-386db59112b1');\n",
              "          const dataTable =\n",
              "            await google.colab.kernel.invokeFunction('convertToInteractive',\n",
              "                                                     [key], {});\n",
              "          if (!dataTable) return;\n",
              "\n",
              "          const docLinkHtml = 'Like what you see? Visit the ' +\n",
              "            '<a target=\"_blank\" href=https://colab.research.google.com/notebooks/data_table.ipynb>data table notebook</a>'\n",
              "            + ' to learn more about interactive tables.';\n",
              "          element.innerHTML = '';\n",
              "          dataTable['output_type'] = 'display_data';\n",
              "          await google.colab.output.renderOutput(dataTable, element);\n",
              "          const docLink = document.createElement('div');\n",
              "          docLink.innerHTML = docLinkHtml;\n",
              "          element.appendChild(docLink);\n",
              "        }\n",
              "      </script>\n",
              "    </div>\n",
              "  </div>\n",
              "  "
            ]
          },
          "metadata": {},
          "execution_count": 43
        }
      ]
    },
    {
      "cell_type": "code",
      "source": [
        "xgb_third = xgb.XGBClassifier(objective='binary:logistic', seed = 42, param = params)"
      ],
      "metadata": {
        "id": "J5rYzCJHnTEI"
      },
      "execution_count": null,
      "outputs": []
    },
    {
      "cell_type": "code",
      "source": [
        "xgb_third.fit(X_train_smote, y_train_smote)"
      ],
      "metadata": {
        "colab": {
          "base_uri": "https://localhost:8080/"
        },
        "id": "zjTRV52fnvAz",
        "outputId": "96dda5f6-adbd-4460-fc2e-ee71967f74e4"
      },
      "execution_count": null,
      "outputs": [
        {
          "output_type": "execute_result",
          "data": {
            "text/plain": [
              "XGBClassifier(param={'colsample_bylevel': 0.8490633393816673,\n",
              "                     'colsample_bytree': 0.8501582165474667,\n",
              "                     'grow_policy': 'lossguide',\n",
              "                     'learning_rate': 0.052998640031981195, 'max_depth': 0,\n",
              "                     'max_leaves': 279, 'min_child_weight': 4.05164716830016,\n",
              "                     'n_estimators': 231, 'n_jobs': -1,\n",
              "                     'reg_alpha': 0.011728535554234117,\n",
              "                     'reg_lambda': 0.8243892535277468,\n",
              "                     'subsample': 0.7323612940065832, 'tree_method': 'hist',\n",
              "                     'use_label_encoder': False, 'verbosity': 0},\n",
              "              seed=42)"
            ]
          },
          "metadata": {},
          "execution_count": 53
        }
      ]
    },
    {
      "cell_type": "code",
      "source": [
        "xgb_third_preds = xgb_third.predict(X_test)\n",
        "\n",
        "\n",
        "### ROC and AUC\n",
        "# ROC\n",
        "\n",
        "test_fpr_xgb , test_tpr_xgb , test_thresh_xgb = roc_curve(y_test, xgb_third_preds)\n",
        "# AUC\n",
        "\n",
        "test_auc_xgb  = auc(test_fpr_xgb, test_tpr_xgb)\n",
        "precision_xgb = precision_score(y_test, xgb_third_preds)\n",
        "recall_xgb = recall_score(y_test, xgb_third_preds)\n",
        "f1_xgb = f1_score(y_test, xgb_third_preds)\n",
        "\n",
        "print('Validation AUC: {:.4}'.format(test_auc_xgb))\n",
        "print(\"Test precision_score: {:.4}\".format(precision_xgb))\n",
        "print(\"Test recall_score: {:.4}\".format(recall_xgb))\n",
        "print(\"f1_score: {:.4}\".format(f1_xgb))"
      ],
      "metadata": {
        "colab": {
          "base_uri": "https://localhost:8080/"
        },
        "id": "G03Ouzirn6nq",
        "outputId": "77a8b652-2e3c-4de6-f58f-8e0768536f07"
      },
      "execution_count": null,
      "outputs": [
        {
          "output_type": "stream",
          "name": "stdout",
          "text": [
            "Validation AUC: 0.7343\n",
            "Test precision_score: 0.2028\n",
            "Test recall_score: 0.7414\n",
            "f1_score: 0.3185\n"
          ]
        }
      ]
    },
    {
      "cell_type": "code",
      "source": [
        "! git add --all"
      ],
      "metadata": {
        "colab": {
          "base_uri": "https://localhost:8080/"
        },
        "id": "K-IsTz7En-LZ",
        "outputId": "56292022-2281-4daf-d9eb-cdcf2f0723b0"
      },
      "execution_count": null,
      "outputs": [
        {
          "output_type": "stream",
          "name": "stdout",
          "text": [
            "fatal: not a git repository (or any of the parent directories): .git\n"
          ]
        }
      ]
    },
    {
      "cell_type": "code",
      "source": [
        ""
      ],
      "metadata": {
        "id": "W58iKxIvpjL6"
      },
      "execution_count": null,
      "outputs": []
    }
  ],
  "metadata": {
    "kernelspec": {
      "display_name": "Python 3",
      "language": "python",
      "name": "python3"
    },
    "language_info": {
      "codemirror_mode": {
        "name": "ipython",
        "version": 3
      },
      "file_extension": ".py",
      "mimetype": "text/x-python",
      "name": "python",
      "nbconvert_exporter": "python",
      "pygments_lexer": "ipython3",
      "version": "3.8.5"
    },
    "latex_envs": {
      "LaTeX_envs_menu_present": true,
      "autoclose": false,
      "autocomplete": true,
      "bibliofile": "biblio.bib",
      "cite_by": "apalike",
      "current_citInitial": 1,
      "eqLabelWithNumbers": true,
      "eqNumInitial": 1,
      "hotkeys": {
        "equation": "Ctrl-E",
        "itemize": "Ctrl-I"
      },
      "labels_anchors": false,
      "latex_user_defs": false,
      "report_style_numbering": false,
      "user_envs_cfg": false
    },
    "toc": {
      "base_numbering": 1,
      "nav_menu": {},
      "number_sections": true,
      "sideBar": true,
      "skip_h1_title": false,
      "title_cell": "Table of Contents",
      "title_sidebar": "Contents",
      "toc_cell": false,
      "toc_position": {},
      "toc_section_display": true,
      "toc_window_display": false
    },
    "varInspector": {
      "cols": {
        "lenName": 16,
        "lenType": 16,
        "lenVar": 40
      },
      "kernels_config": {
        "python": {
          "delete_cmd_postfix": "",
          "delete_cmd_prefix": "del ",
          "library": "var_list.py",
          "varRefreshCmd": "print(var_dic_list())"
        },
        "r": {
          "delete_cmd_postfix": ") ",
          "delete_cmd_prefix": "rm(",
          "library": "var_list.r",
          "varRefreshCmd": "cat(var_dic_list()) "
        }
      },
      "types_to_exclude": [
        "module",
        "function",
        "builtin_function_or_method",
        "instance",
        "_Feature"
      ],
      "window_display": false
    },
    "colab": {
      "name": "Copy of index.ipynb",
      "provenance": [],
      "include_colab_link": true
    }
  },
  "nbformat": 4,
  "nbformat_minor": 0
}